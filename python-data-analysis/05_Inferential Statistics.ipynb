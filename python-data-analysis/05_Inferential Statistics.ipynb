{
 "cells": [
  {
   "cell_type": "markdown",
   "id": "89219391-8709-45e8-9d63-49f13229a9fb",
   "metadata": {},
   "source": [
    "## INFERENTIAL STATISTICS"
   ]
  },
  {
   "cell_type": "markdown",
   "id": "dfc3e219-e9fc-4bc2-a383-a9ab67d515f2",
   "metadata": {},
   "source": [
    "### What's inferential statistics? \n",
    "\n",
    "In contrast to descriptive statistics, inferential statistics want to make a statement about the population. \n",
    "\n",
    "However, since it is almost impossible in most cases to survey the entire population, a sample is used, i.e. a small data set originating from the population. \n",
    "\n",
    "With this sample a statement about the population can be made. An example would be if a sample of 1,000 citizens is taken from the population of all Canadian citizens.\n",
    "\n",
    "![](https://datatab.net/assets/tutorial/inferential_statistics_definition.png)\n",
    "\n",
    "![](https://datatab.net/assets/tutorial/inferential-statistics-methods.png)"
   ]
  },
  {
   "cell_type": "code",
   "execution_count": 1,
   "id": "31b6fe5a-29a4-4d77-9b24-63f20d9d8537",
   "metadata": {},
   "outputs": [],
   "source": [
    "import pandas as pd\n",
    "import numpy as np\n",
    "import matplotlib.pyplot as plt\n",
    "import seaborn as sns\n",
    "\n",
    "import warnings\n",
    "warnings.filterwarnings('ignore')"
   ]
  },
  {
   "cell_type": "code",
   "execution_count": 2,
   "id": "850de0c1-2054-4e7b-b441-79f08b44edf5",
   "metadata": {},
   "outputs": [
    {
     "data": {
      "text/plain": [
       "(1460, 81)"
      ]
     },
     "execution_count": 2,
     "metadata": {},
     "output_type": "execute_result"
    }
   ],
   "source": [
    "# import data\n",
    "df = pd.read_csv('data/train.csv', sep = ',')\n",
    "\n",
    "# check shape\n",
    "df.shape"
   ]
  },
  {
   "cell_type": "code",
   "execution_count": 3,
   "id": "be6a0f26-f8fe-4806-a12b-3493d7ef889d",
   "metadata": {},
   "outputs": [
    {
     "data": {
      "text/html": [
       "<div>\n",
       "<style scoped>\n",
       "    .dataframe tbody tr th:only-of-type {\n",
       "        vertical-align: middle;\n",
       "    }\n",
       "\n",
       "    .dataframe tbody tr th {\n",
       "        vertical-align: top;\n",
       "    }\n",
       "\n",
       "    .dataframe thead th {\n",
       "        text-align: right;\n",
       "    }\n",
       "</style>\n",
       "<table border=\"1\" class=\"dataframe\">\n",
       "  <thead>\n",
       "    <tr style=\"text-align: right;\">\n",
       "      <th></th>\n",
       "      <th>Id</th>\n",
       "      <th>MSSubClass</th>\n",
       "      <th>MSZoning</th>\n",
       "      <th>LotFrontage</th>\n",
       "      <th>LotArea</th>\n",
       "      <th>Street</th>\n",
       "      <th>Alley</th>\n",
       "      <th>LotShape</th>\n",
       "      <th>LandContour</th>\n",
       "      <th>Utilities</th>\n",
       "      <th>...</th>\n",
       "      <th>PoolArea</th>\n",
       "      <th>PoolQC</th>\n",
       "      <th>Fence</th>\n",
       "      <th>MiscFeature</th>\n",
       "      <th>MiscVal</th>\n",
       "      <th>MoSold</th>\n",
       "      <th>YrSold</th>\n",
       "      <th>SaleType</th>\n",
       "      <th>SaleCondition</th>\n",
       "      <th>SalePrice</th>\n",
       "    </tr>\n",
       "  </thead>\n",
       "  <tbody>\n",
       "    <tr>\n",
       "      <th>0</th>\n",
       "      <td>1</td>\n",
       "      <td>60</td>\n",
       "      <td>RL</td>\n",
       "      <td>65.0</td>\n",
       "      <td>8450</td>\n",
       "      <td>Pave</td>\n",
       "      <td>NaN</td>\n",
       "      <td>Reg</td>\n",
       "      <td>Lvl</td>\n",
       "      <td>AllPub</td>\n",
       "      <td>...</td>\n",
       "      <td>0</td>\n",
       "      <td>NaN</td>\n",
       "      <td>NaN</td>\n",
       "      <td>NaN</td>\n",
       "      <td>0</td>\n",
       "      <td>2</td>\n",
       "      <td>2008</td>\n",
       "      <td>WD</td>\n",
       "      <td>Normal</td>\n",
       "      <td>208500</td>\n",
       "    </tr>\n",
       "    <tr>\n",
       "      <th>1</th>\n",
       "      <td>2</td>\n",
       "      <td>20</td>\n",
       "      <td>RL</td>\n",
       "      <td>80.0</td>\n",
       "      <td>9600</td>\n",
       "      <td>Pave</td>\n",
       "      <td>NaN</td>\n",
       "      <td>Reg</td>\n",
       "      <td>Lvl</td>\n",
       "      <td>AllPub</td>\n",
       "      <td>...</td>\n",
       "      <td>0</td>\n",
       "      <td>NaN</td>\n",
       "      <td>NaN</td>\n",
       "      <td>NaN</td>\n",
       "      <td>0</td>\n",
       "      <td>5</td>\n",
       "      <td>2007</td>\n",
       "      <td>WD</td>\n",
       "      <td>Normal</td>\n",
       "      <td>181500</td>\n",
       "    </tr>\n",
       "    <tr>\n",
       "      <th>2</th>\n",
       "      <td>3</td>\n",
       "      <td>60</td>\n",
       "      <td>RL</td>\n",
       "      <td>68.0</td>\n",
       "      <td>11250</td>\n",
       "      <td>Pave</td>\n",
       "      <td>NaN</td>\n",
       "      <td>IR1</td>\n",
       "      <td>Lvl</td>\n",
       "      <td>AllPub</td>\n",
       "      <td>...</td>\n",
       "      <td>0</td>\n",
       "      <td>NaN</td>\n",
       "      <td>NaN</td>\n",
       "      <td>NaN</td>\n",
       "      <td>0</td>\n",
       "      <td>9</td>\n",
       "      <td>2008</td>\n",
       "      <td>WD</td>\n",
       "      <td>Normal</td>\n",
       "      <td>223500</td>\n",
       "    </tr>\n",
       "    <tr>\n",
       "      <th>3</th>\n",
       "      <td>4</td>\n",
       "      <td>70</td>\n",
       "      <td>RL</td>\n",
       "      <td>60.0</td>\n",
       "      <td>9550</td>\n",
       "      <td>Pave</td>\n",
       "      <td>NaN</td>\n",
       "      <td>IR1</td>\n",
       "      <td>Lvl</td>\n",
       "      <td>AllPub</td>\n",
       "      <td>...</td>\n",
       "      <td>0</td>\n",
       "      <td>NaN</td>\n",
       "      <td>NaN</td>\n",
       "      <td>NaN</td>\n",
       "      <td>0</td>\n",
       "      <td>2</td>\n",
       "      <td>2006</td>\n",
       "      <td>WD</td>\n",
       "      <td>Abnorml</td>\n",
       "      <td>140000</td>\n",
       "    </tr>\n",
       "    <tr>\n",
       "      <th>4</th>\n",
       "      <td>5</td>\n",
       "      <td>60</td>\n",
       "      <td>RL</td>\n",
       "      <td>84.0</td>\n",
       "      <td>14260</td>\n",
       "      <td>Pave</td>\n",
       "      <td>NaN</td>\n",
       "      <td>IR1</td>\n",
       "      <td>Lvl</td>\n",
       "      <td>AllPub</td>\n",
       "      <td>...</td>\n",
       "      <td>0</td>\n",
       "      <td>NaN</td>\n",
       "      <td>NaN</td>\n",
       "      <td>NaN</td>\n",
       "      <td>0</td>\n",
       "      <td>12</td>\n",
       "      <td>2008</td>\n",
       "      <td>WD</td>\n",
       "      <td>Normal</td>\n",
       "      <td>250000</td>\n",
       "    </tr>\n",
       "  </tbody>\n",
       "</table>\n",
       "<p>5 rows × 81 columns</p>\n",
       "</div>"
      ],
      "text/plain": [
       "   Id  MSSubClass MSZoning  LotFrontage  LotArea Street Alley LotShape  \\\n",
       "0   1          60       RL         65.0     8450   Pave   NaN      Reg   \n",
       "1   2          20       RL         80.0     9600   Pave   NaN      Reg   \n",
       "2   3          60       RL         68.0    11250   Pave   NaN      IR1   \n",
       "3   4          70       RL         60.0     9550   Pave   NaN      IR1   \n",
       "4   5          60       RL         84.0    14260   Pave   NaN      IR1   \n",
       "\n",
       "  LandContour Utilities  ... PoolArea PoolQC Fence MiscFeature MiscVal MoSold  \\\n",
       "0         Lvl    AllPub  ...        0    NaN   NaN         NaN       0      2   \n",
       "1         Lvl    AllPub  ...        0    NaN   NaN         NaN       0      5   \n",
       "2         Lvl    AllPub  ...        0    NaN   NaN         NaN       0      9   \n",
       "3         Lvl    AllPub  ...        0    NaN   NaN         NaN       0      2   \n",
       "4         Lvl    AllPub  ...        0    NaN   NaN         NaN       0     12   \n",
       "\n",
       "  YrSold  SaleType  SaleCondition  SalePrice  \n",
       "0   2008        WD         Normal     208500  \n",
       "1   2007        WD         Normal     181500  \n",
       "2   2008        WD         Normal     223500  \n",
       "3   2006        WD        Abnorml     140000  \n",
       "4   2008        WD         Normal     250000  \n",
       "\n",
       "[5 rows x 81 columns]"
      ]
     },
     "execution_count": 3,
     "metadata": {},
     "output_type": "execute_result"
    }
   ],
   "source": [
    "# check shape\n",
    "df.head()"
   ]
  },
  {
   "cell_type": "code",
   "execution_count": 4,
   "id": "b48f5e82-85e7-4342-af1b-d591ccff4230",
   "metadata": {},
   "outputs": [
    {
     "name": "stdout",
     "output_type": "stream",
     "text": [
      "<class 'pandas.core.frame.DataFrame'>\n",
      "RangeIndex: 1460 entries, 0 to 1459\n",
      "Data columns (total 81 columns):\n",
      " #   Column         Non-Null Count  Dtype  \n",
      "---  ------         --------------  -----  \n",
      " 0   Id             1460 non-null   int64  \n",
      " 1   MSSubClass     1460 non-null   int64  \n",
      " 2   MSZoning       1460 non-null   object \n",
      " 3   LotFrontage    1201 non-null   float64\n",
      " 4   LotArea        1460 non-null   int64  \n",
      " 5   Street         1460 non-null   object \n",
      " 6   Alley          91 non-null     object \n",
      " 7   LotShape       1460 non-null   object \n",
      " 8   LandContour    1460 non-null   object \n",
      " 9   Utilities      1460 non-null   object \n",
      " 10  LotConfig      1460 non-null   object \n",
      " 11  LandSlope      1460 non-null   object \n",
      " 12  Neighborhood   1460 non-null   object \n",
      " 13  Condition1     1460 non-null   object \n",
      " 14  Condition2     1460 non-null   object \n",
      " 15  BldgType       1460 non-null   object \n",
      " 16  HouseStyle     1460 non-null   object \n",
      " 17  OverallQual    1460 non-null   int64  \n",
      " 18  OverallCond    1460 non-null   int64  \n",
      " 19  YearBuilt      1460 non-null   int64  \n",
      " 20  YearRemodAdd   1460 non-null   int64  \n",
      " 21  RoofStyle      1460 non-null   object \n",
      " 22  RoofMatl       1460 non-null   object \n",
      " 23  Exterior1st    1460 non-null   object \n",
      " 24  Exterior2nd    1460 non-null   object \n",
      " 25  MasVnrType     588 non-null    object \n",
      " 26  MasVnrArea     1452 non-null   float64\n",
      " 27  ExterQual      1460 non-null   object \n",
      " 28  ExterCond      1460 non-null   object \n",
      " 29  Foundation     1460 non-null   object \n",
      " 30  BsmtQual       1423 non-null   object \n",
      " 31  BsmtCond       1423 non-null   object \n",
      " 32  BsmtExposure   1422 non-null   object \n",
      " 33  BsmtFinType1   1423 non-null   object \n",
      " 34  BsmtFinSF1     1460 non-null   int64  \n",
      " 35  BsmtFinType2   1422 non-null   object \n",
      " 36  BsmtFinSF2     1460 non-null   int64  \n",
      " 37  BsmtUnfSF      1460 non-null   int64  \n",
      " 38  TotalBsmtSF    1460 non-null   int64  \n",
      " 39  Heating        1460 non-null   object \n",
      " 40  HeatingQC      1460 non-null   object \n",
      " 41  CentralAir     1460 non-null   object \n",
      " 42  Electrical     1459 non-null   object \n",
      " 43  1stFlrSF       1460 non-null   int64  \n",
      " 44  2ndFlrSF       1460 non-null   int64  \n",
      " 45  LowQualFinSF   1460 non-null   int64  \n",
      " 46  GrLivArea      1460 non-null   int64  \n",
      " 47  BsmtFullBath   1460 non-null   int64  \n",
      " 48  BsmtHalfBath   1460 non-null   int64  \n",
      " 49  FullBath       1460 non-null   int64  \n",
      " 50  HalfBath       1460 non-null   int64  \n",
      " 51  BedroomAbvGr   1460 non-null   int64  \n",
      " 52  KitchenAbvGr   1460 non-null   int64  \n",
      " 53  KitchenQual    1460 non-null   object \n",
      " 54  TotRmsAbvGrd   1460 non-null   int64  \n",
      " 55  Functional     1460 non-null   object \n",
      " 56  Fireplaces     1460 non-null   int64  \n",
      " 57  FireplaceQu    770 non-null    object \n",
      " 58  GarageType     1379 non-null   object \n",
      " 59  GarageYrBlt    1379 non-null   float64\n",
      " 60  GarageFinish   1379 non-null   object \n",
      " 61  GarageCars     1460 non-null   int64  \n",
      " 62  GarageArea     1460 non-null   int64  \n",
      " 63  GarageQual     1379 non-null   object \n",
      " 64  GarageCond     1379 non-null   object \n",
      " 65  PavedDrive     1460 non-null   object \n",
      " 66  WoodDeckSF     1460 non-null   int64  \n",
      " 67  OpenPorchSF    1460 non-null   int64  \n",
      " 68  EnclosedPorch  1460 non-null   int64  \n",
      " 69  3SsnPorch      1460 non-null   int64  \n",
      " 70  ScreenPorch    1460 non-null   int64  \n",
      " 71  PoolArea       1460 non-null   int64  \n",
      " 72  PoolQC         7 non-null      object \n",
      " 73  Fence          281 non-null    object \n",
      " 74  MiscFeature    54 non-null     object \n",
      " 75  MiscVal        1460 non-null   int64  \n",
      " 76  MoSold         1460 non-null   int64  \n",
      " 77  YrSold         1460 non-null   int64  \n",
      " 78  SaleType       1460 non-null   object \n",
      " 79  SaleCondition  1460 non-null   object \n",
      " 80  SalePrice      1460 non-null   int64  \n",
      "dtypes: float64(3), int64(35), object(43)\n",
      "memory usage: 924.0+ KB\n"
     ]
    }
   ],
   "source": [
    "# check info\n",
    "df.info()"
   ]
  },
  {
   "cell_type": "code",
   "execution_count": 5,
   "id": "93d46cb2-9799-4fc6-a80a-0ad80ef385cd",
   "metadata": {},
   "outputs": [
    {
     "data": {
      "text/plain": [
       "Neighborhood\n",
       "NAmes      225\n",
       "CollgCr    150\n",
       "OldTown    113\n",
       "Edwards    100\n",
       "Somerst     86\n",
       "Gilbert     79\n",
       "NridgHt     77\n",
       "Sawyer      74\n",
       "NWAmes      73\n",
       "SawyerW     59\n",
       "BrkSide     58\n",
       "Crawfor     51\n",
       "Mitchel     49\n",
       "NoRidge     41\n",
       "Timber      38\n",
       "IDOTRR      37\n",
       "ClearCr     28\n",
       "StoneBr     25\n",
       "SWISU       25\n",
       "MeadowV     17\n",
       "Blmngtn     17\n",
       "BrDale      16\n",
       "Veenker     11\n",
       "NPkVill      9\n",
       "Blueste      2\n",
       "Name: count, dtype: int64"
      ]
     },
     "execution_count": 5,
     "metadata": {},
     "output_type": "execute_result"
    }
   ],
   "source": [
    "# check how many houses per Neighborhood \n",
    "df['Neighborhood'].value_counts()"
   ]
  },
  {
   "cell_type": "code",
   "execution_count": 6,
   "id": "c81b6a1b-6ccd-4a38-a5e0-1e3c7dbcf021",
   "metadata": {},
   "outputs": [
    {
     "data": {
      "text/plain": [
       "1460"
      ]
     },
     "execution_count": 6,
     "metadata": {},
     "output_type": "execute_result"
    }
   ],
   "source": [
    "# total houses in the neighbourhood\n",
    "all_houses = len(df)\n",
    "all_houses"
   ]
  },
  {
   "cell_type": "code",
   "execution_count": 7,
   "id": "d18f201e-2b50-4981-b54a-4b70ec70c8f4",
   "metadata": {},
   "outputs": [
    {
     "name": "stdout",
     "output_type": "stream",
     "text": [
      "CollgCr: 10.3%\n",
      "Veenker: 0.8%\n",
      "Crawfor: 3.5%\n",
      "NoRidge: 2.8%\n",
      "Mitchel: 3.4%\n",
      "Somerst: 5.9%\n",
      "NWAmes: 5.0%\n",
      "OldTown: 7.7%\n",
      "BrkSide: 4.0%\n",
      "Sawyer: 5.1%\n",
      "NridgHt: 5.3%\n",
      "NAmes: 15.4%\n",
      "SawyerW: 4.0%\n",
      "IDOTRR: 2.5%\n",
      "MeadowV: 1.2%\n",
      "Edwards: 6.8%\n",
      "Timber: 2.6%\n",
      "Gilbert: 5.4%\n",
      "StoneBr: 1.7%\n",
      "ClearCr: 1.9%\n",
      "NPkVill: 0.6%\n",
      "Blmngtn: 1.2%\n",
      "BrDale: 1.1%\n",
      "SWISU: 1.7%\n",
      "Blueste: 0.1%\n",
      "\n",
      "Total: 100%\n"
     ]
    }
   ],
   "source": [
    "# check the probability of choosing a house from each neighbourhood\n",
    "hoods = df['Neighborhood'].unique().tolist()\n",
    "\n",
    "x = []\n",
    "\n",
    "for i in hoods:\n",
    "    prob = round(len(df[df['Neighborhood'] == i]) / all_houses *100, 1)\n",
    "    print(f'{i}: {prob}%')\n",
    "    x.append(prob)\n",
    "\n",
    "print(f'\\nTotal: {int(sum(x))}%')"
   ]
  },
  {
   "cell_type": "code",
   "execution_count": 8,
   "id": "efc44db4-9bbd-469f-89b4-bd103af914fc",
   "metadata": {},
   "outputs": [
    {
     "data": {
      "text/plain": [
       "array(['Somerst', 'BrDale', 'Edwards', 'Mitchel', 'Edwards', 'Somerst',\n",
       "       'NAmes', 'IDOTRR', 'Mitchel', 'Veenker'], dtype=object)"
      ]
     },
     "execution_count": 8,
     "metadata": {},
     "output_type": "execute_result"
    }
   ],
   "source": [
    "# example of picking a random value\n",
    "np.random.choice(df['Neighborhood'], 10)"
   ]
  },
  {
   "cell_type": "markdown",
   "id": "a04761f6-c8d1-4e7b-a1c4-c0a5ecc7909a",
   "metadata": {},
   "source": [
    "### Conditional probability\n",
    "\n",
    "GIVEN that we have the probability of picking a house in OldTown neighborhood, we go a step further and AGAIN pick a house from the same neighborhood"
   ]
  },
  {
   "cell_type": "code",
   "execution_count": 9,
   "id": "a428d8bb-f898-43fa-9a3f-cd5fcbc21075",
   "metadata": {},
   "outputs": [
    {
     "data": {
      "text/plain": [
       "113"
      ]
     },
     "execution_count": 9,
     "metadata": {},
     "output_type": "execute_result"
    }
   ],
   "source": [
    "# total of houses in OldTown\n",
    "houses_oldtown = len(df[df['Neighborhood'] == 'OldTown'])\n",
    "houses_oldtown"
   ]
  },
  {
   "cell_type": "code",
   "execution_count": 10,
   "id": "d598f9ae-f125-4ef7-a8b4-1a6d78154f52",
   "metadata": {},
   "outputs": [
    {
     "name": "stdout",
     "output_type": "stream",
     "text": [
      "The probability of picking a house in OldTown and again picking OldTown in the first two iteration is 0.59%\n"
     ]
    }
   ],
   "source": [
    "# chance of getting oldtown\n",
    "oldtown_prob1 = houses_oldtown / all_houses\n",
    "\n",
    "# chance of getting oldtow again if the first iteration got oldtown\n",
    "oldtown_prob2 = (houses_oldtown - 1) / (all_houses - 1)\n",
    "\n",
    "# enter the probability code\n",
    "cond_prob = oldtown_prob1 * oldtown_prob2\n",
    "\n",
    "print(f'The probability of picking a house in OldTown and again picking OldTown in the first two iteration is {\"{:.2f}\".format(cond_prob * 100)}%')"
   ]
  },
  {
   "cell_type": "code",
   "execution_count": 11,
   "id": "f5e9ecd7-bc3c-4592-86e8-40d6eb45676e",
   "metadata": {
    "scrolled": true
   },
   "outputs": [
    {
     "data": {
      "image/png": "[encoded data removed]",
      "text/plain": [
       "<Figure size 1000x500 with 1 Axes>"
      ]
     },
     "metadata": {},
     "output_type": "display_data"
    }
   ],
   "source": [
    "plt.figure(figsize=(10,5))\n",
    "plt.xticks(rotation=30)\n",
    "sns.distplot(df['SalePrice'])\n",
    "plt.axvline(df['SalePrice'].mean(), color = 'r')\n",
    "plt.axvline((df['SalePrice'].mean() - df['SalePrice'].std()), color = 'y')\n",
    "plt.axvline((df['SalePrice'].mean() + df['SalePrice'].std()), color = 'g')\n",
    "plt.title('Distribution of target column')\n",
    "plt.show()"
   ]
  },
  {
   "cell_type": "code",
   "execution_count": 12,
   "id": "89918286-c679-4c1d-8360-c53a3e0bf73a",
   "metadata": {},
   "outputs": [
    {
     "data": {
      "text/plain": [
       "array([207000, 163000, 415298, 130000, 234000, 107000,  84500, 215000,\n",
       "       262500, 140200], dtype=int64)"
      ]
     },
     "execution_count": 12,
     "metadata": {},
     "output_type": "execute_result"
    }
   ],
   "source": [
    "# choosing a random value from saleprice\n",
    "np.random.choice(df['SalePrice'], 10)"
   ]
  },
  {
   "cell_type": "code",
   "execution_count": 13,
   "id": "23fe7825-f188-4c0d-8655-d7adf4bee02a",
   "metadata": {
    "scrolled": true
   },
   "outputs": [
    {
     "name": "stdout",
     "output_type": "stream",
     "text": [
      "population mean: 180921.19589041095\n",
      "population median: 163000.0\n",
      "population std: 79415.29188606751\n",
      "\n",
      "sample mean: 176908.54333333333\n",
      "sample median: 164490.0\n",
      "sample std: 66390.32563977066\n"
     ]
    }
   ],
   "source": [
    "# Let's take seed so that everytime the random values come out to be constant\n",
    "# np.random.seed(5)\n",
    "\n",
    "# take 300 sample values from the dataset of 1460 values (~20%)\n",
    "sample_saleprice = np.random.choice(df['SalePrice'], 300)\n",
    "\n",
    "# comparing the population and  sample\n",
    "# population\n",
    "print('population mean:', np.mean(df['SalePrice']))\n",
    "print('population median:', np.median(df['SalePrice']))\n",
    "print('population std:', np.std(df['SalePrice']))\n",
    "\n",
    "# sample\n",
    "print(f'\\nsample mean: {np.mean(sample_saleprice)}')\n",
    "print(f'sample median: {np.median(sample_saleprice)}')\n",
    "print(f'sample std: {np.std(sample_saleprice)}')"
   ]
  },
  {
   "cell_type": "code",
   "execution_count": 14,
   "id": "b02ce888-c83f-4d9d-9178-aaebd0a067e7",
   "metadata": {},
   "outputs": [],
   "source": [
    "import pylab\n",
    "import statsmodels.api as sm"
   ]
  },
  {
   "cell_type": "code",
   "execution_count": 15,
   "id": "50c3a5c1-10ce-4845-876e-d82bc3e78db5",
   "metadata": {},
   "outputs": [],
   "source": [
    "# create function to plot the quantile\n",
    "def create_qqplot(data, title):\n",
    "    sm.qqplot(data, line = '45')\n",
    "    plt.title(title)\n",
    "    pylab.show()"
   ]
  },
  {
   "cell_type": "code",
   "execution_count": 16,
   "id": "782edfc6-5ba9-45b2-946f-692795731601",
   "metadata": {
    "scrolled": true
   },
   "outputs": [
    {
     "data": {
      "image/png": "[encoded data removed]",
      "text/plain": [
       "<Figure size 640x480 with 1 Axes>"
      ]
     },
     "metadata": {},
     "output_type": "display_data"
    }
   ],
   "source": [
    "# create qqplot (saleprice)\n",
    "create_qqplot(df['SalePrice'], 'Sale Price')"
   ]
  },
  {
   "cell_type": "code",
   "execution_count": 17,
   "id": "ad6a321b-00ca-40ca-9c36-c11a2b61ca8d",
   "metadata": {},
   "outputs": [],
   "source": [
    "# use the normality test\n",
    "from scipy.stats import shapiro, normaltest, anderson"
   ]
  },
  {
   "cell_type": "code",
   "execution_count": 18,
   "id": "da67e249-b042-42e4-95f0-f0d8cc09b1c2",
   "metadata": {},
   "outputs": [],
   "source": [
    "# function the normality test\n",
    "def try_normal(data):\n",
    "    result = {'Anderson' : {i:j for i,j in zip(anderson(data)[2], anderson(data)[1])},\n",
    "              'Shapiro' : shapiro(data)[1],\n",
    "              'K^2' : normaltest(data)[1]}\n",
    "    result['Anderson']['stat'] = anderson(data)[0]\n",
    "    return result"
   ]
  },
  {
   "cell_type": "code",
   "execution_count": 19,
   "id": "d63d3506-ca8d-4b6c-8077-3f42817d7404",
   "metadata": {},
   "outputs": [
    {
     "data": {
      "text/plain": [
       "{'Anderson': {15.0: 0.574,\n",
       "  10.0: 0.654,\n",
       "  5.0: 0.785,\n",
       "  2.5: 0.916,\n",
       "  1.0: 1.089,\n",
       "  'stat': 41.69199630641583},\n",
       " 'Shapiro': 3.2072044604461286e-33,\n",
       " 'K^2': 2.283848353787728e-133}"
      ]
     },
     "execution_count": 19,
     "metadata": {},
     "output_type": "execute_result"
    }
   ],
   "source": [
    "# check using anderson\n",
    "try_normal(df['SalePrice'])"
   ]
  },
  {
   "cell_type": "markdown",
   "id": "a91a563b-41c6-42c3-b28f-4ed9c8f6dfee",
   "metadata": {},
   "source": [
    "![](https://builtin.com/sites/www.builtin.com/files/styles/ckeditor_optimize/public/inline-images/2_parametric-vs-nonparametric.jpeg)"
   ]
  },
  {
   "cell_type": "code",
   "execution_count": 22,
   "id": "0272bff5-c429-4f50-a0e0-408fda078d22",
   "metadata": {},
   "outputs": [],
   "source": [
    "from scipy.stats import zscore, ttest_ind, f_oneway, mannwhitneyu, wilcoxon, kruskal\n",
    "from statsmodels.stats.weightstats import ztest"
   ]
  },
  {
   "cell_type": "markdown",
   "id": "7a26f78f-cad9-4867-b559-fba5d362a472",
   "metadata": {},
   "source": [
    "if Pvalues < Alpha (0.05): H0 Rejected"
   ]
  },
  {
   "cell_type": "code",
   "execution_count": 24,
   "id": "e9aa21d6-6f4a-4440-b4a8-b18ca35798a9",
   "metadata": {},
   "outputs": [
    {
     "data": {
      "text/plain": [
       "(-10.639294263334575, 1.9560526026260018e-26)"
      ]
     },
     "execution_count": 24,
     "metadata": {},
     "output_type": "execute_result"
    }
   ],
   "source": [
    "# H0: tidak terdapat perbedaan rata2 sale price antara rumah yang dijual di oldtown dengan di tempat lain\n",
    "# Ha: \n",
    "\n",
    "# getting z-stats, p-value\n",
    "oldtown_saleprice = df[df['Neighborhood'] == 'OldTown']['SalePrice']\n",
    "mean_value = df['SalePrice'].mean()\n",
    "z_statistics, p_value = ztest(x1 = oldtown_saleprice,\n",
    "                              value = mean_value)\n",
    "z_statistics, p_value"
   ]
  },
  {
   "cell_type": "markdown",
   "id": "df14d54f-cc3d-43c8-abee-d28855385fc0",
   "metadata": {},
   "source": [
    "P value: 1.95 > Alpha, therefore the implication is H0 rejected, meaning that there are a difference in mean sale price on houses in Old Town and other neighborhoods"
   ]
  },
  {
   "cell_type": "code",
   "execution_count": null,
   "id": "18b59bec-078f-45ee-8459-af0432686e2a",
   "metadata": {},
   "outputs": [],
   "source": [
    "# H0: tidak terdapat perbedaan rata2 sale price antara rumah yang dijual di tahun 2008 dengan di tahun lain\n",
    "# Ha:\n",
    "\n",
    "# t-test example\n",
    "all_pub_prices = df['YrSold'] == "
   ]
  },
  {
   "cell_type": "code",
   "execution_count": 25,
   "id": "73de9f0d-7885-44d6-a6a4-d99b98f7949d",
   "metadata": {},
   "outputs": [],
   "source": [
    "# Mann-Whitney U test example (compare houses with or without a second floor)\n",
    "second_floor = df[df['2ndFlrSF'] > 0]['SalePrice']\n",
    "no_second_floor = df[df['2ndFlrSF'] == 0]['SalePrice']\n",
    "mann_whitney_stat, mann_whitney_p = mannwhitneyu(second_floor, no_second_floor, alternative = 'two-sided')\n",
    "\n",
    "# Wilcoxon Signed-Rank test example (compare years built to years remodeled\n",
    "rmodeled = df[df['YearBuiilt'] != df['YearRemodAdd']][['YearBuilt', 'YearRemoAdd']].dropna())"
   ]
  },
  {
   "cell_type": "markdown",
   "id": "400d4a90-dd9d-49cf-a91b-09621b253802",
   "metadata": {},
   "source": [
    "## REFERENCES\n",
    "1. https://datatab.net/tutorial/descriptive-inferential-statistics\n",
    "2. https://www.scribbr.com/statistics/inferential-statistics/\n",
    "3. https://www.questionpro.com/blog/inferential-statistics/\n",
    "4. https://www.investopedia.com/terms/g/goodness-of-fit.asp#:~:text=Goodness%2Dof%2DFit%20is%20a%20statistical%20hypothesis%20test%20used%20to,are%20from%20the%20same%20distribution\n",
    "5. https://www.analyticsvidhya.com/blog/2021/06/hypothesis-testing-parametric-and-non-parametric-tests-in-statistics/\n",
    "6. https://github.com/CahyaPutera/CUSTOMER-CHURN-PREDICTION/blob/master/FINAL%20PROJECT%20CHURN%20(V.2)%20-%20EDA%20(Revised).ipynb"
   ]
  }
 ],
 "metadata": {
  "kernelspec": {
   "display_name": "Python 3 (ipykernel)",
   "language": "python",
   "name": "python3"
  },
  "language_info": {
   "codemirror_mode": {
    "name": "ipython",
    "version": 3
   },
   "file_extension": ".py",
   "mimetype": "text/x-python",
   "name": "python",
   "nbconvert_exporter": "python",
   "pygments_lexer": "ipython3",
   "version": "3.11.7"
  }
 },
 "nbformat": 4,
 "nbformat_minor": 5
}
