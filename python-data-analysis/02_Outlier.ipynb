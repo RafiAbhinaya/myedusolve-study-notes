{
 "cells": [
  {
   "cell_type": "markdown",
   "id": "8234972b-235f-4c89-9678-ffebea8e63c0",
   "metadata": {},
   "source": [
    "## HANDLING OUTLIERS"
   ]
  },
  {
   "cell_type": "code",
   "execution_count": 15,
   "id": "f30a698c-a56f-4d1f-b58d-043c5865e3ee",
   "metadata": {},
   "outputs": [],
   "source": [
    "# import libraries\n",
    "import numpy as np\n",
    "import pandas as pd\n",
    "import seaborn as sns\n",
    "import matplotlib.pyplot as plt\n",
    "from scipy import stats"
   ]
  },
  {
   "cell_type": "code",
   "execution_count": 2,
   "id": "e182aa93-99ea-42e9-baf5-3f6cead43d79",
   "metadata": {},
   "outputs": [],
   "source": [
    "# import data\n",
    "df = pd.read_csv(\"data/melb_data.csv\")"
   ]
  },
  {
   "cell_type": "code",
   "execution_count": 3,
   "id": "bfdc4ba7-de0e-4747-bb09-ead43ac91dd0",
   "metadata": {},
   "outputs": [
    {
     "name": "stdout",
     "output_type": "stream",
     "text": [
      "<class 'pandas.core.frame.DataFrame'>\n",
      "RangeIndex: 13580 entries, 0 to 13579\n",
      "Data columns (total 21 columns):\n",
      " #   Column         Non-Null Count  Dtype  \n",
      "---  ------         --------------  -----  \n",
      " 0   Suburb         13580 non-null  object \n",
      " 1   Address        13580 non-null  object \n",
      " 2   Rooms          13580 non-null  int64  \n",
      " 3   Type           13580 non-null  object \n",
      " 4   Price          13580 non-null  int64  \n",
      " 5   Method         13580 non-null  object \n",
      " 6   SellerG        13580 non-null  object \n",
      " 7   Date           13580 non-null  object \n",
      " 8   Distance       13580 non-null  float64\n",
      " 9   Postcode       13580 non-null  int64  \n",
      " 10  Bedroom2       13580 non-null  int64  \n",
      " 11  Bathroom       13580 non-null  int64  \n",
      " 12  Car            13518 non-null  float64\n",
      " 13  Landsize       13580 non-null  int64  \n",
      " 14  BuildingArea   7130 non-null   float64\n",
      " 15  YearBuilt      8205 non-null   float64\n",
      " 16  CouncilArea    12211 non-null  object \n",
      " 17  Lattitude      13580 non-null  float64\n",
      " 18  Longtitude     13580 non-null  float64\n",
      " 19  Regionname     13580 non-null  object \n",
      " 20  Propertycount  13580 non-null  int64  \n",
      "dtypes: float64(6), int64(7), object(8)\n",
      "memory usage: 2.2+ MB\n"
     ]
    }
   ],
   "source": [
    "# check info\n",
    "df.info()"
   ]
  },
  {
   "cell_type": "markdown",
   "id": "33f5586a-6e72-4610-82ce-94d9ee744bc5",
   "metadata": {},
   "source": [
    "### Outlier Detection"
   ]
  },
  {
   "cell_type": "code",
   "execution_count": 4,
   "id": "8a6accc9-269d-4e18-9ae5-359023ab4082",
   "metadata": {},
   "outputs": [],
   "source": [
    "# split numeric and object data\n",
    "df_num = df.select_dtypes(include = ['int64', 'float64'])"
   ]
  },
  {
   "cell_type": "code",
   "execution_count": 5,
   "id": "991dd92e-5eb5-4651-b562-fcf38aa1c82b",
   "metadata": {},
   "outputs": [
    {
     "data": {
      "text/html": [
       "<div>\n",
       "<style scoped>\n",
       "    .dataframe tbody tr th:only-of-type {\n",
       "        vertical-align: middle;\n",
       "    }\n",
       "\n",
       "    .dataframe tbody tr th {\n",
       "        vertical-align: top;\n",
       "    }\n",
       "\n",
       "    .dataframe thead th {\n",
       "        text-align: right;\n",
       "    }\n",
       "</style>\n",
       "<table border=\"1\" class=\"dataframe\">\n",
       "  <thead>\n",
       "    <tr style=\"text-align: right;\">\n",
       "      <th></th>\n",
       "      <th>Rooms</th>\n",
       "      <th>Price</th>\n",
       "      <th>Distance</th>\n",
       "      <th>Postcode</th>\n",
       "      <th>Bedroom2</th>\n",
       "      <th>Bathroom</th>\n",
       "      <th>Car</th>\n",
       "      <th>Landsize</th>\n",
       "      <th>BuildingArea</th>\n",
       "      <th>YearBuilt</th>\n",
       "      <th>Lattitude</th>\n",
       "      <th>Longtitude</th>\n",
       "      <th>Propertycount</th>\n",
       "    </tr>\n",
       "  </thead>\n",
       "  <tbody>\n",
       "    <tr>\n",
       "      <th>0</th>\n",
       "      <td>2</td>\n",
       "      <td>1480000</td>\n",
       "      <td>2.5</td>\n",
       "      <td>3067</td>\n",
       "      <td>2</td>\n",
       "      <td>1</td>\n",
       "      <td>1.0</td>\n",
       "      <td>202</td>\n",
       "      <td>NaN</td>\n",
       "      <td>NaN</td>\n",
       "      <td>-37.7996</td>\n",
       "      <td>144.9984</td>\n",
       "      <td>4019</td>\n",
       "    </tr>\n",
       "    <tr>\n",
       "      <th>1</th>\n",
       "      <td>2</td>\n",
       "      <td>1035000</td>\n",
       "      <td>2.5</td>\n",
       "      <td>3067</td>\n",
       "      <td>2</td>\n",
       "      <td>1</td>\n",
       "      <td>0.0</td>\n",
       "      <td>156</td>\n",
       "      <td>79.0</td>\n",
       "      <td>1900.0</td>\n",
       "      <td>-37.8079</td>\n",
       "      <td>144.9934</td>\n",
       "      <td>4019</td>\n",
       "    </tr>\n",
       "    <tr>\n",
       "      <th>2</th>\n",
       "      <td>3</td>\n",
       "      <td>1465000</td>\n",
       "      <td>2.5</td>\n",
       "      <td>3067</td>\n",
       "      <td>3</td>\n",
       "      <td>2</td>\n",
       "      <td>0.0</td>\n",
       "      <td>134</td>\n",
       "      <td>150.0</td>\n",
       "      <td>1900.0</td>\n",
       "      <td>-37.8093</td>\n",
       "      <td>144.9944</td>\n",
       "      <td>4019</td>\n",
       "    </tr>\n",
       "    <tr>\n",
       "      <th>3</th>\n",
       "      <td>3</td>\n",
       "      <td>850000</td>\n",
       "      <td>2.5</td>\n",
       "      <td>3067</td>\n",
       "      <td>3</td>\n",
       "      <td>2</td>\n",
       "      <td>1.0</td>\n",
       "      <td>94</td>\n",
       "      <td>NaN</td>\n",
       "      <td>NaN</td>\n",
       "      <td>-37.7969</td>\n",
       "      <td>144.9969</td>\n",
       "      <td>4019</td>\n",
       "    </tr>\n",
       "    <tr>\n",
       "      <th>4</th>\n",
       "      <td>4</td>\n",
       "      <td>1600000</td>\n",
       "      <td>2.5</td>\n",
       "      <td>3067</td>\n",
       "      <td>3</td>\n",
       "      <td>1</td>\n",
       "      <td>2.0</td>\n",
       "      <td>120</td>\n",
       "      <td>142.0</td>\n",
       "      <td>2014.0</td>\n",
       "      <td>-37.8072</td>\n",
       "      <td>144.9941</td>\n",
       "      <td>4019</td>\n",
       "    </tr>\n",
       "  </tbody>\n",
       "</table>\n",
       "</div>"
      ],
      "text/plain": [
       "   Rooms    Price  Distance  Postcode  Bedroom2  Bathroom  Car  Landsize  \\\n",
       "0      2  1480000       2.5      3067         2         1  1.0       202   \n",
       "1      2  1035000       2.5      3067         2         1  0.0       156   \n",
       "2      3  1465000       2.5      3067         3         2  0.0       134   \n",
       "3      3   850000       2.5      3067         3         2  1.0        94   \n",
       "4      4  1600000       2.5      3067         3         1  2.0       120   \n",
       "\n",
       "   BuildingArea  YearBuilt  Lattitude  Longtitude  Propertycount  \n",
       "0           NaN        NaN   -37.7996    144.9984           4019  \n",
       "1          79.0     1900.0   -37.8079    144.9934           4019  \n",
       "2         150.0     1900.0   -37.8093    144.9944           4019  \n",
       "3           NaN        NaN   -37.7969    144.9969           4019  \n",
       "4         142.0     2014.0   -37.8072    144.9941           4019  "
      ]
     },
     "execution_count": 5,
     "metadata": {},
     "output_type": "execute_result"
    }
   ],
   "source": [
    "# check data\n",
    "df_num.head()"
   ]
  },
  {
   "cell_type": "code",
   "execution_count": 6,
   "id": "4f6d4422-e86a-47ca-a5bf-e062fd50325f",
   "metadata": {},
   "outputs": [
    {
     "name": "stdout",
     "output_type": "stream",
     "text": [
      "<class 'pandas.core.frame.DataFrame'>\n",
      "RangeIndex: 13580 entries, 0 to 13579\n",
      "Data columns (total 13 columns):\n",
      " #   Column         Non-Null Count  Dtype  \n",
      "---  ------         --------------  -----  \n",
      " 0   Rooms          13580 non-null  int64  \n",
      " 1   Price          13580 non-null  int64  \n",
      " 2   Distance       13580 non-null  float64\n",
      " 3   Postcode       13580 non-null  int64  \n",
      " 4   Bedroom2       13580 non-null  int64  \n",
      " 5   Bathroom       13580 non-null  int64  \n",
      " 6   Car            13518 non-null  float64\n",
      " 7   Landsize       13580 non-null  int64  \n",
      " 8   BuildingArea   7130 non-null   float64\n",
      " 9   YearBuilt      8205 non-null   float64\n",
      " 10  Lattitude      13580 non-null  float64\n",
      " 11  Longtitude     13580 non-null  float64\n",
      " 12  Propertycount  13580 non-null  int64  \n",
      "dtypes: float64(6), int64(7)\n",
      "memory usage: 1.3 MB\n"
     ]
    }
   ],
   "source": [
    "# check info\n",
    "df_num.info()"
   ]
  },
  {
   "cell_type": "code",
   "execution_count": 7,
   "id": "67ffe2fb-4ea4-46e3-9183-c5a8a8dacae7",
   "metadata": {},
   "outputs": [
    {
     "data": {
      "image/png": "[encoded data removed]",
      "text/plain": [
       "<Figure size 640x480 with 1 Axes>"
      ]
     },
     "metadata": {},
     "output_type": "display_data"
    },
    {
     "data": {
      "image/png": "[encoded data removed]",
      "text/plain": [
       "<Figure size 640x480 with 1 Axes>"
      ]
     },
     "metadata": {},
     "output_type": "display_data"
    },
    {
     "data": {
      "image/png": "[encoded data removed]",
      "text/plain": [
       "<Figure size 640x480 with 1 Axes>"
      ]
     },
     "metadata": {},
     "output_type": "display_data"
    },
    {
     "data": {
      "image/png": "[encoded data removed]",
      "text/plain": [
       "<Figure size 640x480 with 1 Axes>"
      ]
     },
     "metadata": {},
     "output_type": "display_data"
    },
    {
     "data": {
      "image/png": "[encoded data removed]",
      "text/plain": [
       "<Figure size 640x480 with 1 Axes>"
      ]
     },
     "metadata": {},
     "output_type": "display_data"
    },
    {
     "data": {
      "image/png": "[encoded data removed]",
      "text/plain": [
       "<Figure size 640x480 with 1 Axes>"
      ]
     },
     "metadata": {},
     "output_type": "display_data"
    },
    {
     "data": {
      "image/png": "[encoded data removed]",
      "text/plain": [
       "<Figure size 640x480 with 1 Axes>"
      ]
     },
     "metadata": {},
     "output_type": "display_data"
    },
    {
     "data": {
      "image/png": "[encoded data removed]",
      "text/plain": [
       "<Figure size 640x480 with 1 Axes>"
      ]
     },
     "metadata": {},
     "output_type": "display_data"
    },
    {
     "data": {
      "image/png": "[encoded data removed]",
      "text/plain": [
       "<Figure size 640x480 with 1 Axes>"
      ]
     },
     "metadata": {},
     "output_type": "display_data"
    },
    {
     "data": {
      "image/png": "[encoded data removed]",
      "text/plain": [
       "<Figure size 640x480 with 1 Axes>"
      ]
     },
     "metadata": {},
     "output_type": "display_data"
    },
    {
     "data": {
      "image/png": "[encoded data removed]",
      "text/plain": [
       "<Figure size 640x480 with 1 Axes>"
      ]
     },
     "metadata": {},
     "output_type": "display_data"
    },
    {
     "data": {
      "image/png": "[encoded data removed]",
      "text/plain": [
       "<Figure size 640x480 with 1 Axes>"
      ]
     },
     "metadata": {},
     "output_type": "display_data"
    },
    {
     "data": {
      "image/png": "[encoded data removed]",
      "text/plain": [
       "<Figure size 640x480 with 1 Axes>"
      ]
     },
     "metadata": {},
     "output_type": "display_data"
    }
   ],
   "source": [
    "# detection using boxplot (seaborn)\n",
    "for i in df_num:\n",
    "    sns.boxplot(data = df_num, x = i)\n",
    "    plt.show()"
   ]
  },
  {
   "cell_type": "code",
   "execution_count": 54,
   "id": "c7f95023-d3bf-46d8-880d-a7ae04d9eb55",
   "metadata": {},
   "outputs": [],
   "source": [
    "# function to find outliers, using numpy\n",
    "def find_outlier(yourList):\n",
    "    Q1 = np.quantile(yourList, .25)\n",
    "    Q3 = np.quantile(yourList, .75)\n",
    "\n",
    "    IQR = Q3 - Q1\n",
    "    batas_bawah = Q1 - (IQR * 1.5)\n",
    "    batas_atas = Q3 + (IQR * 1.5)\n",
    "\n",
    "    outlier = []\n",
    "    for i in yourList:\n",
    "        if i > batas_atas:\n",
    "            outlier.append(i)\n",
    "        if i < batas_bawah:\n",
    "            outlier.append(i)\n",
    "    return outlier"
   ]
  },
  {
   "cell_type": "code",
   "execution_count": 51,
   "id": "118d7698-d7fe-4035-970f-9deb955bec2d",
   "metadata": {},
   "outputs": [
    {
     "data": {
      "text/plain": [
       "[99.8, 782.7]"
      ]
     },
     "execution_count": 51,
     "metadata": {},
     "output_type": "execute_result"
    }
   ],
   "source": [
    "# to check if the function works\n",
    "example = [9.0, 3.5, 1.9, 2.9, 5.2, 6.9, 12.8, .178, 1.8, 782.7, 99.8, 8.7]\n",
    "example = sorted(example, key = float)\n",
    "find_outlier(example)\n",
    "# it works"
   ]
  },
  {
   "cell_type": "code",
   "execution_count": 53,
   "id": "ed0e2434-7d64-407d-b613-f14e74274d9a",
   "metadata": {},
   "outputs": [
    {
     "name": "stdout",
     "output_type": "stream",
     "text": [
      "411\n"
     ]
    }
   ],
   "source": [
    "# find outliers in distance variable\n",
    "distance = df_num['Distance'].sort_values().values.tolist()\n",
    "print(len(find_outlier(distance)))"
   ]
  },
  {
   "cell_type": "code",
   "execution_count": 13,
   "id": "d74991b4-e014-4104-8fab-aee4624b9421",
   "metadata": {},
   "outputs": [],
   "source": [
    "# function to find outliers, using numpy\n",
    "def find_outlier2(data):\n",
    "\n",
    "    # hitung nilai Q1 dan Q3\n",
    "    Q1 = np.quantile(data, .25)\n",
    "    Q3 = np.quantile(data, .75)\n",
    "\n",
    "    # hitung nilai IQR\n",
    "    IQR = Q3 - Q1\n",
    "    min_IQR = Q1 - 1.5 * IQR\n",
    "    max_IQR = Q3 + 1.5 * IQR\n",
    "\n",
    "    nilai_min = np.min(data)\n",
    "    nilai_max = np.max(data)\n",
    "\n",
    "    low_output = []\n",
    "    high_output = []\n",
    "\n",
    "    for i in data:\n",
    "        if (i < min_IQR):\n",
    "            low_output.append(i)\n",
    "        if (i > max_IQR):\n",
    "            high_output.append(i)\n",
    "\n",
    "    return print('Lower outlier : ', len(low_output), '|| High outlier :', len(high_output))"
   ]
  },
  {
   "cell_type": "code",
   "execution_count": 14,
   "id": "b9971379-2a7b-470f-92e9-0608096654fe",
   "metadata": {},
   "outputs": [
    {
     "name": "stdout",
     "output_type": "stream",
     "text": [
      "Lower outlier :  0 || High outlier : 411\n"
     ]
    }
   ],
   "source": [
    "# find outliers in distance variable\n",
    "find_outlier2(distance)"
   ]
  },
  {
   "cell_type": "markdown",
   "id": "1ef863aa-f2e0-44ee-84a9-167bd0259444",
   "metadata": {},
   "source": [
    "### z score\n",
    "![](https://dcx0p3on5z8dw.cloudfront.net/Aakash/s3fs-public/pdf_management_files/target_solutions/z%20score%20image%201.png?YDMmfAIyUTJoFkpxIYTe6NLcBrJrca_W%E2%80%9Dwidth=)"
   ]
  },
  {
   "cell_type": "code",
   "execution_count": 17,
   "id": "9f1a66de-1a2a-4e32-9fe7-aaebf3bc9ea8",
   "metadata": {},
   "outputs": [],
   "source": [
    "# create a list as example\n",
    "land = df_num['Landsize'].values.tolist()"
   ]
  },
  {
   "cell_type": "code",
   "execution_count": 18,
   "id": "29ea26e3-ceb6-40bd-8c8e-209f3e3992c5",
   "metadata": {},
   "outputs": [],
   "source": [
    "# z score check\n",
    "z = np.abs(stats.zscore(land))"
   ]
  },
  {
   "cell_type": "code",
   "execution_count": 58,
   "id": "147b3fcf-fbad-4717-a8de-bc0190aad6c3",
   "metadata": {},
   "outputs": [
    {
     "name": "stdout",
     "output_type": "stream",
     "text": [
      "(array([  687,  2084,  3750,  3942,  4706,  5194,  5584,  5592,  5694,\n",
      "        7778,  8241,  8379,  9223, 10045, 10488, 10504, 10819, 11020,\n",
      "       11371, 11526, 12163, 12504, 12594, 13245], dtype=int64),)\n",
      "(array([    0,     1,     2, ..., 13577, 13578, 13579], dtype=int64),)\n"
     ]
    }
   ],
   "source": [
    "# threshold = 3\n",
    "print(np.where(z > 3))\n",
    "print(np.where(z < 3))"
   ]
  },
  {
   "cell_type": "code",
   "execution_count": 20,
   "id": "18da712b-eaaa-46de-9ce4-cc81d5f22616",
   "metadata": {},
   "outputs": [],
   "source": [
    "# where is the data?\n",
    "# finding location\n",
    "outlier_loc = [687,  2084,  3750,  3942,  4706,  5194,  5584,  5592,  5694,\n",
    "                7778,  8241,  8379,  9223, 10045, 10488, 10504, 10819, 11020,\n",
    "               11371, 11526, 12163, 12340, 12504, 12594, 13245]"
   ]
  },
  {
   "cell_type": "code",
   "execution_count": 77,
   "id": "783f19ab-e572-4d7b-a0b5-80869de8112f",
   "metadata": {},
   "outputs": [
    {
     "data": {
      "text/plain": [
       "687       75100\n",
       "2084      15900\n",
       "3750      15100\n",
       "3942      37000\n",
       "4706      21700\n",
       "5194      41400\n",
       "5584      14500\n",
       "5592      17200\n",
       "5694      17200\n",
       "7778      15900\n",
       "8241      21715\n",
       "8379      17200\n",
       "9223      37000\n",
       "10045     38490\n",
       "10488     14196\n",
       "10504     76000\n",
       "10819     17200\n",
       "11020    433014\n",
       "11371     40468\n",
       "11526     16000\n",
       "12163     17200\n",
       "12340     12300\n",
       "12504     20200\n",
       "12594     14294\n",
       "13245     44500\n",
       "Name: Landsize, dtype: int64"
      ]
     },
     "execution_count": 77,
     "metadata": {},
     "output_type": "execute_result"
    }
   ],
   "source": [
    "# finding outliers using loc\n",
    "df_num.loc[outlier_loc, 'Landsize']"
   ]
  },
  {
   "cell_type": "markdown",
   "id": "eac95008-1385-4d37-9baf-00f2c9369909",
   "metadata": {},
   "source": [
    "### Handling Outliers (not recommended for data analysis)"
   ]
  },
  {
   "cell_type": "code",
   "execution_count": 23,
   "id": "52a79e73-ae26-4725-b335-2dca245c4923",
   "metadata": {},
   "outputs": [],
   "source": [
    "# create dataframe\n",
    "houses = pd.DataFrame()\n",
    "houses['Prices'] = [534433, 392333, 293222, 4322032]\n",
    "houses['Bathroom'] = [2, 3, 2, 116]\n",
    "houses['Square_feet'] = [1500, 2500, 1500, 48000]"
   ]
  },
  {
   "cell_type": "code",
   "execution_count": 24,
   "id": "3105d131-1ae3-48b2-a7ab-5a0499a76b87",
   "metadata": {},
   "outputs": [
    {
     "data": {
      "text/html": [
       "<div>\n",
       "<style scoped>\n",
       "    .dataframe tbody tr th:only-of-type {\n",
       "        vertical-align: middle;\n",
       "    }\n",
       "\n",
       "    .dataframe tbody tr th {\n",
       "        vertical-align: top;\n",
       "    }\n",
       "\n",
       "    .dataframe thead th {\n",
       "        text-align: right;\n",
       "    }\n",
       "</style>\n",
       "<table border=\"1\" class=\"dataframe\">\n",
       "  <thead>\n",
       "    <tr style=\"text-align: right;\">\n",
       "      <th></th>\n",
       "      <th>Prices</th>\n",
       "      <th>Bathroom</th>\n",
       "      <th>Square_feet</th>\n",
       "    </tr>\n",
       "  </thead>\n",
       "  <tbody>\n",
       "    <tr>\n",
       "      <th>0</th>\n",
       "      <td>534433</td>\n",
       "      <td>2</td>\n",
       "      <td>1500</td>\n",
       "    </tr>\n",
       "    <tr>\n",
       "      <th>1</th>\n",
       "      <td>392333</td>\n",
       "      <td>3</td>\n",
       "      <td>2500</td>\n",
       "    </tr>\n",
       "    <tr>\n",
       "      <th>2</th>\n",
       "      <td>293222</td>\n",
       "      <td>2</td>\n",
       "      <td>1500</td>\n",
       "    </tr>\n",
       "    <tr>\n",
       "      <th>3</th>\n",
       "      <td>4322032</td>\n",
       "      <td>116</td>\n",
       "      <td>48000</td>\n",
       "    </tr>\n",
       "  </tbody>\n",
       "</table>\n",
       "</div>"
      ],
      "text/plain": [
       "    Prices  Bathroom  Square_feet\n",
       "0   534433         2         1500\n",
       "1   392333         3         2500\n",
       "2   293222         2         1500\n",
       "3  4322032       116        48000"
      ]
     },
     "execution_count": 24,
     "metadata": {},
     "output_type": "execute_result"
    }
   ],
   "source": [
    "# check data\n",
    "houses"
   ]
  },
  {
   "cell_type": "code",
   "execution_count": 26,
   "id": "fd27dd10-62b7-4db0-be07-62c5d7370421",
   "metadata": {},
   "outputs": [
    {
     "data": {
      "text/html": [
       "<div>\n",
       "<style scoped>\n",
       "    .dataframe tbody tr th:only-of-type {\n",
       "        vertical-align: middle;\n",
       "    }\n",
       "\n",
       "    .dataframe tbody tr th {\n",
       "        vertical-align: top;\n",
       "    }\n",
       "\n",
       "    .dataframe thead th {\n",
       "        text-align: right;\n",
       "    }\n",
       "</style>\n",
       "<table border=\"1\" class=\"dataframe\">\n",
       "  <thead>\n",
       "    <tr style=\"text-align: right;\">\n",
       "      <th></th>\n",
       "      <th>Prices</th>\n",
       "      <th>Bathroom</th>\n",
       "      <th>Square_feet</th>\n",
       "    </tr>\n",
       "  </thead>\n",
       "  <tbody>\n",
       "    <tr>\n",
       "      <th>0</th>\n",
       "      <td>534433</td>\n",
       "      <td>2</td>\n",
       "      <td>1500</td>\n",
       "    </tr>\n",
       "    <tr>\n",
       "      <th>1</th>\n",
       "      <td>392333</td>\n",
       "      <td>3</td>\n",
       "      <td>2500</td>\n",
       "    </tr>\n",
       "    <tr>\n",
       "      <th>2</th>\n",
       "      <td>293222</td>\n",
       "      <td>2</td>\n",
       "      <td>1500</td>\n",
       "    </tr>\n",
       "  </tbody>\n",
       "</table>\n",
       "</div>"
      ],
      "text/plain": [
       "   Prices  Bathroom  Square_feet\n",
       "0  534433         2         1500\n",
       "1  392333         3         2500\n",
       "2  293222         2         1500"
      ]
     },
     "execution_count": 26,
     "metadata": {},
     "output_type": "execute_result"
    }
   ],
   "source": [
    "# Drop observations greater than some values\n",
    "houses_clean = houses[houses['Bathroom'] < 5] # threshold outlier\n",
    "houses_clean"
   ]
  },
  {
   "cell_type": "markdown",
   "id": "c7723a09-f58e-4784-baa8-6c4630ff9a79",
   "metadata": {},
   "source": [
    "### Drop outlier using statistical method"
   ]
  },
  {
   "cell_type": "code",
   "execution_count": 31,
   "id": "c01a5c99-a9cd-4ce8-8f78-d8b3b8ade066",
   "metadata": {},
   "outputs": [],
   "source": [
    "# locating index using z score\n",
    "z = np.abs(stats.zscore(land))"
   ]
  },
  {
   "cell_type": "code",
   "execution_count": 32,
   "id": "efba300e-9076-4c1e-961b-79f84d663887",
   "metadata": {},
   "outputs": [],
   "source": [
    "# dropped outlier\n",
    "outlier_loc = np.where(z > 2.5)[0].tolist()\n",
    "df_dropped_outlier = df.loc[~df.index.isin(outlier_loc)]"
   ]
  },
  {
   "cell_type": "code",
   "execution_count": 78,
   "id": "94b35513-be9f-4176-9113-e586a037fb43",
   "metadata": {},
   "outputs": [
    {
     "data": {
      "text/plain": [
       "[687,\n",
       " 2084,\n",
       " 3750,\n",
       " 3942,\n",
       " 4706,\n",
       " 5194,\n",
       " 5584,\n",
       " 5592,\n",
       " 5694,\n",
       " 7778,\n",
       " 8241,\n",
       " 8379,\n",
       " 9223,\n",
       " 10045,\n",
       " 10488,\n",
       " 10504,\n",
       " 10819,\n",
       " 11020,\n",
       " 11371,\n",
       " 11526,\n",
       " 12163,\n",
       " 12340,\n",
       " 12504,\n",
       " 12594,\n",
       " 13245]"
      ]
     },
     "execution_count": 78,
     "metadata": {},
     "output_type": "execute_result"
    }
   ],
   "source": []
  },
  {
   "cell_type": "code",
   "execution_count": 33,
   "id": "b3d00350-2527-463c-aec5-c4dfd0143551",
   "metadata": {},
   "outputs": [],
   "source": [
    "# detect using IQR\n",
    "Q1 = np.quantile(df_num[\"Landsize\"], .25)\n",
    "Q3 = np.quantile(df_num[\"Landsize\"], .75)\n",
    "\n",
    "IQR = Q3 - Q1\n",
    "min_IQR = Q1 - 1.5 * IQR\n",
    "max_IQR = Q3 + 1.5 * IQR"
   ]
  },
  {
   "cell_type": "code",
   "execution_count": 36,
   "id": "8952e586-32c7-4bbb-9bc1-93a6093198d2",
   "metadata": {},
   "outputs": [],
   "source": [
    "# remove outliers based on IQR\n",
    "outlier_removed = df_num[(df_num['Landsize']  < min_IQR) | (df_num['Landsize']  > max_IQR)]"
   ]
  },
  {
   "cell_type": "code",
   "execution_count": 37,
   "id": "73299e2c-aac1-47c6-a261-02c1511c567b",
   "metadata": {},
   "outputs": [
    {
     "data": {
      "text/html": [
       "<div>\n",
       "<style scoped>\n",
       "    .dataframe tbody tr th:only-of-type {\n",
       "        vertical-align: middle;\n",
       "    }\n",
       "\n",
       "    .dataframe tbody tr th {\n",
       "        vertical-align: top;\n",
       "    }\n",
       "\n",
       "    .dataframe thead th {\n",
       "        text-align: right;\n",
       "    }\n",
       "</style>\n",
       "<table border=\"1\" class=\"dataframe\">\n",
       "  <thead>\n",
       "    <tr style=\"text-align: right;\">\n",
       "      <th></th>\n",
       "      <th>Rooms</th>\n",
       "      <th>Price</th>\n",
       "      <th>Distance</th>\n",
       "      <th>Postcode</th>\n",
       "      <th>Bedroom2</th>\n",
       "      <th>Bathroom</th>\n",
       "      <th>Car</th>\n",
       "      <th>Landsize</th>\n",
       "      <th>BuildingArea</th>\n",
       "      <th>YearBuilt</th>\n",
       "      <th>Lattitude</th>\n",
       "      <th>Longtitude</th>\n",
       "      <th>Propertycount</th>\n",
       "    </tr>\n",
       "  </thead>\n",
       "  <tbody>\n",
       "    <tr>\n",
       "      <th>22</th>\n",
       "      <td>3</td>\n",
       "      <td>1090000</td>\n",
       "      <td>2.5</td>\n",
       "      <td>3067</td>\n",
       "      <td>3</td>\n",
       "      <td>2</td>\n",
       "      <td>2.0</td>\n",
       "      <td>4290</td>\n",
       "      <td>27.0</td>\n",
       "      <td>NaN</td>\n",
       "      <td>-37.8078</td>\n",
       "      <td>144.9965</td>\n",
       "      <td>4019</td>\n",
       "    </tr>\n",
       "    <tr>\n",
       "      <th>234</th>\n",
       "      <td>4</td>\n",
       "      <td>3000000</td>\n",
       "      <td>6.3</td>\n",
       "      <td>3143</td>\n",
       "      <td>4</td>\n",
       "      <td>2</td>\n",
       "      <td>2.0</td>\n",
       "      <td>1581</td>\n",
       "      <td>NaN</td>\n",
       "      <td>1934.0</td>\n",
       "      <td>-37.8580</td>\n",
       "      <td>145.0111</td>\n",
       "      <td>4836</td>\n",
       "    </tr>\n",
       "    <tr>\n",
       "      <th>236</th>\n",
       "      <td>3</td>\n",
       "      <td>735000</td>\n",
       "      <td>6.3</td>\n",
       "      <td>3143</td>\n",
       "      <td>3</td>\n",
       "      <td>2</td>\n",
       "      <td>1.0</td>\n",
       "      <td>2113</td>\n",
       "      <td>14.0</td>\n",
       "      <td>1970.0</td>\n",
       "      <td>-37.8543</td>\n",
       "      <td>145.0262</td>\n",
       "      <td>4836</td>\n",
       "    </tr>\n",
       "    <tr>\n",
       "      <th>251</th>\n",
       "      <td>6</td>\n",
       "      <td>5525000</td>\n",
       "      <td>6.3</td>\n",
       "      <td>3143</td>\n",
       "      <td>5</td>\n",
       "      <td>3</td>\n",
       "      <td>4.0</td>\n",
       "      <td>1491</td>\n",
       "      <td>516.0</td>\n",
       "      <td>1935.0</td>\n",
       "      <td>-37.8602</td>\n",
       "      <td>145.0130</td>\n",
       "      <td>4836</td>\n",
       "    </tr>\n",
       "    <tr>\n",
       "      <th>266</th>\n",
       "      <td>2</td>\n",
       "      <td>710000</td>\n",
       "      <td>6.3</td>\n",
       "      <td>3143</td>\n",
       "      <td>2</td>\n",
       "      <td>1</td>\n",
       "      <td>1.0</td>\n",
       "      <td>2471</td>\n",
       "      <td>80.0</td>\n",
       "      <td>1970.0</td>\n",
       "      <td>-37.8573</td>\n",
       "      <td>145.0186</td>\n",
       "      <td>4836</td>\n",
       "    </tr>\n",
       "  </tbody>\n",
       "</table>\n",
       "</div>"
      ],
      "text/plain": [
       "     Rooms    Price  Distance  Postcode  Bedroom2  Bathroom  Car  Landsize  \\\n",
       "22       3  1090000       2.5      3067         3         2  2.0      4290   \n",
       "234      4  3000000       6.3      3143         4         2  2.0      1581   \n",
       "236      3   735000       6.3      3143         3         2  1.0      2113   \n",
       "251      6  5525000       6.3      3143         5         3  4.0      1491   \n",
       "266      2   710000       6.3      3143         2         1  1.0      2471   \n",
       "\n",
       "     BuildingArea  YearBuilt  Lattitude  Longtitude  Propertycount  \n",
       "22           27.0        NaN   -37.8078    144.9965           4019  \n",
       "234           NaN     1934.0   -37.8580    145.0111           4836  \n",
       "236          14.0     1970.0   -37.8543    145.0262           4836  \n",
       "251         516.0     1935.0   -37.8602    145.0130           4836  \n",
       "266          80.0     1970.0   -37.8573    145.0186           4836  "
      ]
     },
     "execution_count": 37,
     "metadata": {},
     "output_type": "execute_result"
    }
   ],
   "source": [
    "# show data\n",
    "outlier_removed.head()"
   ]
  },
  {
   "cell_type": "markdown",
   "id": "b6d66d53-a3cb-437b-a2ed-795cc43f52b6",
   "metadata": {},
   "source": [
    "### Capping"
   ]
  },
  {
   "cell_type": "code",
   "execution_count": 38,
   "id": "0ba8c718-e507-4236-b7c8-ab7d00a34b07",
   "metadata": {},
   "outputs": [
    {
     "name": "stdout",
     "output_type": "stream",
     "text": [
      "12530 -11414\n"
     ]
    }
   ],
   "source": [
    "# example capping\n",
    "upper_limit = df['Landsize'].mean() + 3*df['Landsize'].std()\n",
    "lower_limit = df['Landsize'].mean() - 3*df['Landsize'].std()\n",
    "\n",
    "print(round(upper_limit), round(lower_limit))"
   ]
  },
  {
   "cell_type": "code",
   "execution_count": 39,
   "id": "dbc02ec1-2d5b-4bab-a0ef-f5d7bd5fd41a",
   "metadata": {},
   "outputs": [],
   "source": [
    "# copy df\n",
    "df_num2 = df_num.copy()"
   ]
  },
  {
   "cell_type": "code",
   "execution_count": 40,
   "id": "825e12e0-b720-4dc9-a9a3-1846bb585b07",
   "metadata": {
    "scrolled": true
   },
   "outputs": [
    {
     "data": {
      "text/html": [
       "<div>\n",
       "<style scoped>\n",
       "    .dataframe tbody tr th:only-of-type {\n",
       "        vertical-align: middle;\n",
       "    }\n",
       "\n",
       "    .dataframe tbody tr th {\n",
       "        vertical-align: top;\n",
       "    }\n",
       "\n",
       "    .dataframe thead th {\n",
       "        text-align: right;\n",
       "    }\n",
       "</style>\n",
       "<table border=\"1\" class=\"dataframe\">\n",
       "  <thead>\n",
       "    <tr style=\"text-align: right;\">\n",
       "      <th></th>\n",
       "      <th>Rooms</th>\n",
       "      <th>Price</th>\n",
       "      <th>Distance</th>\n",
       "      <th>Postcode</th>\n",
       "      <th>Bedroom2</th>\n",
       "      <th>Bathroom</th>\n",
       "      <th>Car</th>\n",
       "      <th>Landsize</th>\n",
       "      <th>BuildingArea</th>\n",
       "      <th>YearBuilt</th>\n",
       "      <th>Lattitude</th>\n",
       "      <th>Longtitude</th>\n",
       "      <th>Propertycount</th>\n",
       "    </tr>\n",
       "  </thead>\n",
       "  <tbody>\n",
       "    <tr>\n",
       "      <th>687</th>\n",
       "      <td>3</td>\n",
       "      <td>2000000</td>\n",
       "      <td>9.2</td>\n",
       "      <td>3104</td>\n",
       "      <td>3</td>\n",
       "      <td>1</td>\n",
       "      <td>2.0</td>\n",
       "      <td>75100</td>\n",
       "      <td>NaN</td>\n",
       "      <td>NaN</td>\n",
       "      <td>-37.80020</td>\n",
       "      <td>145.07000</td>\n",
       "      <td>7809</td>\n",
       "    </tr>\n",
       "    <tr>\n",
       "      <th>2084</th>\n",
       "      <td>3</td>\n",
       "      <td>950000</td>\n",
       "      <td>1.6</td>\n",
       "      <td>3066</td>\n",
       "      <td>3</td>\n",
       "      <td>2</td>\n",
       "      <td>1.0</td>\n",
       "      <td>15900</td>\n",
       "      <td>NaN</td>\n",
       "      <td>NaN</td>\n",
       "      <td>-37.80350</td>\n",
       "      <td>144.98500</td>\n",
       "      <td>4553</td>\n",
       "    </tr>\n",
       "    <tr>\n",
       "      <th>3750</th>\n",
       "      <td>2</td>\n",
       "      <td>352500</td>\n",
       "      <td>9.2</td>\n",
       "      <td>3012</td>\n",
       "      <td>2</td>\n",
       "      <td>1</td>\n",
       "      <td>1.0</td>\n",
       "      <td>15100</td>\n",
       "      <td>66.0</td>\n",
       "      <td>2012.0</td>\n",
       "      <td>-37.77950</td>\n",
       "      <td>144.87290</td>\n",
       "      <td>3873</td>\n",
       "    </tr>\n",
       "    <tr>\n",
       "      <th>3942</th>\n",
       "      <td>2</td>\n",
       "      <td>495000</td>\n",
       "      <td>8.7</td>\n",
       "      <td>3032</td>\n",
       "      <td>2</td>\n",
       "      <td>2</td>\n",
       "      <td>2.0</td>\n",
       "      <td>37000</td>\n",
       "      <td>NaN</td>\n",
       "      <td>NaN</td>\n",
       "      <td>-37.77520</td>\n",
       "      <td>144.89250</td>\n",
       "      <td>4918</td>\n",
       "    </tr>\n",
       "    <tr>\n",
       "      <th>4706</th>\n",
       "      <td>2</td>\n",
       "      <td>1340000</td>\n",
       "      <td>3.8</td>\n",
       "      <td>3207</td>\n",
       "      <td>2</td>\n",
       "      <td>2</td>\n",
       "      <td>2.0</td>\n",
       "      <td>21700</td>\n",
       "      <td>NaN</td>\n",
       "      <td>2000.0</td>\n",
       "      <td>-37.84240</td>\n",
       "      <td>144.94490</td>\n",
       "      <td>8648</td>\n",
       "    </tr>\n",
       "    <tr>\n",
       "      <th>5194</th>\n",
       "      <td>3</td>\n",
       "      <td>572000</td>\n",
       "      <td>11.2</td>\n",
       "      <td>3073</td>\n",
       "      <td>3</td>\n",
       "      <td>1</td>\n",
       "      <td>2.0</td>\n",
       "      <td>41400</td>\n",
       "      <td>NaN</td>\n",
       "      <td>NaN</td>\n",
       "      <td>-37.71040</td>\n",
       "      <td>145.02570</td>\n",
       "      <td>21650</td>\n",
       "    </tr>\n",
       "    <tr>\n",
       "      <th>5584</th>\n",
       "      <td>1</td>\n",
       "      <td>315000</td>\n",
       "      <td>3.3</td>\n",
       "      <td>3141</td>\n",
       "      <td>1</td>\n",
       "      <td>1</td>\n",
       "      <td>0.0</td>\n",
       "      <td>14500</td>\n",
       "      <td>NaN</td>\n",
       "      <td>2011.0</td>\n",
       "      <td>-37.83720</td>\n",
       "      <td>144.99630</td>\n",
       "      <td>14887</td>\n",
       "    </tr>\n",
       "    <tr>\n",
       "      <th>5592</th>\n",
       "      <td>2</td>\n",
       "      <td>978500</td>\n",
       "      <td>3.3</td>\n",
       "      <td>3141</td>\n",
       "      <td>2</td>\n",
       "      <td>2</td>\n",
       "      <td>2.0</td>\n",
       "      <td>17200</td>\n",
       "      <td>NaN</td>\n",
       "      <td>2000.0</td>\n",
       "      <td>-37.83610</td>\n",
       "      <td>144.99660</td>\n",
       "      <td>14887</td>\n",
       "    </tr>\n",
       "    <tr>\n",
       "      <th>5694</th>\n",
       "      <td>2</td>\n",
       "      <td>827000</td>\n",
       "      <td>3.3</td>\n",
       "      <td>3141</td>\n",
       "      <td>2</td>\n",
       "      <td>2</td>\n",
       "      <td>2.0</td>\n",
       "      <td>17200</td>\n",
       "      <td>NaN</td>\n",
       "      <td>2000.0</td>\n",
       "      <td>-37.83610</td>\n",
       "      <td>144.99660</td>\n",
       "      <td>14887</td>\n",
       "    </tr>\n",
       "    <tr>\n",
       "      <th>7778</th>\n",
       "      <td>2</td>\n",
       "      <td>945000</td>\n",
       "      <td>1.6</td>\n",
       "      <td>3066</td>\n",
       "      <td>2</td>\n",
       "      <td>1</td>\n",
       "      <td>1.0</td>\n",
       "      <td>15900</td>\n",
       "      <td>98.0</td>\n",
       "      <td>1880.0</td>\n",
       "      <td>-37.80350</td>\n",
       "      <td>144.98500</td>\n",
       "      <td>4553</td>\n",
       "    </tr>\n",
       "    <tr>\n",
       "      <th>8241</th>\n",
       "      <td>2</td>\n",
       "      <td>1030000</td>\n",
       "      <td>3.8</td>\n",
       "      <td>3207</td>\n",
       "      <td>2</td>\n",
       "      <td>2</td>\n",
       "      <td>2.0</td>\n",
       "      <td>21715</td>\n",
       "      <td>99.0</td>\n",
       "      <td>2005.0</td>\n",
       "      <td>-37.84240</td>\n",
       "      <td>144.94490</td>\n",
       "      <td>8648</td>\n",
       "    </tr>\n",
       "    <tr>\n",
       "      <th>8379</th>\n",
       "      <td>2</td>\n",
       "      <td>850000</td>\n",
       "      <td>3.3</td>\n",
       "      <td>3141</td>\n",
       "      <td>2</td>\n",
       "      <td>2</td>\n",
       "      <td>2.0</td>\n",
       "      <td>17200</td>\n",
       "      <td>NaN</td>\n",
       "      <td>2000.0</td>\n",
       "      <td>-37.83610</td>\n",
       "      <td>144.99660</td>\n",
       "      <td>14887</td>\n",
       "    </tr>\n",
       "    <tr>\n",
       "      <th>9223</th>\n",
       "      <td>2</td>\n",
       "      <td>585000</td>\n",
       "      <td>4.3</td>\n",
       "      <td>3032</td>\n",
       "      <td>2</td>\n",
       "      <td>2</td>\n",
       "      <td>2.0</td>\n",
       "      <td>37000</td>\n",
       "      <td>90.0</td>\n",
       "      <td>2004.0</td>\n",
       "      <td>-37.77518</td>\n",
       "      <td>144.89254</td>\n",
       "      <td>4918</td>\n",
       "    </tr>\n",
       "    <tr>\n",
       "      <th>10045</th>\n",
       "      <td>4</td>\n",
       "      <td>1070000</td>\n",
       "      <td>34.6</td>\n",
       "      <td>3795</td>\n",
       "      <td>4</td>\n",
       "      <td>2</td>\n",
       "      <td>3.0</td>\n",
       "      <td>38490</td>\n",
       "      <td>NaN</td>\n",
       "      <td>NaN</td>\n",
       "      <td>-37.83229</td>\n",
       "      <td>145.43003</td>\n",
       "      <td>457</td>\n",
       "    </tr>\n",
       "    <tr>\n",
       "      <th>10488</th>\n",
       "      <td>2</td>\n",
       "      <td>615000</td>\n",
       "      <td>2.4</td>\n",
       "      <td>3121</td>\n",
       "      <td>2</td>\n",
       "      <td>2</td>\n",
       "      <td>1.0</td>\n",
       "      <td>14196</td>\n",
       "      <td>86.0</td>\n",
       "      <td>2005.0</td>\n",
       "      <td>-37.81894</td>\n",
       "      <td>145.01314</td>\n",
       "      <td>14949</td>\n",
       "    </tr>\n",
       "    <tr>\n",
       "      <th>10504</th>\n",
       "      <td>3</td>\n",
       "      <td>1085000</td>\n",
       "      <td>34.6</td>\n",
       "      <td>3795</td>\n",
       "      <td>3</td>\n",
       "      <td>2</td>\n",
       "      <td>2.0</td>\n",
       "      <td>76000</td>\n",
       "      <td>NaN</td>\n",
       "      <td>NaN</td>\n",
       "      <td>-37.84739</td>\n",
       "      <td>145.47052</td>\n",
       "      <td>457</td>\n",
       "    </tr>\n",
       "    <tr>\n",
       "      <th>10819</th>\n",
       "      <td>2</td>\n",
       "      <td>762500</td>\n",
       "      <td>2.7</td>\n",
       "      <td>3141</td>\n",
       "      <td>2</td>\n",
       "      <td>1</td>\n",
       "      <td>1.0</td>\n",
       "      <td>17200</td>\n",
       "      <td>79.0</td>\n",
       "      <td>2003.0</td>\n",
       "      <td>-37.83613</td>\n",
       "      <td>144.99661</td>\n",
       "      <td>14887</td>\n",
       "    </tr>\n",
       "    <tr>\n",
       "      <th>11020</th>\n",
       "      <td>3</td>\n",
       "      <td>2700000</td>\n",
       "      <td>2.1</td>\n",
       "      <td>3065</td>\n",
       "      <td>3</td>\n",
       "      <td>3</td>\n",
       "      <td>1.0</td>\n",
       "      <td>433014</td>\n",
       "      <td>NaN</td>\n",
       "      <td>NaN</td>\n",
       "      <td>-37.79751</td>\n",
       "      <td>144.98309</td>\n",
       "      <td>5825</td>\n",
       "    </tr>\n",
       "    <tr>\n",
       "      <th>11371</th>\n",
       "      <td>4</td>\n",
       "      <td>807000</td>\n",
       "      <td>45.9</td>\n",
       "      <td>3437</td>\n",
       "      <td>4</td>\n",
       "      <td>2</td>\n",
       "      <td>3.0</td>\n",
       "      <td>40468</td>\n",
       "      <td>NaN</td>\n",
       "      <td>NaN</td>\n",
       "      <td>-37.50929</td>\n",
       "      <td>144.56444</td>\n",
       "      <td>3376</td>\n",
       "    </tr>\n",
       "    <tr>\n",
       "      <th>11526</th>\n",
       "      <td>2</td>\n",
       "      <td>341500</td>\n",
       "      <td>4.3</td>\n",
       "      <td>3032</td>\n",
       "      <td>2</td>\n",
       "      <td>1</td>\n",
       "      <td>1.0</td>\n",
       "      <td>16000</td>\n",
       "      <td>68.5</td>\n",
       "      <td>2012.0</td>\n",
       "      <td>-37.78466</td>\n",
       "      <td>144.93829</td>\n",
       "      <td>1052</td>\n",
       "    </tr>\n",
       "    <tr>\n",
       "      <th>12163</th>\n",
       "      <td>2</td>\n",
       "      <td>1090000</td>\n",
       "      <td>2.7</td>\n",
       "      <td>3141</td>\n",
       "      <td>2</td>\n",
       "      <td>2</td>\n",
       "      <td>2.0</td>\n",
       "      <td>17200</td>\n",
       "      <td>NaN</td>\n",
       "      <td>2000.0</td>\n",
       "      <td>-37.83613</td>\n",
       "      <td>144.99661</td>\n",
       "      <td>14887</td>\n",
       "    </tr>\n",
       "    <tr>\n",
       "      <th>12504</th>\n",
       "      <td>4</td>\n",
       "      <td>780000</td>\n",
       "      <td>45.9</td>\n",
       "      <td>3437</td>\n",
       "      <td>4</td>\n",
       "      <td>3</td>\n",
       "      <td>2.0</td>\n",
       "      <td>20200</td>\n",
       "      <td>189.0</td>\n",
       "      <td>1985.0</td>\n",
       "      <td>-37.49674</td>\n",
       "      <td>144.62618</td>\n",
       "      <td>3376</td>\n",
       "    </tr>\n",
       "    <tr>\n",
       "      <th>12594</th>\n",
       "      <td>2</td>\n",
       "      <td>592000</td>\n",
       "      <td>2.4</td>\n",
       "      <td>3121</td>\n",
       "      <td>2</td>\n",
       "      <td>2</td>\n",
       "      <td>1.0</td>\n",
       "      <td>14294</td>\n",
       "      <td>77.0</td>\n",
       "      <td>2006.0</td>\n",
       "      <td>-37.81894</td>\n",
       "      <td>145.01314</td>\n",
       "      <td>14949</td>\n",
       "    </tr>\n",
       "    <tr>\n",
       "      <th>13245</th>\n",
       "      <td>5</td>\n",
       "      <td>1355000</td>\n",
       "      <td>48.1</td>\n",
       "      <td>3438</td>\n",
       "      <td>5</td>\n",
       "      <td>3</td>\n",
       "      <td>5.0</td>\n",
       "      <td>44500</td>\n",
       "      <td>44515.0</td>\n",
       "      <td>NaN</td>\n",
       "      <td>-37.45392</td>\n",
       "      <td>144.58864</td>\n",
       "      <td>849</td>\n",
       "    </tr>\n",
       "  </tbody>\n",
       "</table>\n",
       "</div>"
      ],
      "text/plain": [
       "       Rooms    Price  Distance  Postcode  Bedroom2  Bathroom  Car  Landsize  \\\n",
       "687        3  2000000       9.2      3104         3         1  2.0     75100   \n",
       "2084       3   950000       1.6      3066         3         2  1.0     15900   \n",
       "3750       2   352500       9.2      3012         2         1  1.0     15100   \n",
       "3942       2   495000       8.7      3032         2         2  2.0     37000   \n",
       "4706       2  1340000       3.8      3207         2         2  2.0     21700   \n",
       "5194       3   572000      11.2      3073         3         1  2.0     41400   \n",
       "5584       1   315000       3.3      3141         1         1  0.0     14500   \n",
       "5592       2   978500       3.3      3141         2         2  2.0     17200   \n",
       "5694       2   827000       3.3      3141         2         2  2.0     17200   \n",
       "7778       2   945000       1.6      3066         2         1  1.0     15900   \n",
       "8241       2  1030000       3.8      3207         2         2  2.0     21715   \n",
       "8379       2   850000       3.3      3141         2         2  2.0     17200   \n",
       "9223       2   585000       4.3      3032         2         2  2.0     37000   \n",
       "10045      4  1070000      34.6      3795         4         2  3.0     38490   \n",
       "10488      2   615000       2.4      3121         2         2  1.0     14196   \n",
       "10504      3  1085000      34.6      3795         3         2  2.0     76000   \n",
       "10819      2   762500       2.7      3141         2         1  1.0     17200   \n",
       "11020      3  2700000       2.1      3065         3         3  1.0    433014   \n",
       "11371      4   807000      45.9      3437         4         2  3.0     40468   \n",
       "11526      2   341500       4.3      3032         2         1  1.0     16000   \n",
       "12163      2  1090000       2.7      3141         2         2  2.0     17200   \n",
       "12504      4   780000      45.9      3437         4         3  2.0     20200   \n",
       "12594      2   592000       2.4      3121         2         2  1.0     14294   \n",
       "13245      5  1355000      48.1      3438         5         3  5.0     44500   \n",
       "\n",
       "       BuildingArea  YearBuilt  Lattitude  Longtitude  Propertycount  \n",
       "687             NaN        NaN  -37.80020   145.07000           7809  \n",
       "2084            NaN        NaN  -37.80350   144.98500           4553  \n",
       "3750           66.0     2012.0  -37.77950   144.87290           3873  \n",
       "3942            NaN        NaN  -37.77520   144.89250           4918  \n",
       "4706            NaN     2000.0  -37.84240   144.94490           8648  \n",
       "5194            NaN        NaN  -37.71040   145.02570          21650  \n",
       "5584            NaN     2011.0  -37.83720   144.99630          14887  \n",
       "5592            NaN     2000.0  -37.83610   144.99660          14887  \n",
       "5694            NaN     2000.0  -37.83610   144.99660          14887  \n",
       "7778           98.0     1880.0  -37.80350   144.98500           4553  \n",
       "8241           99.0     2005.0  -37.84240   144.94490           8648  \n",
       "8379            NaN     2000.0  -37.83610   144.99660          14887  \n",
       "9223           90.0     2004.0  -37.77518   144.89254           4918  \n",
       "10045           NaN        NaN  -37.83229   145.43003            457  \n",
       "10488          86.0     2005.0  -37.81894   145.01314          14949  \n",
       "10504           NaN        NaN  -37.84739   145.47052            457  \n",
       "10819          79.0     2003.0  -37.83613   144.99661          14887  \n",
       "11020           NaN        NaN  -37.79751   144.98309           5825  \n",
       "11371           NaN        NaN  -37.50929   144.56444           3376  \n",
       "11526          68.5     2012.0  -37.78466   144.93829           1052  \n",
       "12163           NaN     2000.0  -37.83613   144.99661          14887  \n",
       "12504         189.0     1985.0  -37.49674   144.62618           3376  \n",
       "12594          77.0     2006.0  -37.81894   145.01314          14949  \n",
       "13245       44515.0        NaN  -37.45392   144.58864            849  "
      ]
     },
     "execution_count": 40,
     "metadata": {},
     "output_type": "execute_result"
    }
   ],
   "source": [
    "# check outliers based on upper limit\n",
    "df_num2[df_num2['Landsize'] > upper_limit]"
   ]
  },
  {
   "cell_type": "code",
   "execution_count": 41,
   "id": "45a4c89a-f51c-475c-bd78-c712a8f59f49",
   "metadata": {},
   "outputs": [
    {
     "name": "stderr",
     "output_type": "stream",
     "text": [
      "C:\\Users\\ASUS\\AppData\\Local\\Temp\\ipykernel_11624\\1443907746.py:2: FutureWarning: Setting an item of incompatible dtype is deprecated and will raise in a future error of pandas. Value '12530.423849983952' has dtype incompatible with int64, please explicitly cast to a compatible dtype first.\n",
      "  df_num2[df_num2['Landsize'] > upper_limit] = upper_limit\n"
     ]
    }
   ],
   "source": [
    "# cap lansize based on upper limit\n",
    "df_num2[df_num2['Landsize'] > upper_limit] = upper_limit"
   ]
  },
  {
   "cell_type": "code",
   "execution_count": 42,
   "id": "658318c2-b45e-46c9-976f-c88b1b6fb657",
   "metadata": {},
   "outputs": [
    {
     "data": {
      "text/html": [
       "<div>\n",
       "<style scoped>\n",
       "    .dataframe tbody tr th:only-of-type {\n",
       "        vertical-align: middle;\n",
       "    }\n",
       "\n",
       "    .dataframe tbody tr th {\n",
       "        vertical-align: top;\n",
       "    }\n",
       "\n",
       "    .dataframe thead th {\n",
       "        text-align: right;\n",
       "    }\n",
       "</style>\n",
       "<table border=\"1\" class=\"dataframe\">\n",
       "  <thead>\n",
       "    <tr style=\"text-align: right;\">\n",
       "      <th></th>\n",
       "      <th>Rooms</th>\n",
       "      <th>Price</th>\n",
       "      <th>Distance</th>\n",
       "      <th>Postcode</th>\n",
       "      <th>Bedroom2</th>\n",
       "      <th>Bathroom</th>\n",
       "      <th>Car</th>\n",
       "      <th>Landsize</th>\n",
       "      <th>BuildingArea</th>\n",
       "      <th>YearBuilt</th>\n",
       "      <th>Lattitude</th>\n",
       "      <th>Longtitude</th>\n",
       "      <th>Propertycount</th>\n",
       "    </tr>\n",
       "  </thead>\n",
       "  <tbody>\n",
       "  </tbody>\n",
       "</table>\n",
       "</div>"
      ],
      "text/plain": [
       "Empty DataFrame\n",
       "Columns: [Rooms, Price, Distance, Postcode, Bedroom2, Bathroom, Car, Landsize, BuildingArea, YearBuilt, Lattitude, Longtitude, Propertycount]\n",
       "Index: []"
      ]
     },
     "execution_count": 42,
     "metadata": {},
     "output_type": "execute_result"
    }
   ],
   "source": [
    "# check outliers based on upper limit after capping\n",
    "df_num2[df_num2['Landsize'] > upper_limit]\n",
    "# then repeat the same thing with the lower limit"
   ]
  },
  {
   "cell_type": "markdown",
   "id": "9f64c97f-d7a2-4749-8d59-2f868339b8a1",
   "metadata": {},
   "source": [
    "### References\n",
    "1. https://towardsdatascience.com/ways-to-detect-and-remove-the-outliers-404d16608dba\n",
    "2. https://towardsdatascience.com/5-ways-to-detect-outliers-that-every-data-scientist-should-know-python-code-70a54335a623\n",
    "3. https://www.geeksforgeeks.org/detect-and-remove-the-outliers-using-python/\n",
    "4. https://www.geeksforgeeks.org/machine-learning-outlier/\n",
    "5. https://careerfoundry.com/en/blog/data-analytics/how-to-find-outliers/"
   ]
  }
 ],
 "metadata": {
  "kernelspec": {
   "display_name": "Python 3 (ipykernel)",
   "language": "python",
   "name": "python3"
  },
  "language_info": {
   "codemirror_mode": {
    "name": "ipython",
    "version": 3
   },
   "file_extension": ".py",
   "mimetype": "text/x-python",
   "name": "python",
   "nbconvert_exporter": "python",
   "pygments_lexer": "ipython3",
   "version": "3.11.7"
  }
 },
 "nbformat": 4,
 "nbformat_minor": 5
}
