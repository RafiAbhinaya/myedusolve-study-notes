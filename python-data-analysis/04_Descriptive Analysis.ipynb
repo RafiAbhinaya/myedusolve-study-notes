{
 "cells": [
  {
   "cell_type": "markdown",
   "id": "93ecc4dc-12d9-4a75-95f2-b4ee87f6445c",
   "metadata": {},
   "source": [
    "## DESCRIPTIVE STATISTICS"
   ]
  },
  {
   "cell_type": "code",
   "execution_count": 1,
   "id": "ae1c9028-d7f6-49d4-9fed-7fb008802d2c",
   "metadata": {},
   "outputs": [],
   "source": [
    "import pandas as pd\n",
    "import numpy as np\n",
    "import matplotlib.pyplot as plt\n",
    "import seaborn as sns\n",
    "\n",
    "import warnings\n",
    "warnings.filterwarnings('ignore')"
   ]
  },
  {
   "cell_type": "code",
   "execution_count": 2,
   "id": "486b2b34-a159-49f9-925d-c485b55dcb02",
   "metadata": {},
   "outputs": [],
   "source": [
    "# load data\n",
    "df = pd.read_csv('https://raw.githubusercontent.com/mwaskom/seaborn-data/master/iris.csv')"
   ]
  },
  {
   "cell_type": "code",
   "execution_count": 3,
   "id": "9c38564b-0212-4008-8361-8c8cfc1800bb",
   "metadata": {},
   "outputs": [
    {
     "data": {
      "text/html": [
       "<div>\n",
       "<style scoped>\n",
       "    .dataframe tbody tr th:only-of-type {\n",
       "        vertical-align: middle;\n",
       "    }\n",
       "\n",
       "    .dataframe tbody tr th {\n",
       "        vertical-align: top;\n",
       "    }\n",
       "\n",
       "    .dataframe thead th {\n",
       "        text-align: right;\n",
       "    }\n",
       "</style>\n",
       "<table border=\"1\" class=\"dataframe\">\n",
       "  <thead>\n",
       "    <tr style=\"text-align: right;\">\n",
       "      <th></th>\n",
       "      <th>sepal_length</th>\n",
       "      <th>sepal_width</th>\n",
       "      <th>petal_length</th>\n",
       "      <th>petal_width</th>\n",
       "      <th>species</th>\n",
       "    </tr>\n",
       "  </thead>\n",
       "  <tbody>\n",
       "    <tr>\n",
       "      <th>0</th>\n",
       "      <td>5.1</td>\n",
       "      <td>3.5</td>\n",
       "      <td>1.4</td>\n",
       "      <td>0.2</td>\n",
       "      <td>setosa</td>\n",
       "    </tr>\n",
       "    <tr>\n",
       "      <th>1</th>\n",
       "      <td>4.9</td>\n",
       "      <td>3.0</td>\n",
       "      <td>1.4</td>\n",
       "      <td>0.2</td>\n",
       "      <td>setosa</td>\n",
       "    </tr>\n",
       "    <tr>\n",
       "      <th>2</th>\n",
       "      <td>4.7</td>\n",
       "      <td>3.2</td>\n",
       "      <td>1.3</td>\n",
       "      <td>0.2</td>\n",
       "      <td>setosa</td>\n",
       "    </tr>\n",
       "    <tr>\n",
       "      <th>3</th>\n",
       "      <td>4.6</td>\n",
       "      <td>3.1</td>\n",
       "      <td>1.5</td>\n",
       "      <td>0.2</td>\n",
       "      <td>setosa</td>\n",
       "    </tr>\n",
       "    <tr>\n",
       "      <th>4</th>\n",
       "      <td>5.0</td>\n",
       "      <td>3.6</td>\n",
       "      <td>1.4</td>\n",
       "      <td>0.2</td>\n",
       "      <td>setosa</td>\n",
       "    </tr>\n",
       "  </tbody>\n",
       "</table>\n",
       "</div>"
      ],
      "text/plain": [
       "   sepal_length  sepal_width  petal_length  petal_width species\n",
       "0           5.1          3.5           1.4          0.2  setosa\n",
       "1           4.9          3.0           1.4          0.2  setosa\n",
       "2           4.7          3.2           1.3          0.2  setosa\n",
       "3           4.6          3.1           1.5          0.2  setosa\n",
       "4           5.0          3.6           1.4          0.2  setosa"
      ]
     },
     "execution_count": 3,
     "metadata": {},
     "output_type": "execute_result"
    }
   ],
   "source": [
    "# show data\n",
    "df.head()"
   ]
  },
  {
   "cell_type": "code",
   "execution_count": 4,
   "id": "86e3ea4b-880e-46bf-a0a1-7e9c3e432289",
   "metadata": {},
   "outputs": [
    {
     "name": "stdout",
     "output_type": "stream",
     "text": [
      "<class 'pandas.core.frame.DataFrame'>\n",
      "RangeIndex: 150 entries, 0 to 149\n",
      "Data columns (total 5 columns):\n",
      " #   Column        Non-Null Count  Dtype  \n",
      "---  ------        --------------  -----  \n",
      " 0   sepal_length  150 non-null    float64\n",
      " 1   sepal_width   150 non-null    float64\n",
      " 2   petal_length  150 non-null    float64\n",
      " 3   petal_width   150 non-null    float64\n",
      " 4   species       150 non-null    object \n",
      "dtypes: float64(4), object(1)\n",
      "memory usage: 6.0+ KB\n"
     ]
    }
   ],
   "source": [
    "# show info\n",
    "df.info()"
   ]
  },
  {
   "cell_type": "markdown",
   "id": "85af626d-627b-4b35-99bb-23e2ce0dc310",
   "metadata": {},
   "source": [
    "From the information above, we can see that there are 150 entries of data, with total of 5 columns. The columns ranging from sepal_length which refers to (jelasin kolomnya), and species(jelasin kolomnya).\n",
    "\n",
    "We can also see that there are no missing values (kalau ada missing values dikasihtau disini, kolom2 apa, yang paling banyak di kolom mana, yang paling sedikit di kolom mana).\n",
    "\n",
    "After further inspection, we can infer that the data type for each columns are actually mathced. (kalau ada yang tidak match antara data type dan kolomnya, bisa di mention disini, dan sebut saja kita akan handle nanti di preprocessing data)."
   ]
  },
  {
   "cell_type": "code",
   "execution_count": 5,
   "id": "ef7d772f-9a73-49fa-95d7-bbab876d6b7f",
   "metadata": {},
   "outputs": [
    {
     "data": {
      "text/plain": [
       "sepal_length    0\n",
       "sepal_width     0\n",
       "petal_length    0\n",
       "petal_width     0\n",
       "species         0\n",
       "dtype: int64"
      ]
     },
     "execution_count": 5,
     "metadata": {},
     "output_type": "execute_result"
    }
   ],
   "source": [
    "# show null\n",
    "df.isna().sum()"
   ]
  },
  {
   "cell_type": "code",
   "execution_count": 6,
   "id": "4c924b32-b824-4e06-bde0-c06b950da759",
   "metadata": {},
   "outputs": [
    {
     "data": {
      "text/html": [
       "<div>\n",
       "<style scoped>\n",
       "    .dataframe tbody tr th:only-of-type {\n",
       "        vertical-align: middle;\n",
       "    }\n",
       "\n",
       "    .dataframe tbody tr th {\n",
       "        vertical-align: top;\n",
       "    }\n",
       "\n",
       "    .dataframe thead th {\n",
       "        text-align: right;\n",
       "    }\n",
       "</style>\n",
       "<table border=\"1\" class=\"dataframe\">\n",
       "  <thead>\n",
       "    <tr style=\"text-align: right;\">\n",
       "      <th></th>\n",
       "      <th>sepal_length</th>\n",
       "      <th>sepal_width</th>\n",
       "      <th>petal_length</th>\n",
       "      <th>petal_width</th>\n",
       "    </tr>\n",
       "  </thead>\n",
       "  <tbody>\n",
       "    <tr>\n",
       "      <th>count</th>\n",
       "      <td>150.000000</td>\n",
       "      <td>150.000000</td>\n",
       "      <td>150.000000</td>\n",
       "      <td>150.000000</td>\n",
       "    </tr>\n",
       "    <tr>\n",
       "      <th>mean</th>\n",
       "      <td>5.843333</td>\n",
       "      <td>3.057333</td>\n",
       "      <td>3.758000</td>\n",
       "      <td>1.199333</td>\n",
       "    </tr>\n",
       "    <tr>\n",
       "      <th>std</th>\n",
       "      <td>0.828066</td>\n",
       "      <td>0.435866</td>\n",
       "      <td>1.765298</td>\n",
       "      <td>0.762238</td>\n",
       "    </tr>\n",
       "    <tr>\n",
       "      <th>min</th>\n",
       "      <td>4.300000</td>\n",
       "      <td>2.000000</td>\n",
       "      <td>1.000000</td>\n",
       "      <td>0.100000</td>\n",
       "    </tr>\n",
       "    <tr>\n",
       "      <th>25%</th>\n",
       "      <td>5.100000</td>\n",
       "      <td>2.800000</td>\n",
       "      <td>1.600000</td>\n",
       "      <td>0.300000</td>\n",
       "    </tr>\n",
       "    <tr>\n",
       "      <th>50%</th>\n",
       "      <td>5.800000</td>\n",
       "      <td>3.000000</td>\n",
       "      <td>4.350000</td>\n",
       "      <td>1.300000</td>\n",
       "    </tr>\n",
       "    <tr>\n",
       "      <th>75%</th>\n",
       "      <td>6.400000</td>\n",
       "      <td>3.300000</td>\n",
       "      <td>5.100000</td>\n",
       "      <td>1.800000</td>\n",
       "    </tr>\n",
       "    <tr>\n",
       "      <th>max</th>\n",
       "      <td>7.900000</td>\n",
       "      <td>4.400000</td>\n",
       "      <td>6.900000</td>\n",
       "      <td>2.500000</td>\n",
       "    </tr>\n",
       "  </tbody>\n",
       "</table>\n",
       "</div>"
      ],
      "text/plain": [
       "       sepal_length  sepal_width  petal_length  petal_width\n",
       "count    150.000000   150.000000    150.000000   150.000000\n",
       "mean       5.843333     3.057333      3.758000     1.199333\n",
       "std        0.828066     0.435866      1.765298     0.762238\n",
       "min        4.300000     2.000000      1.000000     0.100000\n",
       "25%        5.100000     2.800000      1.600000     0.300000\n",
       "50%        5.800000     3.000000      4.350000     1.300000\n",
       "75%        6.400000     3.300000      5.100000     1.800000\n",
       "max        7.900000     4.400000      6.900000     2.500000"
      ]
     },
     "execution_count": 6,
     "metadata": {},
     "output_type": "execute_result"
    }
   ],
   "source": [
    "# show descriptive stats\n",
    "df.describe()"
   ]
  },
  {
   "cell_type": "markdown",
   "id": "e36cd767-c7bf-46d1-a1ed-0ee63a4f15ef",
   "metadata": {},
   "source": [
    "example:\n",
    "\n",
    "From the information above, we can see that sepal_lenght's mean is 5.84, and  its std is 0.82, therefore (assuming the data is normal distributed, then) if we pick tandom sample form the data, then the probability of a sample would fall udner MEAN - STD (5.84 - 0.82) and MEAN + STD (5.84 + 0.82).\n",
    "\n",
    "other information are the min valueas of the sepal_length is 4.3, median si 5.8 and the max values is 7.9 (gambarkan variable atau kolom lainnya juga, tapi yang berkaitan dengan tema yang ingin diteliti)"
   ]
  },
  {
   "cell_type": "code",
   "execution_count": 7,
   "id": "a6bcb7a1-3f8b-4b22-add3-8dbd680bfd96",
   "metadata": {},
   "outputs": [
    {
     "data": {
      "text/html": [
       "<div>\n",
       "<style scoped>\n",
       "    .dataframe tbody tr th:only-of-type {\n",
       "        vertical-align: middle;\n",
       "    }\n",
       "\n",
       "    .dataframe tbody tr th {\n",
       "        vertical-align: top;\n",
       "    }\n",
       "\n",
       "    .dataframe thead th {\n",
       "        text-align: right;\n",
       "    }\n",
       "</style>\n",
       "<table border=\"1\" class=\"dataframe\">\n",
       "  <thead>\n",
       "    <tr style=\"text-align: right;\">\n",
       "      <th></th>\n",
       "      <th>species</th>\n",
       "    </tr>\n",
       "  </thead>\n",
       "  <tbody>\n",
       "    <tr>\n",
       "      <th>count</th>\n",
       "      <td>150</td>\n",
       "    </tr>\n",
       "    <tr>\n",
       "      <th>unique</th>\n",
       "      <td>3</td>\n",
       "    </tr>\n",
       "    <tr>\n",
       "      <th>top</th>\n",
       "      <td>setosa</td>\n",
       "    </tr>\n",
       "    <tr>\n",
       "      <th>freq</th>\n",
       "      <td>50</td>\n",
       "    </tr>\n",
       "  </tbody>\n",
       "</table>\n",
       "</div>"
      ],
      "text/plain": [
       "       species\n",
       "count      150\n",
       "unique       3\n",
       "top     setosa\n",
       "freq        50"
      ]
     },
     "execution_count": 7,
     "metadata": {},
     "output_type": "execute_result"
    }
   ],
   "source": [
    "df.describe(include = 'object')"
   ]
  },
  {
   "cell_type": "markdown",
   "id": "b98ee416-0d03-4adf-92a3-552593be6f24",
   "metadata": {},
   "source": [
    "example:\n",
    "\n",
    "On species's column"
   ]
  },
  {
   "cell_type": "markdown",
   "id": "79e81d06-13fd-44a3-8b89-fa2a5e387c84",
   "metadata": {},
   "source": [
    "### Measurement of central tendency"
   ]
  },
  {
   "cell_type": "code",
   "execution_count": 8,
   "id": "e0246e44-9fcc-4712-9366-de8055aa1744",
   "metadata": {},
   "outputs": [
    {
     "data": {
      "text/plain": [
       "sepal_length    5.843333\n",
       "sepal_width     3.057333\n",
       "petal_length    3.758000\n",
       "petal_width     1.199333\n",
       "dtype: float64"
      ]
     },
     "execution_count": 8,
     "metadata": {},
     "output_type": "execute_result"
    }
   ],
   "source": [
    "# computing the mean for each feature\n",
    "df.select_dtypes(['int','float']).mean()"
   ]
  },
  {
   "cell_type": "markdown",
   "id": "96209acb-b65c-49f1-a244-b220cbe8e4b8",
   "metadata": {},
   "source": [
    "example:\n",
    "\n",
    "We have information about our mean from above information, there, we can see that the mean of sepal_length is 5.84, sepal_width is 3.05, peetal_length is 3.75 and lasly the mean of petal_width is 1.19. (disini sebutkan saja isi nilai dari mean di atas). Mean gives us the quicksnapshot value of data, but quite sensitive of outliers. (jelaskan teori mean tu bagaimana)\n",
    "\n",
    "This implies that if we pick a ranndom sample of sepal_length, sepal_width, petal_length and petal_width, we usually will have values around of 5.84, 3.05, and 3.75 and 1.19 respectively. (jelaskan implikasinya bagaimana)"
   ]
  },
  {
   "cell_type": "code",
   "execution_count": 9,
   "id": "2b3ccb50-0814-40cd-aefd-79e76ec5e0ad",
   "metadata": {},
   "outputs": [
    {
     "name": "stdout",
     "output_type": "stream",
     "text": [
      "the mean for  sepal_length is: 5.8\n",
      "the median for sepal_length is: 5.8\n",
      "the mode for sepal_lengthis: 0    5.0\n",
      "Name: sepal_length, dtype: float64\n"
     ]
    }
   ],
   "source": [
    "# computing the central tendency for each feature\n",
    "sepal_length = df['sepal_length']\n",
    "\n",
    "print(f'the mean for  sepal_length is: {round(sepal_length.mean(), 1)}')\n",
    "print(f'the median for sepal_length is: {sepal_length.median()}')\n",
    "print(f'the mode for sepal_lengthis: {sepal_length.mode()}')"
   ]
  },
  {
   "cell_type": "code",
   "execution_count": 10,
   "id": "c9aef3f1-faa1-47d8-909d-d1fc410ecc49",
   "metadata": {},
   "outputs": [
    {
     "data": {
      "text/plain": [
       "3.0573333333333337"
      ]
     },
     "execution_count": 10,
     "metadata": {},
     "output_type": "execute_result"
    }
   ],
   "source": [
    "# computing the mean for specific features\n",
    "df['sepal_width'].agg('mean')"
   ]
  },
  {
   "cell_type": "markdown",
   "id": "99014a5f-459c-4915-b83a-729605512f99",
   "metadata": {},
   "source": [
    "(sama seperti deskripsi diatas, tetapi satu persatu)"
   ]
  },
  {
   "cell_type": "code",
   "execution_count": 11,
   "id": "f472480f-ae37-4ff1-afa5-db60fcf78eea",
   "metadata": {},
   "outputs": [
    {
     "data": {
      "text/plain": [
       "(1.0, 6.9)"
      ]
     },
     "execution_count": 11,
     "metadata": {},
     "output_type": "execute_result"
    }
   ],
   "source": [
    "# range\n",
    "df['petal_length'].min(), df['petal_length'].max()"
   ]
  },
  {
   "cell_type": "code",
   "execution_count": 12,
   "id": "23899f9d-ef84-4b40-9108-50cb3a561b0a",
   "metadata": {},
   "outputs": [
    {
     "name": "stdout",
     "output_type": "stream",
     "text": [
      "sepal_length max val: 7.9\n",
      "sepal_length min val: 4.3\n",
      "sepal_length range val: 3.6000000000000005\n",
      "\n",
      "sepal_width max val: 4.4\n",
      "sepal_width min val: 2.0\n",
      "sepal_width range val: 2.4000000000000004\n",
      "\n",
      "petal_length max val: 6.9\n",
      "petal_length min val: 1.0\n",
      "petal_length range val: 5.9\n",
      "\n",
      "petal_width max val: 2.5\n",
      "petal_width min val: 0.1\n",
      "petal_width range val: 2.4\n",
      "\n",
      "species max val: virginica\n",
      "species min val: setosa\n"
     ]
    }
   ],
   "source": [
    "# computing the range for each feature\n",
    "for i in df:\n",
    "    try:\n",
    "        print(f'{i} max val: {df[i].max()}')\n",
    "        print(f'{i} min val: {df[i].min()}')\n",
    "        print(f'{i} range val: {df[i].max() - df[i].min()}\\n')\n",
    "    except:\n",
    "        pass"
   ]
  },
  {
   "cell_type": "code",
   "execution_count": 13,
   "id": "4950edba-a1ff-4350-b454-b62311c8925b",
   "metadata": {},
   "outputs": [
    {
     "name": "stdout",
     "output_type": "stream",
     "text": [
      "sepal_length max val: 7.9\n",
      "sepal_length min val: 4.3\n",
      "sepal_length range val: 3.6000000000000005\n",
      "sepal_length standard deviation: 0.8280661279778629\n"
     ]
    }
   ],
   "source": [
    "# computing the range and standard deviation\n",
    "sepal_length = df['sepal_length']\n",
    "\n",
    "print(f'sepal_length max val: {sepal_length.max()}')\n",
    "print(f'sepal_length min val: {sepal_length.min()}')\n",
    "print(f'sepal_length range val: {sepal_length.max() - sepal_length.min()}')\n",
    "print(f'sepal_length standard deviation: {sepal_length.std()}')"
   ]
  },
  {
   "cell_type": "markdown",
   "id": "dbbab189-d08f-4246-94cd-3088ce70ceac",
   "metadata": {},
   "source": [
    "example:\n",
    "Petal length From information above, the minimum and maximum values"
   ]
  },
  {
   "cell_type": "code",
   "execution_count": 14,
   "id": "e643b6e4-db70-4a86-90d8-69dddca7b387",
   "metadata": {},
   "outputs": [
    {
     "data": {
      "text/plain": [
       "sepal_length    0.828066\n",
       "sepal_width     0.435866\n",
       "petal_length    1.765298\n",
       "petal_width     0.762238\n",
       "dtype: float64"
      ]
     },
     "execution_count": 14,
     "metadata": {},
     "output_type": "execute_result"
    }
   ],
   "source": [
    "# computing the standard deviation for each feature\n",
    "df.select_dtypes(['int', 'float']).std()"
   ]
  },
  {
   "cell_type": "code",
   "execution_count": 15,
   "id": "3544d528-4fa4-49d9-98b4-4c5e907c6210",
   "metadata": {},
   "outputs": [
    {
     "data": {
      "text/plain": [
       "<function matplotlib.pyplot.show(close=None, block=None)>"
      ]
     },
     "execution_count": 15,
     "metadata": {},
     "output_type": "execute_result"
    },
    {
     "data": {
      "image/png": "[encoded data removed]",
      "text/plain": [
       "<Figure size 800x400 with 1 Axes>"
      ]
     },
     "metadata": {},
     "output_type": "display_data"
    }
   ],
   "source": [
    "# plot distribution\n",
    "plt.figure(figsize = (8,4))\n",
    "sns.distplot(df['sepal_length'])\n",
    "plt.axvline(df['sepal_length'].mean(), color = 'r')\n",
    "plt.axvline((df['sepal_length'].mean()) - (df['sepal_length'].std()), color = 'y')\n",
    "plt.axvline((df['sepal_length'].mean()) + (df['sepal_length'].std()), color = 'g')\n",
    "plt.show"
   ]
  },
  {
   "cell_type": "code",
   "execution_count": 16,
   "id": "4fca1529-102f-4e5b-9789-3450eb398859",
   "metadata": {},
   "outputs": [],
   "source": [
    "# example of IQR on sepal length\n",
    "Q1 = df['sepal_length'].quantile(0.25)\n",
    "Q2 = df['sepal_length'].quantile(0.50)\n",
    "Q3 = df['sepal_length'].quantile(0.75)\n",
    "IQR = Q3 - Q1"
   ]
  },
  {
   "cell_type": "code",
   "execution_count": 17,
   "id": "1573f30b-6ff2-4d0e-8414-841fab212c3a",
   "metadata": {},
   "outputs": [],
   "source": [
    "# compute lower and uppper whiskers\n",
    "min_IQR = Q1 - 1.5 * IQR\n",
    "max_IQR = Q1 + 1.5 * IQR"
   ]
  },
  {
   "cell_type": "code",
   "execution_count": 18,
   "id": "ee75e1cb-1f22-4967-a397-94c67b97ae42",
   "metadata": {},
   "outputs": [
    {
     "data": {
      "text/plain": [
       "(5.1, 5.8, 6.4, 3.1499999999999986, 7.050000000000001)"
      ]
     },
     "execution_count": 18,
     "metadata": {},
     "output_type": "execute_result"
    }
   ],
   "source": [
    "Q1, Q2, Q3, min_IQR, max_IQR"
   ]
  },
  {
   "cell_type": "code",
   "execution_count": 19,
   "id": "8104203c-32c2-4746-b5ad-63bdc328ff64",
   "metadata": {
    "scrolled": true
   },
   "outputs": [
    {
     "data": {
      "image/png": "[encoded data removed]",
      "text/plain": [
       "<Figure size 700x300 with 1 Axes>"
      ]
     },
     "metadata": {},
     "output_type": "display_data"
    }
   ],
   "source": [
    "# plotting box plot for sepal\n",
    "plt.figure(figsize = (7,3))\n",
    "sns.boxplot(x = df['sepal_length'])\n",
    "plt.axvline(df['sepal_length'].quantile(0.25), color = 'y')\n",
    "plt.axvline(df['sepal_length'].quantile(0.50), color = 'b')\n",
    "plt.axvline(df['sepal_length'].quantile(0.75), color = 'g')\n",
    "plt.axvline(df['sepal_length'].mean(), color = 'r')\n",
    "plt.show()"
   ]
  },
  {
   "cell_type": "markdown",
   "id": "8a802b50-889b-4829-9f5d-e722ed7c5f26",
   "metadata": {},
   "source": [
    "### Measurers of shape"
   ]
  },
  {
   "cell_type": "code",
   "execution_count": 20,
   "id": "ffc4f26c-113b-4a3a-9987-15975c8318d8",
   "metadata": {},
   "outputs": [
    {
     "data": {
      "text/plain": [
       "sepal_length    0.314911\n",
       "sepal_width     0.318966\n",
       "petal_length   -0.274884\n",
       "petal_width    -0.102967\n",
       "dtype: float64"
      ]
     },
     "execution_count": 20,
     "metadata": {},
     "output_type": "execute_result"
    }
   ],
   "source": [
    "# computing the skewness for each feature\n",
    "df.select_dtypes(['int64', 'float64']).skew()"
   ]
  },
  {
   "cell_type": "markdown",
   "id": "7f5fcb25-2ecd-49d7-b2db-c4a47d795633",
   "metadata": {},
   "source": [
    "example:\n",
    "From information above, we can see sepal_length have a positive value of (0.13) bla bla bla check recording."
   ]
  },
  {
   "cell_type": "code",
   "execution_count": 21,
   "id": "c74f37ef-1433-409c-a3b6-17cbac8e7e88",
   "metadata": {},
   "outputs": [
    {
     "data": {
      "image/png": "[encoded data removed]",
      "text/plain": [
       "<Figure size 500x300 with 1 Axes>"
      ]
     },
     "metadata": {},
     "output_type": "display_data"
    }
   ],
   "source": [
    "# plot distribution sepal length\n",
    "plt.figure(figsize = (5,3))\n",
    "sns.distplot(df['sepal_length'])\n",
    "plt.axvline(df['sepal_length'].mean(), color = 'r')\n",
    "plt.axvline(df['sepal_length'].median(), color = 'y')\n",
    "plt.show()"
   ]
  },
  {
   "cell_type": "code",
   "execution_count": 22,
   "id": "a2cf8bde-8b91-46b7-ac19-95316852dfaa",
   "metadata": {},
   "outputs": [
    {
     "data": {
      "image/png": "[encoded data removed]",
      "text/plain": [
       "<Figure size 500x300 with 1 Axes>"
      ]
     },
     "metadata": {},
     "output_type": "display_data"
    }
   ],
   "source": [
    "# plot distribution petal length\n",
    "plt.figure(figsize = (5,3))\n",
    "sns.distplot(df['petal_length'])\n",
    "plt.axvline(df['petal_length'].mean(), color = 'r')\n",
    "plt.axvline(df['petal_length'].median(), color = 'y')\n",
    "plt.show()"
   ]
  },
  {
   "cell_type": "code",
   "execution_count": 23,
   "id": "b902fdd2-a803-449d-bf84-60f93a1b1ff0",
   "metadata": {},
   "outputs": [
    {
     "data": {
      "text/plain": [
       "sepal_length   -0.552064\n",
       "sepal_width     0.228249\n",
       "petal_length   -1.402103\n",
       "petal_width    -1.340604\n",
       "dtype: float64"
      ]
     },
     "execution_count": 23,
     "metadata": {},
     "output_type": "execute_result"
    }
   ],
   "source": [
    "# computing the kurtosis for each feature\n",
    "df.select_dtypes(['int64', 'float64']).kurtosis()"
   ]
  },
  {
   "cell_type": "markdown",
   "id": "1d8c51a3-07b2-4790-b8e0-b4a288f87ff2",
   "metadata": {},
   "source": [
    "example:\n",
    "\n",
    "check recording"
   ]
  },
  {
   "cell_type": "code",
   "execution_count": 24,
   "id": "9f0169cc-3568-4a89-a793-4ef46758c7f3",
   "metadata": {},
   "outputs": [
    {
     "data": {
      "text/plain": [
       "<Figure size 500x300 with 0 Axes>"
      ]
     },
     "metadata": {},
     "output_type": "display_data"
    },
    {
     "data": {
      "image/png": "[encoded data removed]",
      "text/plain": [
       "<Figure size 500x500 with 1 Axes>"
      ]
     },
     "metadata": {},
     "output_type": "display_data"
    }
   ],
   "source": [
    "# plot distribution sepal width\n",
    "plt.figure(figsize = (5,3))\n",
    "sns.displot(df['sepal_width'])\n",
    "plt.show()"
   ]
  },
  {
   "cell_type": "code",
   "execution_count": 25,
   "id": "acedce8f-c6b3-4aa6-afa5-b3c56ee3691e",
   "metadata": {
    "scrolled": true
   },
   "outputs": [
    {
     "data": {
      "text/plain": [
       "<Figure size 500x300 with 0 Axes>"
      ]
     },
     "metadata": {},
     "output_type": "display_data"
    },
    {
     "data": {
      "image/png": "[encoded data removed]",
      "text/plain": [
       "<Figure size 500x500 with 1 Axes>"
      ]
     },
     "metadata": {},
     "output_type": "display_data"
    }
   ],
   "source": [
    "# plot distribution petal width\n",
    "plt.figure(figsize = (5,3))\n",
    "sns.displot(df['petal_width'])\n",
    "plt.show()"
   ]
  },
  {
   "cell_type": "markdown",
   "id": "e7d02185-b41a-4691-a697-1a1d709925b1",
   "metadata": {},
   "source": [
    "![](https://excelrcom.b-cdn.net/assets/admin/ckfinder/userfiles/images/2020%20uploads/blog1.PNG)\n",
    "![](https://static.vecteezy.com/system/resources/previews/021/941/192/non_2x/correlation-is-a-statistical-measure-that-expresses-the-extent-to-which-two-variables-are-linearly-related-vector.jpg)"
   ]
  },
  {
   "cell_type": "code",
   "execution_count": 26,
   "id": "e0cfe870-48c5-44d9-bd4e-0b3638b8b64d",
   "metadata": {},
   "outputs": [],
   "source": [
    "# filter data to numerical\n",
    "df_num = df.select_dtypes(['int64', 'float64'])"
   ]
  },
  {
   "cell_type": "code",
   "execution_count": 27,
   "id": "dc5d327e-930c-458b-a37e-b5da85f1ce39",
   "metadata": {},
   "outputs": [
    {
     "data": {
      "text/html": [
       "<div>\n",
       "<style scoped>\n",
       "    .dataframe tbody tr th:only-of-type {\n",
       "        vertical-align: middle;\n",
       "    }\n",
       "\n",
       "    .dataframe tbody tr th {\n",
       "        vertical-align: top;\n",
       "    }\n",
       "\n",
       "    .dataframe thead th {\n",
       "        text-align: right;\n",
       "    }\n",
       "</style>\n",
       "<table border=\"1\" class=\"dataframe\">\n",
       "  <thead>\n",
       "    <tr style=\"text-align: right;\">\n",
       "      <th></th>\n",
       "      <th>sepal_length</th>\n",
       "      <th>sepal_width</th>\n",
       "      <th>petal_length</th>\n",
       "      <th>petal_width</th>\n",
       "    </tr>\n",
       "  </thead>\n",
       "  <tbody>\n",
       "    <tr>\n",
       "      <th>sepal_length</th>\n",
       "      <td>0.685694</td>\n",
       "      <td>-0.042434</td>\n",
       "      <td>1.274315</td>\n",
       "      <td>0.516271</td>\n",
       "    </tr>\n",
       "    <tr>\n",
       "      <th>sepal_width</th>\n",
       "      <td>-0.042434</td>\n",
       "      <td>0.189979</td>\n",
       "      <td>-0.329656</td>\n",
       "      <td>-0.121639</td>\n",
       "    </tr>\n",
       "    <tr>\n",
       "      <th>petal_length</th>\n",
       "      <td>1.274315</td>\n",
       "      <td>-0.329656</td>\n",
       "      <td>3.116278</td>\n",
       "      <td>1.295609</td>\n",
       "    </tr>\n",
       "    <tr>\n",
       "      <th>petal_width</th>\n",
       "      <td>0.516271</td>\n",
       "      <td>-0.121639</td>\n",
       "      <td>1.295609</td>\n",
       "      <td>0.581006</td>\n",
       "    </tr>\n",
       "  </tbody>\n",
       "</table>\n",
       "</div>"
      ],
      "text/plain": [
       "              sepal_length  sepal_width  petal_length  petal_width\n",
       "sepal_length      0.685694    -0.042434      1.274315     0.516271\n",
       "sepal_width      -0.042434     0.189979     -0.329656    -0.121639\n",
       "petal_length      1.274315    -0.329656      3.116278     1.295609\n",
       "petal_width       0.516271    -0.121639      1.295609     0.581006"
      ]
     },
     "execution_count": 27,
     "metadata": {},
     "output_type": "execute_result"
    }
   ],
   "source": [
    "# covariance\n",
    "df_num.cov()"
   ]
  },
  {
   "cell_type": "code",
   "execution_count": 28,
   "id": "2332e14b-eb36-476c-99a8-673d408e163c",
   "metadata": {},
   "outputs": [
    {
     "data": {
      "text/html": [
       "<div>\n",
       "<style scoped>\n",
       "    .dataframe tbody tr th:only-of-type {\n",
       "        vertical-align: middle;\n",
       "    }\n",
       "\n",
       "    .dataframe tbody tr th {\n",
       "        vertical-align: top;\n",
       "    }\n",
       "\n",
       "    .dataframe thead th {\n",
       "        text-align: right;\n",
       "    }\n",
       "</style>\n",
       "<table border=\"1\" class=\"dataframe\">\n",
       "  <thead>\n",
       "    <tr style=\"text-align: right;\">\n",
       "      <th></th>\n",
       "      <th>sepal_length</th>\n",
       "      <th>sepal_width</th>\n",
       "      <th>petal_length</th>\n",
       "      <th>petal_width</th>\n",
       "    </tr>\n",
       "  </thead>\n",
       "  <tbody>\n",
       "    <tr>\n",
       "      <th>sepal_length</th>\n",
       "      <td>1.000000</td>\n",
       "      <td>-0.117570</td>\n",
       "      <td>0.871754</td>\n",
       "      <td>0.817941</td>\n",
       "    </tr>\n",
       "    <tr>\n",
       "      <th>sepal_width</th>\n",
       "      <td>-0.117570</td>\n",
       "      <td>1.000000</td>\n",
       "      <td>-0.428440</td>\n",
       "      <td>-0.366126</td>\n",
       "    </tr>\n",
       "    <tr>\n",
       "      <th>petal_length</th>\n",
       "      <td>0.871754</td>\n",
       "      <td>-0.428440</td>\n",
       "      <td>1.000000</td>\n",
       "      <td>0.962865</td>\n",
       "    </tr>\n",
       "    <tr>\n",
       "      <th>petal_width</th>\n",
       "      <td>0.817941</td>\n",
       "      <td>-0.366126</td>\n",
       "      <td>0.962865</td>\n",
       "      <td>1.000000</td>\n",
       "    </tr>\n",
       "  </tbody>\n",
       "</table>\n",
       "</div>"
      ],
      "text/plain": [
       "              sepal_length  sepal_width  petal_length  petal_width\n",
       "sepal_length      1.000000    -0.117570      0.871754     0.817941\n",
       "sepal_width      -0.117570     1.000000     -0.428440    -0.366126\n",
       "petal_length      0.871754    -0.428440      1.000000     0.962865\n",
       "petal_width       0.817941    -0.366126      0.962865     1.000000"
      ]
     },
     "execution_count": 28,
     "metadata": {},
     "output_type": "execute_result"
    }
   ],
   "source": [
    "# correlation\n",
    "df_num.corr()"
   ]
  },
  {
   "cell_type": "code",
   "execution_count": 29,
   "id": "5d22de45-5c32-4f15-bf68-c995cc740369",
   "metadata": {
    "scrolled": true
   },
   "outputs": [
    {
     "data": {
      "image/png": "[encoded data removed]",
      "text/plain": [
       "<Figure size 640x480 with 2 Axes>"
      ]
     },
     "metadata": {},
     "output_type": "display_data"
    }
   ],
   "source": [
    "# visualizing with correlation matrix\n",
    "sns.heatmap(df_num.corr(), annot = True)\n",
    "plt.show()"
   ]
  },
  {
   "cell_type": "markdown",
   "id": "94f0be4e-046d-4fae-858f-5a9d8e331e04",
   "metadata": {},
   "source": [
    "example:\n",
    "\n",
    "From the correlation matrix, we can see that sepal_length are having a strong postitive relationship with petal_length and petal_width. This indicates that if the bigger sepal_length usually the bigger values of petal length and width (deskripsikan apa yang positivem dan yang menarik atau sesua dengan yang akan dianalisis).\n",
    "\n",
    "While on the other hand, sepal_length having a slightly negative relationship with sepal_width, indicates that"
   ]
  },
  {
   "cell_type": "markdown",
   "id": "8c25362d-a298-45d9-96a1-7f34cd3bb5f8",
   "metadata": {},
   "source": [
    "## REFERENCES\n",
    "1. https://www.kdnuggets.com/2018/12/introduction-statistics-data-science.html\n",
    "2. https://data-flair.training/blogs/python-descriptive-statistics/\n",
    "3. https://scipy-lectures.org/packages/statistics/index.html\n",
    "4. https://www.datacamp.com/tutorial/python-statistics-data-science\n",
    "5. https://online.hbs.edu/blog/post/descriptive-analytics\n",
    "6. https://www.analyticssteps.com/blogs/overview-descriptive-analysis\n",
    "7. https://www.smartpls.com/documentation/functionalities/excess-kurtosis-and-skewness/\n",
    "8. https://www.simplilearn.com/covariance-vs-correlation-article"
   ]
  }
 ],
 "metadata": {
  "kernelspec": {
   "display_name": "Python 3 (ipykernel)",
   "language": "python",
   "name": "python3"
  },
  "language_info": {
   "codemirror_mode": {
    "name": "ipython",
    "version": 3
   },
   "file_extension": ".py",
   "mimetype": "text/x-python",
   "name": "python",
   "nbconvert_exporter": "python",
   "pygments_lexer": "ipython3",
   "version": "3.11.7"
  }
 },
 "nbformat": 4,
 "nbformat_minor": 5
}
