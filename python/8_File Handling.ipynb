{
 "cells": [
  {
   "cell_type": "code",
   "execution_count": 1,
   "id": "a0c16aaa-2ec4-4a86-b146-83ed2810006e",
   "metadata": {},
   "outputs": [],
   "source": [
    "# open a file for reading\n",
    "file = open(\"Example.txt\", \"r\")"
   ]
  },
  {
   "cell_type": "code",
   "execution_count": 2,
   "id": "7dc007b7-a846-419a-9ebd-c08c1386df2a",
   "metadata": {},
   "outputs": [
    {
     "data": {
      "text/plain": [
       "<_io.TextIOWrapper name='Example.txt' mode='r' encoding='cp1252'>"
      ]
     },
     "execution_count": 2,
     "metadata": {},
     "output_type": "execute_result"
    }
   ],
   "source": [
    "file"
   ]
  },
  {
   "cell_type": "code",
   "execution_count": 3,
   "id": "a50a81f2-ed84-4bc5-bf1e-f49ffe756f67",
   "metadata": {},
   "outputs": [],
   "source": [
    "# reading the entire content of the file\n",
    "file_content = file.read()"
   ]
  },
  {
   "cell_type": "code",
   "execution_count": 4,
   "id": "65688c5b-e4a1-414d-88ee-5aafa56d3b4b",
   "metadata": {
    "collapsed": true,
    "jupyter": {
     "outputs_hidden": true
    },
    "scrolled": true
   },
   "outputs": [
    {
     "name": "stdout",
     "output_type": "stream",
     "text": [
      "Reading Files with Python\n",
      "Files are everywhere: on computers, mobile devices, and across the cloud. Working with files is essential for every programmer, regardless of which programming language you're using.\n",
      "\n",
      "File handling is a mechanism for creating a file, writing data, and reading data from it. The good news is that Python is enriched with packages for handling different file types.\n",
      "\n",
      "In this tutorial, we'll learn how to handle files of different types. However, we'll focus more on reading files with Python.\n"
     ]
    }
   ],
   "source": [
    "# check file content\n",
    "print(file_content)"
   ]
  },
  {
   "cell_type": "code",
   "execution_count": 5,
   "id": "dc2ebcd2-2952-4065-b6b4-7d531c84da23",
   "metadata": {
    "collapsed": true,
    "jupyter": {
     "outputs_hidden": true
    }
   },
   "outputs": [
    {
     "data": {
      "text/plain": [
       "\"Reading Files with Python\\nFiles are everywhere: on computers, mobile devices, and across the cloud. Working with files is essential for every programmer, regardless of which programming language you're using.\\n\\nFile handling is a mechanism for creating a file, writing data, and reading data from it. The good news is that Python is enriched with packages for handling different file types.\\n\\nIn this tutorial, we'll learn how to handle files of different types. However, we'll focus more on reading files with Python.\""
      ]
     },
     "execution_count": 5,
     "metadata": {},
     "output_type": "execute_result"
    }
   ],
   "source": [
    "file_content"
   ]
  },
  {
   "cell_type": "code",
   "execution_count": 8,
   "id": "505c3153-4694-4d63-a934-d57308998cb9",
   "metadata": {},
   "outputs": [],
   "source": [
    "# open file for reading\n",
    "file = open(\"Example.txt\", \"r\")"
   ]
  },
  {
   "cell_type": "code",
   "execution_count": 11,
   "id": "8cc75204-ac6c-4d3f-a648-65ded804429c",
   "metadata": {},
   "outputs": [],
   "source": [
    "# reading all lines and returning them\n",
    "file_line = file.readline() # read one line at a time\n",
    "file_lines = file.readlines() # read as a list of strings"
   ]
  },
  {
   "cell_type": "code",
   "execution_count": 12,
   "id": "19cb1b37-7166-487d-8f0c-6e98ad015b87",
   "metadata": {
    "collapsed": true,
    "jupyter": {
     "outputs_hidden": true
    },
    "scrolled": true
   },
   "outputs": [
    {
     "name": "stdout",
     "output_type": "stream",
     "text": [
      "Files are everywhere: on computers, mobile devices, and across the cloud. Working with files is essential for every programmer, regardless of which programming language you're using.\n",
      "\n"
     ]
    }
   ],
   "source": [
    "print(file_line)"
   ]
  },
  {
   "cell_type": "code",
   "execution_count": 13,
   "id": "db3e4861-ac0b-45b5-ae56-ac3b14a49528",
   "metadata": {
    "collapsed": true,
    "jupyter": {
     "outputs_hidden": true
    }
   },
   "outputs": [
    {
     "name": "stdout",
     "output_type": "stream",
     "text": [
      "['\\n', 'File handling is a mechanism for creating a file, writing data, and reading data from it. The good news is that Python is enriched with packages for handling different file types.\\n', '\\n', \"In this tutorial, we'll learn how to handle files of different types. However, we'll focus more on reading files with Python.\"]\n"
     ]
    }
   ],
   "source": [
    "print(file_lines)"
   ]
  },
  {
   "cell_type": "code",
   "execution_count": 14,
   "id": "c76d494c-318d-4bc1-bb38-c541f2ea41a1",
   "metadata": {},
   "outputs": [],
   "source": [
    "with open(\"Example.txt\", \"r\") as file:\n",
    "    content = file.read()"
   ]
  },
  {
   "cell_type": "code",
   "execution_count": 15,
   "id": "ceaffaae-9d45-44a3-b9d7-bf8d899fb7bf",
   "metadata": {
    "collapsed": true,
    "jupyter": {
     "outputs_hidden": true
    }
   },
   "outputs": [
    {
     "name": "stdout",
     "output_type": "stream",
     "text": [
      "Reading Files with Python\n",
      "Files are everywhere: on computers, mobile devices, and across the cloud. Working with files is essential for every programmer, regardless of which programming language you're using.\n",
      "\n",
      "File handling is a mechanism for creating a file, writing data, and reading data from it. The good news is that Python is enriched with packages for handling different file types.\n",
      "\n",
      "In this tutorial, we'll learn how to handle files of different types. However, we'll focus more on reading files with Python.\n"
     ]
    }
   ],
   "source": [
    "print(content)"
   ]
  },
  {
   "cell_type": "code",
   "execution_count": 17,
   "id": "31c2e667-769f-41b6-b3fc-2765c1b96d79",
   "metadata": {},
   "outputs": [],
   "source": [
    "# close file\n",
    "file.close()"
   ]
  },
  {
   "cell_type": "code",
   "execution_count": 18,
   "id": "95f460d2-f3f1-49ef-8bf2-1e73d87d83f7",
   "metadata": {},
   "outputs": [],
   "source": [
    "# writing to a file using w\n",
    "with open(\"data/example.txt\", \"w\") as file:\n",
    "    file.write(\"Hello world\")"
   ]
  },
  {
   "cell_type": "code",
   "execution_count": 19,
   "id": "53fdc9c8-ac8f-4873-86cb-e3f156bf8471",
   "metadata": {},
   "outputs": [],
   "source": [
    "# append to a file using a\n",
    "with open(\"data/example.txt\", \"a\") as file:\n",
    "    file.write(\"\\nHello world2\")"
   ]
  },
  {
   "cell_type": "code",
   "execution_count": 20,
   "id": "18241dc5-b666-4b92-83ef-799426281adf",
   "metadata": {},
   "outputs": [],
   "source": [
    "# common read and write mode\n",
    "with open(\"example.txt\", \"r\") as read_file, open(\"data/example.txt\", \"w\") as write_file:\n",
    "    content = read_file.read()"
   ]
  },
  {
   "cell_type": "markdown",
   "id": "6787583a-3d38-497c-a928-f5fa8dd60544",
   "metadata": {},
   "source": [
    "## References\n",
    "1. https://www.w3schools.com/python/python_file_handling.asp\r",
    "2. \n",
    "https://www.geeksforgeeks.org/how-to-read-from-a-file-in-python\n",
    "   /3. \r\n",
    "https://www.dataquest.io/blog/read-file-pytho\n",
    "   n4. /\r\n",
    "https://pynative.com/python-write-list-to-file/"
   ]
  }
 ],
 "metadata": {
  "kernelspec": {
   "display_name": "Python 3 (ipykernel)",
   "language": "python",
   "name": "python3"
  },
  "language_info": {
   "codemirror_mode": {
    "name": "ipython",
    "version": 3
   },
   "file_extension": ".py",
   "mimetype": "text/x-python",
   "name": "python",
   "nbconvert_exporter": "python",
   "pygments_lexer": "ipython3",
   "version": "3.11.7"
  }
 },
 "nbformat": 4,
 "nbformat_minor": 5
}
