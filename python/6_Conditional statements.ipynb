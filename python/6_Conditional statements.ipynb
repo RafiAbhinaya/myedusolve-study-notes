{
 "cells": [
  {
   "cell_type": "markdown",
   "id": "8f4d7df6-08fe-4c49-849c-33d51617df9d",
   "metadata": {},
   "source": [
    "## CONDITIONAL STATEMENTS"
   ]
  },
  {
   "cell_type": "markdown",
   "id": "eac25ff4-0e2a-4d16-b5f9-46f00d7dc9e5",
   "metadata": {},
   "source": [
    "### Python if else statements\n",
    "![](https://images.shiksha.com/mediadata/ugcDocuments/images/wordpressImages/2022_07_Python-if%E2%80%A6elif%E2%80%A6else-Statement-flowchart-.jpg)"
   ]
  },
  {
   "cell_type": "code",
   "execution_count": 11,
   "id": "08f7e04e-0be5-4dfb-bf9d-8a0c92f30a7c",
   "metadata": {},
   "outputs": [
    {
     "name": "stdout",
     "output_type": "stream",
     "text": [
      "10 is greater than 5\n"
     ]
    }
   ],
   "source": [
    "# example of if statement\n",
    "x = 10\n",
    "if x > 5: #condition \n",
    "    print(f\"{x} is greater than 5\") # statement"
   ]
  },
  {
   "cell_type": "code",
   "execution_count": 12,
   "id": "da0ac7c0-138c-4d90-8d10-95ef7872c308",
   "metadata": {},
   "outputs": [
    {
     "name": "stdout",
     "output_type": "stream",
     "text": [
      "6 is not 5\n"
     ]
    }
   ],
   "source": [
    "# example of if...else statement\n",
    "num = 6\n",
    "if num == 5:\n",
    "    print(f\"{num} is 5\")\n",
    "else:\n",
    "    print(f\"{num} is not 5\")"
   ]
  },
  {
   "cell_type": "code",
   "execution_count": 16,
   "id": "1b664cdb-d099-47f3-ba39-3852161f66b8",
   "metadata": {},
   "outputs": [
    {
     "name": "stdout",
     "output_type": "stream",
     "text": [
      "0 is zero\n"
     ]
    }
   ],
   "source": [
    "# example of if...elif...else statement\n",
    "num = 0\n",
    "if num > 0:\n",
    "    print(f\"{num} is positive\")\n",
    "if num == 0:\n",
    "    print(f\"{num} is zero\")\n",
    "if num < 0:\n",
    "    print(f\"{num} is negative\")"
   ]
  },
  {
   "cell_type": "code",
   "execution_count": 24,
   "id": "de00367c-222f-4b37-b1d7-d47ac4216977",
   "metadata": {},
   "outputs": [
    {
     "name": "stdout",
     "output_type": "stream",
     "text": [
      "233892985 is divisable by 5\n"
     ]
    }
   ],
   "source": [
    "# example if nested if statement\n",
    "num = 233892985\n",
    "if num > 0: # condition 1\n",
    "    if num % 5 == 0: # sub condition 1\n",
    "        print(f\"{num} is divisable by 5\") # sub statement 1\n",
    "    else: # sub condition 2\n",
    "        print(f\"{num} is not divisable by 5\") # sub statement 2\n",
    "else: # else condition\n",
    "    print(f\"{num} is negative\") # else statement"
   ]
  },
  {
   "cell_type": "markdown",
   "id": "a34cc243-ddf8-4cf6-a070-ee09b51d43ca",
   "metadata": {},
   "source": [
    "## References\n",
    "\n",
    "1. https://www.freecodecamp.org/news/how-to-use-conditional-statements-if-else-elif-in-python\n",
    "2. https://realpython.com/python-conditional-statements/\n",
    "3. https://www.w3schools.com/python/python_conditions.asp\n",
    "4. https://www.geeksforgeeks.org/python-if-else/"
   ]
  }
 ],
 "metadata": {
  "kernelspec": {
   "display_name": "Python 3 (ipykernel)",
   "language": "python",
   "name": "python3"
  },
  "language_info": {
   "codemirror_mode": {
    "name": "ipython",
    "version": 3
   },
   "file_extension": ".py",
   "mimetype": "text/x-python",
   "name": "python",
   "nbconvert_exporter": "python",
   "pygments_lexer": "ipython3",
   "version": "3.11.7"
  }
 },
 "nbformat": 4,
 "nbformat_minor": 5
}
