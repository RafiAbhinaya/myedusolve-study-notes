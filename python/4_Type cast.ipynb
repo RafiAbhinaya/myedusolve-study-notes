{
 "cells": [
  {
   "cell_type": "markdown",
   "id": "a55f0dd0-d2eb-47be-b199-1318246a6efe",
   "metadata": {},
   "source": [
    "## TYPE CASTING"
   ]
  },
  {
   "cell_type": "raw",
   "id": "a4284a28-a5cb-4c4b-b72d-800b59930fcf",
   "metadata": {},
   "source": [
    "### Type coversion in Python\n",
    "\n",
    "Python defines type conversion functions to directly convert one data type to another which is useful in day-to-day and competitive programming. This article is aimed at providing information about certain conversion functions.\r\n",
    "\r\n",
    "There are two types of Type Conversion in Pythn:\r\n",
    "\r\n",
    "Python Implicit Type Co er\n",
    "\n",
    "sion\r\n",
    "Python Explicit convernve\n",
    "\n",
    "rsion\r\n",
    "Type Conversion in \n",
    "Python\r\n",
    "The act of changing an object’s data type is known as type conversion. The Python interpreter automatically performs Implicit Type Conversion. Python prevents Implicit Type Conversion from losing data.\r\n",
    "The user converts the data types of objects using specified functions in explicit type conversion, sometimes referred to as type casting. When type casting, data loss could happen if the object is forced to conform to a particular data type.\r\n",
    "\r\n",
    "Implicit Type Conversion\n",
    " in Python\r\n",
    "In Implicit type conversion of data types in Python, the Python interpreter automatically converts one data type to another without any user involvement. To get a more clear view of the topic see the below examples."
   ]
  },
  {
   "cell_type": "markdown",
   "id": "323ec211-a338-47af-989c-06043039d547",
   "metadata": {},
   "source": [
    "### Implicit Type Conversion\n",
    "\n",
    "In Implicit type conversion of data types in Python, the Python interpreter automatically converts one data type to another without any user involvement. To get a more clear view of the topic see the below examples."
   ]
  },
  {
   "cell_type": "code",
   "execution_count": null,
   "id": "4b95f272-8626-486d-80d7-bd25bd5d961c",
   "metadata": {},
   "outputs": [],
   "source": []
  },
  {
   "cell_type": "code",
   "execution_count": 1,
   "id": "99b1ebe8-7de1-4ae2-a930-a6d782a7c02e",
   "metadata": {},
   "outputs": [
    {
     "data": {
      "text/plain": [
       "(2, 2.66)"
      ]
     },
     "execution_count": 1,
     "metadata": {},
     "output_type": "execute_result"
    }
   ],
   "source": [
    "# converting a float to an integer\n",
    "float_num = 2.66\n",
    "int_num = int(float_num)\n",
    "int_num, float_num"
   ]
  },
  {
   "cell_type": "code",
   "execution_count": 4,
   "id": "a95c7d79-98e0-44f0-94ad-5dc690dc9657",
   "metadata": {},
   "outputs": [
    {
     "data": {
      "text/plain": [
       "('123', 123)"
      ]
     },
     "execution_count": 4,
     "metadata": {},
     "output_type": "execute_result"
    }
   ],
   "source": [
    "# converting a string representing an integer to an integer\n",
    "string_num = '123'\n",
    "int_from_string = int(string_num)\n",
    "string_num, int_from_string"
   ]
  },
  {
   "cell_type": "code",
   "execution_count": 6,
   "id": "58d78a76-8463-42bb-8d66-0df31c5f1a2c",
   "metadata": {},
   "outputs": [
    {
     "data": {
      "text/plain": [
       "(3, 3.0)"
      ]
     },
     "execution_count": 6,
     "metadata": {},
     "output_type": "execute_result"
    }
   ],
   "source": [
    "# Converting an integer to a float\n",
    "integer_num = 3\n",
    "float_from_int = float(integer_num)\n",
    "integer_num, float_from_int"
   ]
  },
  {
   "cell_type": "code",
   "execution_count": 7,
   "id": "247acfb3-410a-4d59-bc7c-fb18d229190f",
   "metadata": {},
   "outputs": [
    {
     "data": {
      "text/plain": [
       "('3.6', 3.6)"
      ]
     },
     "execution_count": 7,
     "metadata": {},
     "output_type": "execute_result"
    }
   ],
   "source": [
    "# converting a string representin a float to a float\n",
    "string_float = '3.6'\n",
    "float_from_string = float(string_float)\n",
    "string_float, float_from_string"
   ]
  },
  {
   "cell_type": "code",
   "execution_count": 10,
   "id": "997dfd1e-06b9-4609-a4d2-259bc32df767",
   "metadata": {},
   "outputs": [
    {
     "data": {
      "text/plain": [
       "'3029'"
      ]
     },
     "execution_count": 10,
     "metadata": {},
     "output_type": "execute_result"
    }
   ],
   "source": [
    "# converting an integer to a string\n",
    "integer_val = 3029\n",
    "string_to_val = str(integer_val)\n",
    "string_to_val"
   ]
  },
  {
   "cell_type": "code",
   "execution_count": 9,
   "id": "22a62df0-f23b-4ac6-9e3a-0a5e99360f88",
   "metadata": {},
   "outputs": [
    {
     "data": {
      "text/plain": [
       "\"['one', 2, 5.6]\""
      ]
     },
     "execution_count": 9,
     "metadata": {},
     "output_type": "execute_result"
    }
   ],
   "source": [
    "# converting a list to a string\n",
    "list_val = [\"one\",2,5.6]\n",
    "string_from_list = str(list_val)\n",
    "string_from_list"
   ]
  },
  {
   "cell_type": "code",
   "execution_count": 11,
   "id": "cfb6f488-72b7-43ac-bd1c-796ca5b77433",
   "metadata": {},
   "outputs": [],
   "source": [
    "# converting a string to a list\n",
    "string_val1 = \"hello\"\n",
    "string_val2 = \"world\"\n",
    "tuple_val = (1,2,3,4)\n",
    "set_val = {1,2,3,4}\n",
    "list_val = [1,2,3,4]"
   ]
  },
  {
   "cell_type": "code",
   "execution_count": 15,
   "id": "c6c2aff2-c29a-4f05-882e-fd7436fae41e",
   "metadata": {},
   "outputs": [
    {
     "name": "stdout",
     "output_type": "stream",
     "text": [
      "['h', 'e', 'l', 'l', 'o']\n",
      "['hello', 'world']\n",
      "[1, 2, 3, 4]\n",
      "[1, 2, 3, 4]\n"
     ]
    }
   ],
   "source": [
    "# converting a string to a lisg\n",
    "print(list(string_val1))\n",
    "\n",
    "# converting a string to a list, without iteration using []\n",
    "print([string_val1, string_val2])\n",
    "\n",
    "# converting a tuple to a list\n",
    "print(list(tuple_val))\n",
    "\n",
    "# converting a set to a list\n",
    "print(list(set_val))"
   ]
  },
  {
   "cell_type": "code",
   "execution_count": 21,
   "id": "8b0e6afd-fcbe-4161-907d-e5021dbdf0d6",
   "metadata": {},
   "outputs": [
    {
     "name": "stdout",
     "output_type": "stream",
     "text": [
      "(1, 2, 3, 4)\n",
      "(1, 2, 3, 4)\n",
      "('hello', 'world')\n",
      "('h', 'e', 'l', 'l', 'o')\n"
     ]
    }
   ],
   "source": [
    "# converting a list to a tuple\n",
    "print(tuple(list_val))\n",
    "\n",
    "# converting a set to a tuple\n",
    "print(tuple(set_val))\n",
    "\n",
    "# converting a string to a tuple, without iteration using []\n",
    "print((string_val1,string_val2))\n",
    "\n",
    "# converting a string to a tuple\n",
    "print(tuple(string_val1))"
   ]
  },
  {
   "cell_type": "code",
   "execution_count": 23,
   "id": "6fbd1256-07d1-44aa-bb69-68e47bc09e15",
   "metadata": {},
   "outputs": [
    {
     "name": "stdout",
     "output_type": "stream",
     "text": [
      "{'a': 1, 'b': 2, 'c': 3}\n"
     ]
    }
   ],
   "source": [
    "# convert list to dictionary, using dict\n",
    "list1 = [\"a\",\"b\",\"c\",\"d\"]\n",
    "list2 = [1,2,3]\n",
    "\n",
    "print(dict(zip(list1,list2)))"
   ]
  },
  {
   "cell_type": "code",
   "execution_count": 28,
   "id": "0dbf5816-d9c3-4501-bf07-b9cc47f9c7c6",
   "metadata": {},
   "outputs": [
    {
     "name": "stdout",
     "output_type": "stream",
     "text": [
      "['a', 1] ['b', 2]\n",
      "(['a', 1], ['b', 2])\n",
      "{'a': 1, 'b': 2}\n"
     ]
    }
   ],
   "source": [
    "# convert tuple / set to dict\n",
    "tup1 = [\"a\",1]\n",
    "tup2 = [\"b\",2]\n",
    "\n",
    "print(tup1,tup2)\n",
    "print((tup1,tup2))\n",
    "print(dict((tup1,tup2)))"
   ]
  },
  {
   "cell_type": "markdown",
   "id": "b9053c71-33fa-47a8-b042-691999afd6c4",
   "metadata": {},
   "source": [
    "## References\n",
    "1. https://www.pythontutorial.net/python-basics/python-type-conversion/\n",
    "2. https://www.w3schools.com/python/python_casting.asp\n",
    "3. https://www.geeksforgeeks.org/type-conversion-in-python/"
   ]
  }
 ],
 "metadata": {
  "kernelspec": {
   "display_name": "Python 3 (ipykernel)",
   "language": "python",
   "name": "python3"
  },
  "language_info": {
   "codemirror_mode": {
    "name": "ipython",
    "version": 3
   },
   "file_extension": ".py",
   "mimetype": "text/x-python",
   "name": "python",
   "nbconvert_exporter": "python",
   "pygments_lexer": "ipython3",
   "version": "3.11.7"
  }
 },
 "nbformat": 4,
 "nbformat_minor": 5
}
