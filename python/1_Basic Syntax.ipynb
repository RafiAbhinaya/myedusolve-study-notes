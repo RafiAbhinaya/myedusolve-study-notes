{
 "cells": [
  {
   "cell_type": "markdown",
   "id": "d2a83b7a-d483-4c36-ad7a-19162a8d9d20",
   "metadata": {},
   "source": [
    " ## INTRODUCTION"
   ]
  },
  {
   "cell_type": "markdown",
   "id": "ccea4fd0-8092-46be-bd84-abe91ee7ff25",
   "metadata": {},
   "source": [
    ">#### Python syntax\n",
    ">Python syntax can be executed by writing directly in the commadn line:\n",
    ">\n",
    ">``print(\"Hello, World!\")``\n",
    ">\n",
    ">``Hello, World!``"
   ]
  },
  {
   "cell_type": "code",
   "execution_count": 3,
   "id": "d63ff956-b311-4d37-9d8a-ecbab1bc4951",
   "metadata": {},
   "outputs": [
    {
     "name": "stdout",
     "output_type": "stream",
     "text": [
      "Hello\n"
     ]
    }
   ],
   "source": [
    "print(\"Hello\")"
   ]
  },
  {
   "cell_type": "code",
   "execution_count": 4,
   "id": "b9a15c9b-99b9-47a7-810d-15b03bd01ad5",
   "metadata": {},
   "outputs": [
    {
     "name": "stdout",
     "output_type": "stream",
     "text": [
      "Hello World!\n"
     ]
    }
   ],
   "source": [
    "print(\"Hello World!\")"
   ]
  },
  {
   "cell_type": "code",
   "execution_count": 6,
   "id": "de959b59-14ac-4d78-883b-37f35619cbd1",
   "metadata": {},
   "outputs": [
    {
     "name": "stdout",
     "output_type": "stream",
     "text": [
      "100000\n"
     ]
    }
   ],
   "source": [
    "print(100000)"
   ]
  },
  {
   "cell_type": "markdown",
   "id": "d401a8a1-cab9-493e-8bf3-c7f7b2c0eca5",
   "metadata": {},
   "source": [
    "## Python Comment\n",
    ">Comments can be used to explain Python Code\n",
    ">\n",
    ">Comments can be used to make the code more readable\n",
    ">\n",
    ">Comments can be used to prevent execution when testing code"
   ]
  },
  {
   "cell_type": "code",
   "execution_count": 7,
   "id": "7724ca78-98a0-48c9-87df-b57f4106cd50",
   "metadata": {},
   "outputs": [
    {
     "name": "stdout",
     "output_type": "stream",
     "text": [
      "Hello\n"
     ]
    }
   ],
   "source": [
    "# this is comment, used for making comment or code explanation\n",
    "print(\"Hello\")"
   ]
  },
  {
   "cell_type": "code",
   "execution_count": 8,
   "id": "94d391c2-f13e-47f6-80fb-0bf68b27df06",
   "metadata": {},
   "outputs": [
    {
     "name": "stdout",
     "output_type": "stream",
     "text": [
      "Hello\n"
     ]
    }
   ],
   "source": [
    "# use pritn funciton to print the text (code explanation)\n",
    "print(\"Hello\")"
   ]
  },
  {
   "cell_type": "code",
   "execution_count": 10,
   "id": "fb83846d-ebec-412f-9078-1b2f2a7d0084",
   "metadata": {},
   "outputs": [
    {
     "name": "stdout",
     "output_type": "stream",
     "text": [
      "Hello2\n"
     ]
    }
   ],
   "source": [
    "# print is also used for skipping code\n",
    "# print(\"Hello\")\n",
    "print(\"Hello2\")"
   ]
  },
  {
   "cell_type": "code",
   "execution_count": 11,
   "id": "bb0c3a5c-32fb-4ceb-bba4-7d3312edc2cd",
   "metadata": {},
   "outputs": [
    {
     "name": "stdout",
     "output_type": "stream",
     "text": [
      "Hello1\n",
      "Hello2\n"
     ]
    }
   ],
   "source": [
    "print(\"Hello1\") # this is code 1\n",
    "print(\"Hello2\") # this is code 2"
   ]
  },
  {
   "cell_type": "markdown",
   "id": "294db50f-a525-469e-9a92-f77b8e15395f",
   "metadata": {},
   "source": [
    "### Multiline Comments\n",
    ">Python does not really have a syntax for multiline comments.\n",
    ">\n",
    ">To add a multiline comment you could insert a ``#`` for each line:"
   ]
  },
  {
   "cell_type": "code",
   "execution_count": 14,
   "id": "d9b17d40-5a7f-4b50-a7ce-76e98d04b18b",
   "metadata": {},
   "outputs": [
    {
     "name": "stdout",
     "output_type": "stream",
     "text": [
      "Hello, World!\n"
     ]
    }
   ],
   "source": [
    "#This is a comment\r\n",
    "#written in\r\n",
    "#more than just one line\r\n",
    "print(\"Hello, World!\")"
   ]
  },
  {
   "cell_type": "markdown",
   "id": "dbb79228-eacd-4e75-8c46-81a1304cdbfd",
   "metadata": {},
   "source": [
    ">Or, not quite as intended, you can use a multiple string.\n",
    ">\n",
    ">Since Python will ignore string literals that are not assigned to a variable, you can add amultiple string (triple quotes in you code, and place you comment inside it:"
   ]
  },
  {
   "cell_type": "code",
   "execution_count": 16,
   "id": "0f40e32d-4f04-4fd0-b744-b389f747475d",
   "metadata": {},
   "outputs": [
    {
     "name": "stdout",
     "output_type": "stream",
     "text": [
      "Hello World!\n"
     ]
    }
   ],
   "source": [
    "\"\"\"\n",
    "This is comment\n",
    "written in \n",
    "more than just one Line\n",
    "\"\"\"\n",
    "print(\"Hello World!\")"
   ]
  },
  {
   "cell_type": "markdown",
   "id": "3a37a0a4-8baa-4025-a63e-38d68221b892",
   "metadata": {},
   "source": [
    "### Why Use Casings in Programming?\r",
    ">In programming, spaces are reserved characters.\n",
    ">\n",
    ">Let's take the following example.\n",
    ">\n",
    ">Say you want to create a variable in you program, and the name of the variable is more than just one word.\n",
    ">\n",
    ">For you program to not crash, you cannot leave spaces between the different words when creating the variable.able."
   ]
  },
  {
   "cell_type": "markdown",
   "id": "294d6db7-eefa-45d7-8264-2c86c4d57ca0",
   "metadata": {},
   "source": [
    "#### What is Snake Case?\n",
    ">Snake case separates each word with an underscore character (_).\n",
    ">\n",
    ">When using snake case, all letters need to be lowercase.\n",
    ">\n",
    ">Here are some examples of how you would use the snake case:"
   ]
  },
  {
   "cell_type": "code",
   "execution_count": 18,
   "id": "6b0ca051-62c7-4de9-9464-33491318c203",
   "metadata": {},
   "outputs": [
    {
     "name": "stdout",
     "output_type": "stream",
     "text": [
      "hello_world\n"
     ]
    }
   ],
   "source": [
    "print(\"hello_world\")"
   ]
  },
  {
   "cell_type": "code",
   "execution_count": null,
   "id": "1639163d-7234-4d68-b7ec-aad5e08bc6fd",
   "metadata": {},
   "outputs": [],
   "source": []
  }
 ],
 "metadata": {
  "kernelspec": {
   "display_name": "Python 3 (ipykernel)",
   "language": "python",
   "name": "python3"
  },
  "language_info": {
   "codemirror_mode": {
    "name": "ipython",
    "version": 3
   },
   "file_extension": ".py",
   "mimetype": "text/x-python",
   "name": "python",
   "nbconvert_exporter": "python",
   "pygments_lexer": "ipython3",
   "version": "3.11.7"
  }
 },
 "nbformat": 4,
 "nbformat_minor": 5
}
