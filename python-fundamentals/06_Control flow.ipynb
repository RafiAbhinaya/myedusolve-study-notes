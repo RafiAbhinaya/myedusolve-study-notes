{
 "cells": [
  {
   "cell_type": "markdown",
   "id": "64c6f116-073a-478d-86e1-6325957379a1",
   "metadata": {},
   "source": [
    "## LIST DATATYPE"
   ]
  },
  {
   "cell_type": "code",
   "execution_count": 1,
   "id": "ed9f5d2f-285e-476a-9f1b-ace7ac618273",
   "metadata": {},
   "outputs": [],
   "source": [
    "# create a list\n",
    "list1 = [1,2,3,4,5] #integer\n",
    "list2 = [\"apple\", \"banana\", \"cherry\"] #string"
   ]
  },
  {
   "cell_type": "code",
   "execution_count": 2,
   "id": "187b22ed-1049-45c7-a8c0-e6668c29af0a",
   "metadata": {},
   "outputs": [
    {
     "name": "stdout",
     "output_type": "stream",
     "text": [
      "1\n",
      "[2, 3]\n"
     ]
    }
   ],
   "source": [
    "# accessing values in list, indexing and slicing\n",
    "# index is basically the order of values in a list, starting from 0\n",
    "print(list1[0]) # indexing\n",
    "print(list1[1:3]) # slicing will get x:y+1"
   ]
  },
  {
   "cell_type": "code",
   "execution_count": 3,
   "id": "f3bc6b99-239c-41fb-9edd-d5b31d0d5741",
   "metadata": {},
   "outputs": [
    {
     "name": "stdout",
     "output_type": "stream",
     "text": [
      "orange\n"
     ]
    }
   ],
   "source": [
    "# change elements in list\n",
    "list2[1] = \"orange\"\n",
    "print(list2[1])"
   ]
  },
  {
   "cell_type": "code",
   "execution_count": 4,
   "id": "1fb782d2-76d4-49ef-a508-2fd72e894ae7",
   "metadata": {},
   "outputs": [
    {
     "name": "stdout",
     "output_type": "stream",
     "text": [
      "['apple', 'orange', 'cherry', 'watermelon']\n"
     ]
    }
   ],
   "source": [
    "# append (method to add a single item to the list)\n",
    "list2.append(\"watermelon\")\n",
    "print(list2)"
   ]
  },
  {
   "cell_type": "code",
   "execution_count": 5,
   "id": "cb768e4a-8ca7-4bb7-b349-9571bf595e7f",
   "metadata": {},
   "outputs": [
    {
     "name": "stdout",
     "output_type": "stream",
     "text": [
      "['apple', 'orange', 'cherry', 'watermelon', 'grape', 'banana']\n"
     ]
    }
   ],
   "source": [
    "# extend (method to add multiple items to the list)\n",
    "list2.extend([\"grape\",\"banana\"]) # needs to be a list\n",
    "print(list2)"
   ]
  },
  {
   "cell_type": "code",
   "execution_count": 6,
   "id": "665a194f-5462-47ca-a314-8bcd6e620ae1",
   "metadata": {},
   "outputs": [
    {
     "name": "stdout",
     "output_type": "stream",
     "text": [
      "['melon', 'apple', 'orange', 'cherry', 'watermelon', 'grape', 'banana']\n"
     ]
    }
   ],
   "source": [
    "# insert (method to add items to ghe list, based on index)\n",
    "list2.insert(0,\"melon\") # index, values\n",
    "print(list2)"
   ]
  },
  {
   "cell_type": "code",
   "execution_count": 7,
   "id": "d761dc25-2dd7-453b-b3d3-7d14d138bfd8",
   "metadata": {},
   "outputs": [
    {
     "name": "stdout",
     "output_type": "stream",
     "text": [
      "['melon', 'apple', 'orange', 'watermelon', 'grape', 'banana']\n"
     ]
    }
   ],
   "source": [
    "# using the remove() method to remove a specified item\n",
    "list2.remove(\"cherry\")\n",
    "print(list2)"
   ]
  },
  {
   "cell_type": "code",
   "execution_count": 8,
   "id": "43764fc8-a7d8-4d25-97c7-78a6a5d0dedb",
   "metadata": {},
   "outputs": [
    {
     "name": "stdout",
     "output_type": "stream",
     "text": [
      "banana ['melon', 'apple', 'orange', 'watermelon', 'grape']\n"
     ]
    }
   ],
   "source": [
    "# using the pop() method to remove an item by index (removing teh last item in this case)\n",
    "popped_item = list2.pop()\n",
    "print(popped_item, list2)"
   ]
  },
  {
   "cell_type": "code",
   "execution_count": 9,
   "id": "d0609567-79de-4f16-bebc-8598a449bd3e",
   "metadata": {},
   "outputs": [
    {
     "name": "stdout",
     "output_type": "stream",
     "text": [
      "['melon', 'orange', 'watermelon', 'grape']\n"
     ]
    }
   ],
   "source": [
    "# using the del keyword to remove the item on a specified index\n",
    "del(list2[1])\n",
    "print(list2)"
   ]
  },
  {
   "cell_type": "code",
   "execution_count": 15,
   "id": "1bff9957-f0ef-4860-9bfe-f379dbd03867",
   "metadata": {},
   "outputs": [
    {
     "name": "stdout",
     "output_type": "stream",
     "text": [
      "[1, 2, 3, 4, 5, 5, 5, 6, 7, 8, 9]\n"
     ]
    }
   ],
   "source": [
    "# demonstrating some commonly used list methods\n",
    "list3 = [1,2,3,4,5,5,5,6,7,8,9] # random\n",
    "print(list3)"
   ]
  },
  {
   "cell_type": "code",
   "execution_count": 16,
   "id": "aafd81fc-cfba-45b4-8dc0-d7b2b6c7bb02",
   "metadata": {},
   "outputs": [
    {
     "name": "stdout",
     "output_type": "stream",
     "text": [
      "[1, 2, 3, 4, 5, 5, 5, 6, 7, 8, 9]\n"
     ]
    }
   ],
   "source": [
    "# copy method to copy all element in a list\n",
    "list_copy = list3.copy()\n",
    "print(list_copy)"
   ]
  },
  {
   "cell_type": "code",
   "execution_count": 20,
   "id": "7166d6c5-6f12-474d-bba5-862a9b62b0f5",
   "metadata": {},
   "outputs": [
    {
     "name": "stdout",
     "output_type": "stream",
     "text": [
      "3\n",
      "10\n"
     ]
    }
   ],
   "source": [
    "# count method to count specific element in a list\n",
    "print(list3.count(5))\n",
    "\n",
    "# index method to get index on specific element in a list\n",
    "print(list3.index(9))"
   ]
  },
  {
   "cell_type": "code",
   "execution_count": 21,
   "id": "0b504da6-f55e-4633-9fc1-d58bb6ac5c48",
   "metadata": {},
   "outputs": [
    {
     "name": "stdout",
     "output_type": "stream",
     "text": [
      "[9, 8, 7, 6, 5, 5, 5, 4, 3, 2, 1]\n"
     ]
    }
   ],
   "source": [
    "# reverse method to reverse the order in a list\n",
    "list3.reverse()\n",
    "print(list3)"
   ]
  },
  {
   "cell_type": "code",
   "execution_count": 22,
   "id": "cbde87a9-e47e-4f31-976b-eb43dd1a70b9",
   "metadata": {},
   "outputs": [
    {
     "name": "stdout",
     "output_type": "stream",
     "text": [
      "[1, 2, 3, 4, 5, 5, 5, 6, 7, 8, 9]\n"
     ]
    }
   ],
   "source": [
    "# sort method to order the elemnts in ascending\n",
    "list3.sort()\n",
    "print(list3)"
   ]
  },
  {
   "cell_type": "code",
   "execution_count": 23,
   "id": "4f782d64-785b-44b6-b9f8-96621b7cd892",
   "metadata": {},
   "outputs": [
    {
     "name": "stdout",
     "output_type": "stream",
     "text": [
      "[]\n"
     ]
    }
   ],
   "source": [
    "# cler method to clear all element in list\n",
    "list_copy.clear()\n",
    "print(list_copy)"
   ]
  },
  {
   "cell_type": "markdown",
   "id": "02986c38-0814-45f3-ba6f-77e4f66ed903",
   "metadata": {},
   "source": [
    "## References\n",
    "\n",
    "1. https://www.w3schools.com/python/python_lists.asp\n",
    "2. https://builtin.com/data-science/python-list\n",
    "3. https://python-course.eu/python-tutorial/list-manipulation.php\n",
    "4. https://www.geeksforgeeks.org/data-structures/"
   ]
  }
 ],
 "metadata": {
  "kernelspec": {
   "display_name": "Python 3 (ipykernel)",
   "language": "python",
   "name": "python3"
  },
  "language_info": {
   "codemirror_mode": {
    "name": "ipython",
    "version": 3
   },
   "file_extension": ".py",
   "mimetype": "text/x-python",
   "name": "python",
   "nbconvert_exporter": "python",
   "pygments_lexer": "ipython3",
   "version": "3.11.7"
  }
 },
 "nbformat": 4,
 "nbformat_minor": 5
}
