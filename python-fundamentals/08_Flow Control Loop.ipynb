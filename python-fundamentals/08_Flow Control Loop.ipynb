{
 "cells": [
  {
   "cell_type": "markdown",
   "id": "6e13e6a6-4de1-43e7-a088-6fc8a4025e94",
   "metadata": {},
   "source": [
    "## FLOW CONTROL LOOP"
   ]
  },
  {
   "cell_type": "markdown",
   "id": "436c223a-5592-4b55-9784-2f2beb311a38",
   "metadata": {},
   "source": [
    "![](https://d1m75rqqgidzqn.cloudfront.net/wp-data/2020/08/28190200/Iterators-in-Python.jpg)"
   ]
  },
  {
   "cell_type": "code",
   "execution_count": 1,
   "id": "d83b9cf4-11fd-44fe-95b8-d94b08f050e0",
   "metadata": {},
   "outputs": [
    {
     "name": "stdout",
     "output_type": "stream",
     "text": [
      "apple\n",
      "banana\n",
      "cherry\n"
     ]
    }
   ],
   "source": [
    "# example for loop basic syntax\n",
    "fruits = [\"apple\", \"banana\", \"cherry\"] # iterable\n",
    "for i in fruits: # iterator, conditional for loop\n",
    "  print(i) # statement for loop"
   ]
  },
  {
   "cell_type": "code",
   "execution_count": 3,
   "id": "5ec68c4a-5b58-4a52-89a5-1b884e44e012",
   "metadata": {},
   "outputs": [
    {
     "name": "stdout",
     "output_type": "stream",
     "text": [
      "H\n",
      "e\n",
      "l\n",
      "l\n",
      "o\n",
      " \n",
      "W\n",
      "o\n",
      "r\n",
      "l\n",
      "d\n"
     ]
    }
   ],
   "source": [
    "# example of looping over a string\n",
    "string = \"Hello World\"\n",
    "for c in string:\n",
    "  print(c)"
   ]
  },
  {
   "cell_type": "markdown",
   "id": "9e86455f-70ee-4482-99f5-9f27891eecc5",
   "metadata": {},
   "source": [
    "### Break statement\n",
    "With the `break` statement we can stop the loop before it has looped through all the items:"
   ]
  },
  {
   "cell_type": "code",
   "execution_count": 12,
   "id": "0b7e8dea-0c2e-4c7e-867a-b83e1c99fcb0",
   "metadata": {},
   "outputs": [
    {
     "name": "stdout",
     "output_type": "stream",
     "text": [
      "apple\n"
     ]
    }
   ],
   "source": [
    "# break statement example, break must be with a conditional statement (if/else)\n",
    "fruits = [\"apple\", \"banana\", \"cherry\"] \n",
    "for i in fruits: # conditional for loop\n",
    "    if i == \"banana\": #conditional if\n",
    "        break # statement if\n",
    "    print(i) # statement for loop"
   ]
  },
  {
   "cell_type": "markdown",
   "id": "f729cf40-856b-4c25-9377-23d741010564",
   "metadata": {},
   "source": [
    "### Pass statement\n",
    "for loops cannot be empty, but if you for some reason have a for loop with no content, put in the `pass` statement to avoid getting an error."
   ]
  },
  {
   "cell_type": "code",
   "execution_count": 16,
   "id": "8d8a14b4-f7ed-4223-b6b3-aeefc5a41a1b",
   "metadata": {},
   "outputs": [
    {
     "name": "stdout",
     "output_type": "stream",
     "text": [
      "apple\n",
      "banana\n",
      "cherry\n"
     ]
    }
   ],
   "source": [
    "# pass statement example\n",
    "fruits = [\"apple\", \"banana\", \"cherry\"] \n",
    "for i in fruits: # conditional for loop\n",
    "    if i == \"banana\": #conditional if\n",
    "        pass # statement if\n",
    "    print(i) # statement for loop"
   ]
  },
  {
   "cell_type": "markdown",
   "id": "9c6951f9-9255-4a34-a169-6ec3558a2afa",
   "metadata": {},
   "source": [
    "### Continue statement\n",
    "With the `continue` statement we can stop the current iteration of the loop, and continue with the next:"
   ]
  },
  {
   "cell_type": "code",
   "execution_count": 11,
   "id": "ec50b08f-c4d1-42b4-9832-86847cc4541b",
   "metadata": {},
   "outputs": [
    {
     "name": "stdout",
     "output_type": "stream",
     "text": [
      "apple\n",
      "cherry\n"
     ]
    }
   ],
   "source": [
    "# continue statement example\n",
    "fruits = [\"apple\", \"banana\", \"cherry\"] \n",
    "for i in fruits: # conditional for loop\n",
    "    if i == \"banana\": #conditional if\n",
    "        continue # statement if\n",
    "    print(i) # statement for loop"
   ]
  },
  {
   "cell_type": "markdown",
   "id": "bb312e63-c1c9-4092-9238-56559dfe7d59",
   "metadata": {},
   "source": [
    "### Else in for loop\n",
    "The `else` keyword in a for loop specifies a block of code to be executed when the loop is finished:"
   ]
  },
  {
   "cell_type": "code",
   "execution_count": 19,
   "id": "36519f21-b795-4f29-ad9f-a744eefa21df",
   "metadata": {},
   "outputs": [
    {
     "name": "stdout",
     "output_type": "stream",
     "text": [
      "apple\n",
      "cherry\n",
      "Loop Finished\n"
     ]
    }
   ],
   "source": [
    "# example for loop with else\n",
    "fruits = [\"apple\", \"banana\", \"cherry\"] \n",
    "for i in fruits: # conditional for loop\n",
    "    if i == \"banana\":\n",
    "        continue \n",
    "    print(i)\n",
    "else: # conditional else\n",
    "    print(\"Loop Finished\")"
   ]
  },
  {
   "cell_type": "code",
   "execution_count": 4,
   "id": "ada4f96b-f026-4482-8eae-bdb6693d1ee7",
   "metadata": {},
   "outputs": [
    {
     "name": "stdout",
     "output_type": "stream",
     "text": [
      "count: 0\n",
      "count: 1\n",
      "hello\n",
      "count: 3\n",
      "world\n",
      "count: 5\n",
      "no more count\n"
     ]
    }
   ],
   "source": [
    "# example of while loop with of else\n",
    "count = 0\n",
    "while count < 6:\n",
    "    if count == 2:\n",
    "        print(\"hello\")\n",
    "        count += 1\n",
    "    elif count == 4:\n",
    "        print(\"world\")\n",
    "        count +=1\n",
    "    else:\n",
    "        print(f\"count: {count}\")\n",
    "        count += 1\n",
    "else:\n",
    "    print(\"no more count\")"
   ]
  },
  {
   "cell_type": "code",
   "execution_count": 5,
   "id": "7d2b2fd0-3d2a-42c9-beca-4b5d82b83aaa",
   "metadata": {},
   "outputs": [],
   "source": [
    "# dictionary\n",
    "person = {\"name\": \"John\",\n",
    "         \"age\": \"30\",\n",
    "         \"city\": \"New York\"}"
   ]
  },
  {
   "cell_type": "markdown",
   "id": "91fb0098-e887-4eaa-a269-735bda004fd5",
   "metadata": {},
   "source": [
    "### Python built in functions"
   ]
  },
  {
   "cell_type": "code",
   "execution_count": 6,
   "id": "b8a2049b-736d-4b65-96b9-44574559d135",
   "metadata": {},
   "outputs": [
    {
     "name": "stdout",
     "output_type": "stream",
     "text": [
      "name\n",
      "age\n",
      "city\n"
     ]
    }
   ],
   "source": [
    "# loop through dictionary using for loop with keys()\n",
    "for i in person.keys():\n",
    "    print(i)"
   ]
  },
  {
   "cell_type": "code",
   "execution_count": 7,
   "id": "17408996-43d3-49dc-a527-2b11bd256718",
   "metadata": {},
   "outputs": [
    {
     "name": "stdout",
     "output_type": "stream",
     "text": [
      "John\n",
      "30\n",
      "New York\n"
     ]
    }
   ],
   "source": [
    "# loop through dictionary using for loop with values()\n",
    "for i in person.values():\n",
    "    print(i)"
   ]
  },
  {
   "cell_type": "code",
   "execution_count": 9,
   "id": "f0012cb8-9ff5-490b-b262-5aac42be6ff9",
   "metadata": {},
   "outputs": [
    {
     "name": "stdout",
     "output_type": "stream",
     "text": [
      "Key: name, Values: John\n",
      "Key: age, Values: 30\n",
      "Key: city, Values: New York\n"
     ]
    }
   ],
   "source": [
    "# loop through dictionary using for loop with items()\n",
    "for key, val in person.items():\n",
    "    print(f\"Key: {key}, Values: {val}\")"
   ]
  },
  {
   "cell_type": "code",
   "execution_count": 22,
   "id": "28ba9b68-bf8a-4b95-b815-f022dedd8b6d",
   "metadata": {},
   "outputs": [
    {
     "name": "stdout",
     "output_type": "stream",
     "text": [
      "Enter your name:\n"
     ]
    },
    {
     "name": "stdin",
     "output_type": "stream",
     "text": [
      " Rafi\n"
     ]
    },
    {
     "name": "stdout",
     "output_type": "stream",
     "text": [
      "Hello, Rafi!\n"
     ]
    }
   ],
   "source": [
    "# input()\n",
    "print(\"Enter your name:\")\n",
    "x = input()\n",
    "print(f\"Hello, {x}!\")"
   ]
  },
  {
   "cell_type": "code",
   "execution_count": 27,
   "id": "e3c019ed-8c43-47ac-ad49-22f96e067386",
   "metadata": {},
   "outputs": [
    {
     "name": "stdout",
     "output_type": "stream",
     "text": [
      "Enter a number for countdown!\n"
     ]
    },
    {
     "name": "stdin",
     "output_type": "stream",
     "text": [
      " 5\n"
     ]
    },
    {
     "name": "stdout",
     "output_type": "stream",
     "text": [
      "5\n",
      "4\n",
      "THREE\n",
      "2\n",
      "1\n",
      "Countdown complete!\n"
     ]
    }
   ],
   "source": [
    "# input while loop example\n",
    "print(\"Enter a number for countdown!\")\n",
    "x = int(input())\n",
    "while x > 0:\n",
    "    if x == 3:\n",
    "        print(\"THREE\")\n",
    "        x -= 1\n",
    "    else:\n",
    "        print(x)\n",
    "        x -= 1\n",
    "else:\n",
    "    print(\"Countdown complete!\")"
   ]
  },
  {
   "cell_type": "code",
   "execution_count": 13,
   "id": "7624bfe7-d9ad-4a82-adc5-97c160131e36",
   "metadata": {},
   "outputs": [
    {
     "name": "stdout",
     "output_type": "stream",
     "text": [
      "John Jenny\n",
      "Charles Christy\n",
      "Mike Monica\n",
      "('John', 'Jenny')\n",
      "('Charles', 'Christy')\n",
      "('Mike', 'Monica')\n"
     ]
    }
   ],
   "source": [
    "# example of zip (tuple)\n",
    "var1 = (\"John\", \"Charles\", \"Mike\")\n",
    "var2 = (\"Jenny\", \"Christy\", \"Monica\")\n",
    "for i, j in zip(var1, var2):\n",
    "    print(i, j)\n",
    "for k in zip(var1, var2):\n",
    "    print(k)"
   ]
  },
  {
   "cell_type": "code",
   "execution_count": 18,
   "id": "d31dbe07-6d1b-49e8-88fd-f04fdd4cc418",
   "metadata": {},
   "outputs": [
    {
     "name": "stdout",
     "output_type": "stream",
     "text": [
      "John is 25 years old\n",
      "Charles is 1 year old\n",
      "Mike is 35 years old\n"
     ]
    }
   ],
   "source": [
    "# example of zip with list\n",
    "name = [\"John\", \"Charles\", \"Mike\"]\n",
    "age = [25, 1, 35]\n",
    "for i, j in zip(name, age):\n",
    "    if j == 1:\n",
    "        print(f\"{i} is {j} year old\")\n",
    "    else:\n",
    "        print(f\"{i} is {j} years old\")"
   ]
  },
  {
   "cell_type": "code",
   "execution_count": 30,
   "id": "4691a53e-220c-4923-a4ec-979e2a59ff7c",
   "metadata": {},
   "outputs": [
    {
     "name": "stdout",
     "output_type": "stream",
     "text": [
      "index: 0, name: John\n",
      "index: 1, name: Charles\n",
      "index: 2, name: Mike\n"
     ]
    }
   ],
   "source": [
    "# example of enumerate()\n",
    "name = [\"John\", \"Charles\", \"Mike\"]\n",
    "for i, j in enumerate(name):\n",
    "    print(f\"index: {i}, name: {j}\")"
   ]
  },
  {
   "cell_type": "markdown",
   "id": "4185a39a-887a-4ed6-b14d-fd617bee27b3",
   "metadata": {},
   "source": [
    "### Nested Loop"
   ]
  },
  {
   "cell_type": "code",
   "execution_count": 35,
   "id": "749351c4-dcaf-4775-bd87-6e8029f9618e",
   "metadata": {},
   "outputs": [
    {
     "name": "stdout",
     "output_type": "stream",
     "text": [
      "A\n",
      "A 1\n",
      "A 2\n",
      "B\n",
      "B 1\n",
      "B 2\n"
     ]
    }
   ],
   "source": [
    "# simple example of nested loop\n",
    "list1 = [\"A\", \"B\"]\n",
    "list2 = [1, 2]\n",
    "for i in list1:\n",
    "    print(i)\n",
    "    for j in list2:\n",
    "    \tprint(i, j)"
   ]
  },
  {
   "cell_type": "code",
   "execution_count": 39,
   "id": "bbe188c9-7c11-4c6a-a5f8-390669d8f70d",
   "metadata": {},
   "outputs": [],
   "source": [
    "# finding common elements in 2 lists using nested loop\n",
    "list1 = [1,2,3,4,5]\n",
    "list2 = [4,5,6,7,8]\n",
    "common = []\n",
    "for i in list1:\n",
    "    for j in list2:\n",
    "        if i == j:\n",
    "            common.append(i)"
   ]
  },
  {
   "cell_type": "code",
   "execution_count": 40,
   "id": "65513551-b3ce-4509-a63a-90edf17ff200",
   "metadata": {},
   "outputs": [
    {
     "data": {
      "text/plain": [
       "[4, 5]"
      ]
     },
     "execution_count": 40,
     "metadata": {},
     "output_type": "execute_result"
    }
   ],
   "source": [
    "common"
   ]
  },
  {
   "cell_type": "markdown",
   "id": "773d09d4-3617-4143-9641-8afd9de16bdd",
   "metadata": {},
   "source": [
    "## References\n",
    "1. https://www.freecodecamp.org/news/how-to-use-conditional-statements-if-else-elif-in-python/\r",
    "2. \n",
    "https://www.w3schools.com/python/python_for_loops.asp3. \r\n",
    "https://www.w3schools.com/python/python_while_loops.as4. p\r\n",
    "https://www.geeksforgeeks.org/python-for-loops/?ref=l5. bp\r\n",
    "https://www.geeksforgeeks.org/python-while-loop/?ref=6. lbp\r\n",
    "https://www.python-engineer.com/posts/iterable-vs-iterator/"
   ]
  }
 ],
 "metadata": {
  "kernelspec": {
   "display_name": "Python 3 (ipykernel)",
   "language": "python",
   "name": "python3"
  },
  "language_info": {
   "codemirror_mode": {
    "name": "ipython",
    "version": 3
   },
   "file_extension": ".py",
   "mimetype": "text/x-python",
   "name": "python",
   "nbconvert_exporter": "python",
   "pygments_lexer": "ipython3",
   "version": "3.11.7"
  }
 },
 "nbformat": 4,
 "nbformat_minor": 5
}
