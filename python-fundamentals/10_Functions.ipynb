{
 "cells": [
  {
   "cell_type": "markdown",
   "id": "7d11a966-d9c1-47b2-8ece-6e90af9ec490",
   "metadata": {},
   "source": [
    "## FUNCTION"
   ]
  },
  {
   "cell_type": "markdown",
   "id": "82699eb8-7bb6-4f2b-bffe-097e1b4496e2",
   "metadata": {},
   "source": [
    "![](https://media.geeksforgeeks.org/wp-content/uploads/20220721172423/51.png)"
   ]
  },
  {
   "cell_type": "code",
   "execution_count": 1,
   "id": "fab1d486-8c39-4eb2-ad25-ab6c57fb0168",
   "metadata": {},
   "outputs": [
    {
     "name": "stdout",
     "output_type": "stream",
     "text": [
      "13\n"
     ]
    }
   ],
   "source": [
    "# example of built in function\n",
    "print(len('Hello, World!'))"
   ]
  },
  {
   "cell_type": "code",
   "execution_count": 2,
   "id": "32e7890b-a193-4428-a955-a3dec66b23db",
   "metadata": {},
   "outputs": [],
   "source": [
    "# example of user-defined function\n",
    "def greet(): # nama function\n",
    "    print('Hello, World!') # isi"
   ]
  },
  {
   "cell_type": "code",
   "execution_count": 3,
   "id": "5452fe3b-7161-4984-b3cd-3fbdc0fb555e",
   "metadata": {},
   "outputs": [
    {
     "name": "stdout",
     "output_type": "stream",
     "text": [
      "Hello, World!\n"
     ]
    }
   ],
   "source": [
    "#  call function greet\n",
    "greet()"
   ]
  },
  {
   "cell_type": "code",
   "execution_count": 4,
   "id": "7085a332-da1d-4f53-a288-ac4e94c82563",
   "metadata": {},
   "outputs": [],
   "source": [
    "# example of user-defined function with parameter\n",
    "def add_numbers(x,y):\n",
    "    num = x + y\n",
    "    print(f'{x} plus {y} equals to {num}.')"
   ]
  },
  {
   "cell_type": "code",
   "execution_count": 5,
   "id": "969c65fa-cfb1-4421-80bc-84482024f563",
   "metadata": {},
   "outputs": [
    {
     "name": "stdout",
     "output_type": "stream",
     "text": [
      "3 plus 5 equals to 8.\n"
     ]
    }
   ],
   "source": [
    "# call function add_numbers\n",
    "add_numbers(3,5)"
   ]
  },
  {
   "cell_type": "code",
   "execution_count": 6,
   "id": "3680526b-5089-4260-ab7a-c135a97b3f62",
   "metadata": {},
   "outputs": [],
   "source": [
    "# function with positional arguments\n",
    "def subtract(a,b):\n",
    "    num = a - b\n",
    "    print(f'{a} subtracted by {b} equals to {num}.')\n",
    "\n",
    "# function with keyword arguments / default parameter\n",
    "def greet(name, greeting = 'Hello'):\n",
    "    print(f'{greeting}, {name}!')"
   ]
  },
  {
   "cell_type": "code",
   "execution_count": 7,
   "id": "e1f7c017-23f9-4af1-87cc-89bb548e31b4",
   "metadata": {},
   "outputs": [
    {
     "name": "stdout",
     "output_type": "stream",
     "text": [
      "10 subtracted by 5 equals to 5.\n"
     ]
    }
   ],
   "source": [
    "# call funtion with positional arguments\n",
    "subtract(10,5)"
   ]
  },
  {
   "cell_type": "code",
   "execution_count": 8,
   "id": "88f5436b-619d-4598-bbe8-1e465e77b5f4",
   "metadata": {},
   "outputs": [
    {
     "name": "stdout",
     "output_type": "stream",
     "text": [
      "Hello, Rafi!\n"
     ]
    }
   ],
   "source": [
    "# call function with keyqord arguments (default)\n",
    "greet(\"Rafi\")"
   ]
  },
  {
   "cell_type": "code",
   "execution_count": 9,
   "id": "4cb42539-4c60-4685-8246-bb9376982adc",
   "metadata": {},
   "outputs": [
    {
     "name": "stdout",
     "output_type": "stream",
     "text": [
      "Yo, Rafi!\n"
     ]
    }
   ],
   "source": [
    "# call function with keyqord arguments (altered)\n",
    "greet(\"Rafi\", \"Yo\")"
   ]
  },
  {
   "cell_type": "code",
   "execution_count": 10,
   "id": "d9f70290-6076-47c6-8e05-a5cb025b864d",
   "metadata": {},
   "outputs": [],
   "source": [
    "# function without return statement\n",
    "def print_square(num):\n",
    "    print(num ** 2)\n",
    "\n",
    "# function with return statement\n",
    "def get_square(num):\n",
    "    return num ** 2"
   ]
  },
  {
   "cell_type": "code",
   "execution_count": 11,
   "id": "f4f34e22-bc32-4e65-bfc1-1df672f758ad",
   "metadata": {},
   "outputs": [
    {
     "name": "stdout",
     "output_type": "stream",
     "text": [
      "16\n",
      "None\n"
     ]
    }
   ],
   "source": [
    "# call function without return statement\n",
    "result = print_square(4) # output: 16\n",
    "print(result) # output: None\n",
    "# when using print(), the value cannot be assigned to a variable"
   ]
  },
  {
   "cell_type": "code",
   "execution_count": 12,
   "id": "dcfb5ed8-804d-47c6-b29f-1abbacf8e7d1",
   "metadata": {},
   "outputs": [
    {
     "name": "stdout",
     "output_type": "stream",
     "text": [
      "16\n"
     ]
    }
   ],
   "source": [
    "# call function with return statement\n",
    "result = get_square(4)\n",
    "print(result)"
   ]
  },
  {
   "cell_type": "code",
   "execution_count": 13,
   "id": "47e2434b-c19a-4397-8f7a-a88d402e1643",
   "metadata": {},
   "outputs": [],
   "source": [
    "# example of function as first_class object\n",
    "# function 1\n",
    "def square(x):\n",
    "    return x ** x\n",
    "\n",
    "# function 2\n",
    "def additional(x):\n",
    "    return x + x\n",
    "\n",
    "# function 3\n",
    "def apply_function(func,x):\n",
    "    return func(x)"
   ]
  },
  {
   "cell_type": "code",
   "execution_count": 14,
   "id": "23d26eed-c629-458d-b1f0-2ebff07ea432",
   "metadata": {},
   "outputs": [
    {
     "name": "stdout",
     "output_type": "stream",
     "text": [
      "20\n"
     ]
    }
   ],
   "source": [
    "# call function 2 through function 3\n",
    "result = apply_function(additional,10)\n",
    "print(result)"
   ]
  },
  {
   "cell_type": "code",
   "execution_count": 15,
   "id": "41b34e91-d880-42ea-8649-76f9e98dcad0",
   "metadata": {},
   "outputs": [],
   "source": [
    "# normal function\n",
    "def function1(a,b,c):\n",
    "    return a + b + c"
   ]
  },
  {
   "cell_type": "code",
   "execution_count": 16,
   "id": "5bbef449-7666-4bcc-9385-a86ce2cb31e2",
   "metadata": {},
   "outputs": [],
   "source": [
    "# example of lambda function\n",
    "var_a = lambda a, b, c: a + b + c\n",
    "result = var_a(10,5,3)"
   ]
  },
  {
   "cell_type": "code",
   "execution_count": 17,
   "id": "e3350172-30ff-4041-8c1a-4241cb6faa3c",
   "metadata": {},
   "outputs": [
    {
     "name": "stdout",
     "output_type": "stream",
     "text": [
      "18\n"
     ]
    }
   ],
   "source": [
    "# print result\n",
    "print(result)"
   ]
  },
  {
   "cell_type": "markdown",
   "id": "64163f02-7a20-4126-a728-9d37d64d9770",
   "metadata": {},
   "source": [
    "## References\n",
    "\n",
    "1. https://www.w3schools.com/python/python_functions.asp\n",
    "   \r",
    "2. https://www.geeksforgeeks.org/python-functions/\n",
    "   \n",
    "4. https://www.tutorialspoint.com/python/python_functions.ht\n",
    "   \r",
    "6. \n",
    "https://www.freecodecamp.org/news/python-functions-define-and-call-a-functin\n",
    "   /8. \r\n",
    "https://docs.python.org/3/library/function\n",
    "   .10. \n",
    "\n",
    "https://www.geeksforgeeks.org/first-class-functions-python/html"
   ]
  }
 ],
 "metadata": {
  "kernelspec": {
   "display_name": "Python 3 (ipykernel)",
   "language": "python",
   "name": "python3"
  },
  "language_info": {
   "codemirror_mode": {
    "name": "ipython",
    "version": 3
   },
   "file_extension": ".py",
   "mimetype": "text/x-python",
   "name": "python",
   "nbconvert_exporter": "python",
   "pygments_lexer": "ipython3",
   "version": "3.11.7"
  }
 },
 "nbformat": 4,
 "nbformat_minor": 5
}
