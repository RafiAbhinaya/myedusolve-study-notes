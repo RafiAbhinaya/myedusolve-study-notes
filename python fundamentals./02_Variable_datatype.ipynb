{
 "cells": [
  {
   "cell_type": "markdown",
   "id": "fa1e89d1-e0a9-4772-967c-47dc5486f256",
   "metadata": {},
   "source": [
    "## PYTHON VARIABLE AND DATATYPE"
   ]
  },
  {
   "cell_type": "markdown",
   "id": "07d5ca63-ff7d-471b-a1d9-285847c3b8dc",
   "metadata": {},
   "source": [
    "### Variables\n",
    ">Variables are containers for storing data values.\n",
    ">\n",
    ">Python has no command for declaring a variable.\n",
    ">\n",
    ">A variable is created the moment you first assign a value to it."
   ]
  },
  {
   "cell_type": "code",
   "execution_count": 5,
   "id": "77b66c30-dd65-4b97-bdc0-7a7dddacad46",
   "metadata": {},
   "outputs": [],
   "source": [
    "# example of varaiable\n",
    "x = 10\n",
    "y = 1.5\n",
    "z = \"Hello\""
   ]
  },
  {
   "cell_type": "code",
   "execution_count": 6,
   "id": "b79bc00d-4e92-4c2e-b422-0a45d739be14",
   "metadata": {},
   "outputs": [
    {
     "name": "stdout",
     "output_type": "stream",
     "text": [
      "10\n"
     ]
    }
   ],
   "source": [
    "#calling variable\n",
    "print(x)"
   ]
  },
  {
   "cell_type": "code",
   "execution_count": 7,
   "id": "4224024e-16f1-468e-9314-d415833bbc9a",
   "metadata": {},
   "outputs": [
    {
     "data": {
      "text/plain": [
       "10"
      ]
     },
     "execution_count": 7,
     "metadata": {},
     "output_type": "execute_result"
    }
   ],
   "source": [
    "x"
   ]
  },
  {
   "cell_type": "code",
   "execution_count": 8,
   "id": "4de6e903-c3dc-4d08-9ff5-3b6c22ce4606",
   "metadata": {},
   "outputs": [
    {
     "data": {
      "text/plain": [
       "(10, 1.5, 'Hello')"
      ]
     },
     "execution_count": 8,
     "metadata": {},
     "output_type": "execute_result"
    }
   ],
   "source": [
    "# calling variable horizontally\n",
    "x,y,z"
   ]
  },
  {
   "cell_type": "code",
   "execution_count": 9,
   "id": "ce49e453-ee50-43c7-898d-9d54a13d8cee",
   "metadata": {},
   "outputs": [
    {
     "name": "stdout",
     "output_type": "stream",
     "text": [
      "10 1.5 Hello\n"
     ]
    }
   ],
   "source": [
    "# calling variable horizontally\n",
    "print(x,y,z)"
   ]
  },
  {
   "cell_type": "code",
   "execution_count": 10,
   "id": "09b23ede-2bba-4495-85b3-74a5643d10ac",
   "metadata": {},
   "outputs": [],
   "source": [
    "# variable can be replaced\n",
    "x = \"this is x\""
   ]
  },
  {
   "cell_type": "code",
   "execution_count": 12,
   "id": "1a454370-e799-46ae-b22d-8d0121ab3e00",
   "metadata": {},
   "outputs": [
    {
     "name": "stdout",
     "output_type": "stream",
     "text": [
      "this is x\n"
     ]
    }
   ],
   "source": [
    "print(x)"
   ]
  },
  {
   "cell_type": "code",
   "execution_count": 13,
   "id": "f6bcd191-c6c0-4b82-bd4f-65d9bbd1e116",
   "metadata": {},
   "outputs": [
    {
     "name": "stdout",
     "output_type": "stream",
     "text": [
      "this is x 1.5 Hello\n"
     ]
    }
   ],
   "source": [
    "# calling variable horizontally after replace\n",
    "print(x,y,z)"
   ]
  },
  {
   "cell_type": "markdown",
   "id": "10e3f4fb-3a24-40df-85c9-3cec6232b445",
   "metadata": {},
   "source": [
    "### Variable Names"
   ]
  },
  {
   "cell_type": "code",
   "execution_count": 14,
   "id": "16542d2c-155a-4ea8-97cf-d9744a1fb4c7",
   "metadata": {},
   "outputs": [],
   "source": [
    "# creating variable with different naming\n",
    "myvar = \"John\"\n",
    "my_var = \"John\"\n",
    "_my_var = \"John\"\n",
    "myVar = \"John\"\n",
    "MYVAR = \"John\"\n",
    "myvar2 = \"John\""
   ]
  },
  {
   "cell_type": "code",
   "execution_count": 15,
   "id": "75223135-28e6-4e21-835d-65c8f0421b71",
   "metadata": {},
   "outputs": [
    {
     "name": "stdout",
     "output_type": "stream",
     "text": [
      "John\n"
     ]
    }
   ],
   "source": [
    "# printing variable\n",
    "print(myvar)"
   ]
  },
  {
   "cell_type": "code",
   "execution_count": 16,
   "id": "121fda98-7385-4f0b-bd16-cf073baba507",
   "metadata": {},
   "outputs": [],
   "source": [
    "# deleting variable\n",
    "del(myvar)"
   ]
  },
  {
   "cell_type": "code",
   "execution_count": 18,
   "id": "e137edee-9509-4f16-9a82-39bb356381f2",
   "metadata": {},
   "outputs": [
    {
     "ename": "NameError",
     "evalue": "name 'myvar' is not defined",
     "output_type": "error",
     "traceback": [
      "\u001b[1;31m---------------------------------------------------------------------------\u001b[0m",
      "\u001b[1;31mNameError\u001b[0m                                 Traceback (most recent call last)",
      "Cell \u001b[1;32mIn[18], line 1\u001b[0m\n\u001b[1;32m----> 1\u001b[0m \u001b[38;5;28mprint\u001b[39m(myvar)\n",
      "\u001b[1;31mNameError\u001b[0m: name 'myvar' is not defined"
     ]
    }
   ],
   "source": [
    "print(myvar)"
   ]
  },
  {
   "cell_type": "code",
   "execution_count": 19,
   "id": "5b902c83-0bed-453d-b574-b282ea1820b8",
   "metadata": {},
   "outputs": [
    {
     "name": "stdout",
     "output_type": "stream",
     "text": [
      "1\n",
      "1\n",
      "1\n"
     ]
    }
   ],
   "source": [
    "# assign one value to multiple varianble\n",
    "x = y = z = 1\n",
    "print(x)\n",
    "print(y)\n",
    "print(z)"
   ]
  },
  {
   "cell_type": "code",
   "execution_count": 22,
   "id": "e5c560ac-290d-4f9e-b82a-a10a660e9654",
   "metadata": {},
   "outputs": [
    {
     "name": "stdout",
     "output_type": "stream",
     "text": [
      "1\n",
      "2\n",
      "3\n"
     ]
    }
   ],
   "source": [
    "# assign one value to multiple varianble\n",
    "number = [1,2,3]\n",
    "x, y, z = number\n",
    "print(x)\n",
    "print(y)\n",
    "print(z)"
   ]
  },
  {
   "attachments": {},
   "cell_type": "markdown",
   "id": "072e2570-dc58-4882-b280-daef4c791115",
   "metadata": {},
   "source": [
    "### Data types in python\n",
    ">\n",
    ">In Python, there are two main categories of data types: built-in data types and custom data types.\n",
    ">\n",
    ">Built-in Data Types: Python provides several built-in data types that are readily available for use without requiring additional libraries or modules. \n",
    ">\n",
    ">![](https://miro.medium.com/v2/resize:fit:1400/format:webp/1*1YG9HuYt7fp-CEPBdNnlSA.png)\n",
    ">\n",
    ">Custom Data Types: Python also allows you to define your own data types using classes and objects, following the principles of object-oriented programming (OOP). "
   ]
  },
  {
   "cell_type": "code",
   "execution_count": 23,
   "id": "b28d244b-c2ae-40f6-b1f9-6c2e52e4310c",
   "metadata": {},
   "outputs": [],
   "source": [
    "# numeric type / numbersi\n",
    "num_int = 15 # integer\n",
    "num_float = 7.0 # float\n",
    "num_comp = 1+5j # complex"
   ]
  },
  {
   "cell_type": "code",
   "execution_count": 24,
   "id": "491e53d0-6075-4dc9-b343-7fa058c67e86",
   "metadata": {},
   "outputs": [],
   "source": [
    "# string type\n",
    "text_str = \"tihi is string\" # anything within the quote mark (\"\")"
   ]
  },
  {
   "cell_type": "code",
   "execution_count": 25,
   "id": "a3a268ff-933f-426f-aaa1-21d3632709b1",
   "metadata": {},
   "outputs": [],
   "source": [
    "# boolean type\n",
    "boolean1 = True\n",
    "boolean2 = False"
   ]
  },
  {
   "cell_type": "code",
   "execution_count": 27,
   "id": "21023025-9afe-4163-b695-f91a796464fe",
   "metadata": {},
   "outputs": [
    {
     "name": "stdout",
     "output_type": "stream",
     "text": [
      "<class 'int'>\n",
      "<class 'str'>\n",
      "<class 'bool'>\n"
     ]
    }
   ],
   "source": [
    "# use type to check datatype\n",
    "print(type(num_int))\n",
    "print(type(text_str)) \n",
    "print(type(boolean1))"
   ]
  },
  {
   "cell_type": "code",
   "execution_count": 29,
   "id": "25c9cf9a-272b-49f9-83ee-e469ca87400e",
   "metadata": {
    "collapsed": true,
    "jupyter": {
     "outputs_hidden": true
    },
    "scrolled": true
   },
   "outputs": [
    {
     "data": {
      "text/plain": [
       "\u001b[1;31mType:\u001b[0m        int\n",
       "\u001b[1;31mString form:\u001b[0m 15\n",
       "\u001b[1;31mDocstring:\u001b[0m  \n",
       "int([x]) -> integer\n",
       "int(x, base=10) -> integer\n",
       "\n",
       "Convert a number or string to an integer, or return 0 if no arguments\n",
       "are given.  If x is a number, return x.__int__().  For floating point\n",
       "numbers, this truncates towards zero.\n",
       "\n",
       "If x is not a number or if base is given, then x must be a string,\n",
       "bytes, or bytearray instance representing an integer literal in the\n",
       "given base.  The literal can be preceded by '+' or '-' and be surrounded\n",
       "by whitespace.  The base defaults to 10.  Valid bases are 0 and 2-36.\n",
       "Base 0 means to interpret the base from the string as an integer literal.\n",
       ">>> int('0b100', base=0)\n",
       "4"
      ]
     },
     "metadata": {},
     "output_type": "display_data"
    }
   ],
   "source": [
    "# alternative to check datatype\n",
    "num_int?"
   ]
  },
  {
   "cell_type": "markdown",
   "id": "d5d8c3d8-becb-4a3c-9821-65567bf8bb4f",
   "metadata": {},
   "source": [
    "In programming, data type is an important concept.\n",
    "\n",
    "Variables can store data of different types, and different types can do different things.\n",
    "\n",
    "Check references for full category list."
   ]
  },
  {
   "cell_type": "code",
   "execution_count": 30,
   "id": "ff13a6f9-8777-4229-8dd2-f7816ff288ab",
   "metadata": {},
   "outputs": [],
   "source": [
    "# list type\n",
    "list1 = [\"apple\",\"banana\",\"cherry\"] # list using []"
   ]
  },
  {
   "cell_type": "code",
   "execution_count": 32,
   "id": "828f3dce-2797-4553-b3c6-c63cf4dd0c49",
   "metadata": {},
   "outputs": [
    {
     "name": "stdout",
     "output_type": "stream",
     "text": [
      "['apple', 'banana', 'cherry']\n",
      "<class 'list'>\n"
     ]
    }
   ],
   "source": [
    "# print list\n",
    "print(list1)\n",
    "print(type(list1))"
   ]
  },
  {
   "cell_type": "code",
   "execution_count": 34,
   "id": "93939d1e",
   "metadata": {},
   "outputs": [],
   "source": [
    "# tuple type\n",
    "tup1 = (\"apple\",\"banana\",\"cherry\") # tuple using ()"
   ]
  },
  {
   "cell_type": "code",
   "execution_count": 39,
   "id": "76b81f8d",
   "metadata": {},
   "outputs": [
    {
     "name": "stdout",
     "output_type": "stream",
     "text": [
      "{'apple', 'banana', 'cherry'}\n",
      "<class 'set'>\n"
     ]
    }
   ],
   "source": [
    "# print list\n",
    "print(tup1)\n",
    "print(type(tup1))"
   ]
  },
  {
   "cell_type": "code",
   "execution_count": 38,
   "id": "6aa1aa95",
   "metadata": {},
   "outputs": [],
   "source": [
    "# set type\n",
    "set1 = {\"apple\",\"banana\",\"cherry\"} # set using {}"
   ]
  },
  {
   "cell_type": "code",
   "execution_count": 40,
   "id": "cfc9df81",
   "metadata": {},
   "outputs": [
    {
     "name": "stdout",
     "output_type": "stream",
     "text": [
      "{'apple', 'banana', 'cherry'}\n",
      "<class 'set'>\n"
     ]
    }
   ],
   "source": [
    "# print list\n",
    "print(set1)\n",
    "print(type(set1))"
   ]
  },
  {
   "cell_type": "code",
   "execution_count": 42,
   "id": "0c972524",
   "metadata": {},
   "outputs": [],
   "source": [
    "# dictionary type\n",
    "dict1 = {\"name\" : \"John\",\n",
    "        \"age\" : 36} # dictionary using (key : value)"
   ]
  },
  {
   "cell_type": "code",
   "execution_count": 43,
   "id": "dc5e53e6",
   "metadata": {},
   "outputs": [
    {
     "name": "stdout",
     "output_type": "stream",
     "text": [
      "{'name': 'John', 'age': 36}\n",
      "<class 'dict'>\n"
     ]
    }
   ],
   "source": [
    "# print list\n",
    "print(dict1)\n",
    "print(type(dict1))"
   ]
  },
  {
   "cell_type": "markdown",
   "id": "14e0ec48-1db1-4406-9370-b117d07881df",
   "metadata": {},
   "source": [
    "# REFERENCES\n",
    "1. https://www.w3schools.com/python/python_datatypes.\n",
    "2. https://siddp6.medium.com/python-programming-language-part-3-6-ab0af8000e27\n",
    "3. https://github.com/jakevdp/PythonDataScienceHandbook"
   ]
  }
 ],
 "metadata": {
  "kernelspec": {
   "display_name": "Python 3 (ipykernel)",
   "language": "python",
   "name": "python3"
  },
  "language_info": {
   "codemirror_mode": {
    "name": "ipython",
    "version": 3
   },
   "file_extension": ".py",
   "mimetype": "text/x-python",
   "name": "python",
   "nbconvert_exporter": "python",
   "pygments_lexer": "ipython3",
   "version": "3.11.7"
  }
 },
 "nbformat": 4,
 "nbformat_minor": 5
}
