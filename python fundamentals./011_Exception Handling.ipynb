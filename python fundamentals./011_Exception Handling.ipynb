{
 "cells": [
  {
   "cell_type": "markdown",
   "id": "5c5e158d-daa0-4173-a165-b61ab3b9ed26",
   "metadata": {},
   "source": [
    "## EXEPTION HANDLING"
   ]
  },
  {
   "cell_type": "code",
   "execution_count": 1,
   "id": "8666405d-45c3-4fb8-a253-28a0b96d439b",
   "metadata": {
    "collapsed": true,
    "jupyter": {
     "outputs_hidden": true
    },
    "scrolled": true
   },
   "outputs": [
    {
     "ename": "ZeroDivisionError",
     "evalue": "division by zero",
     "output_type": "error",
     "traceback": [
      "\u001b[1;31m---------------------------------------------------------------------------\u001b[0m",
      "\u001b[1;31mZeroDivisionError\u001b[0m                         Traceback (most recent call last)",
      "Cell \u001b[1;32mIn[1], line 3\u001b[0m\n\u001b[0;32m      1\u001b[0m \u001b[38;5;66;03m# without exception handling\u001b[39;00m\n\u001b[0;32m      2\u001b[0m num \u001b[38;5;241m=\u001b[39m \u001b[38;5;241m0\u001b[39m\n\u001b[1;32m----> 3\u001b[0m res \u001b[38;5;241m=\u001b[39m \u001b[38;5;241m10\u001b[39m \u001b[38;5;241m/\u001b[39m num\n",
      "\u001b[1;31mZeroDivisionError\u001b[0m: division by zero"
     ]
    }
   ],
   "source": [
    "# without exception handling\n",
    "num = 0\n",
    "res = 10 / num"
   ]
  },
  {
   "cell_type": "code",
   "execution_count": 5,
   "id": "0880f6ef-ee94-499c-ab61-f0aba392017b",
   "metadata": {},
   "outputs": [
    {
     "name": "stdin",
     "output_type": "stream",
     "text": [
      "Enter a number: 0\n"
     ]
    },
    {
     "name": "stdout",
     "output_type": "stream",
     "text": [
      "Division by zero is not allowed\n"
     ]
    }
   ],
   "source": [
    "# the code can raise two types of exception 'ZeroDivisionError'\n",
    "# if the user enters 0 and 'ValueError' if the user enters a non-numeric value.\n",
    "try:\n",
    "    num = int(input('Enter a number:'))\n",
    "    res = 10 / num\n",
    "    print(res)\n",
    "except:\n",
    "    print('Division by zero is not allowed')"
   ]
  },
  {
   "cell_type": "code",
   "execution_count": 8,
   "id": "83a15090-287c-45a6-8ebd-ca78c3efb8e1",
   "metadata": {},
   "outputs": [
    {
     "name": "stdin",
     "output_type": "stream",
     "text": [
      "Enter a number: 69\n"
     ]
    },
    {
     "name": "stdout",
     "output_type": "stream",
     "text": [
      "You entered the number 69.\n"
     ]
    }
   ],
   "source": [
    "# using the 'else' clause\n",
    "# if the user enters a valid number, the code inside the 'else' block is excuted, and the entered number is printed\n",
    "try:\n",
    "    number = int(input('Enter a number:'))\n",
    "except:\n",
    "    print('Please enter a valid number.')\n",
    "else:\n",
    "    print(f'You entered the number {number}.')"
   ]
  },
  {
   "cell_type": "code",
   "execution_count": 10,
   "id": "5ab65e81-1f25-4e2a-b43b-fd6cf8c99e97",
   "metadata": {},
   "outputs": [
    {
     "name": "stdin",
     "output_type": "stream",
     "text": [
      "Enter a number: 30\n"
     ]
    },
    {
     "name": "stdout",
     "output_type": "stream",
     "text": [
      "The result is 0.3333333333333333\n",
      "Finally will always be printed.\n"
     ]
    }
   ],
   "source": [
    "# finally clause with multiple exceptions\n",
    "# regardless of the input provided by the user and the exceptions raised, 'finally' will always run.\n",
    "try:\n",
    "    number = int(input('Enter a number:'))\n",
    "    result = 10 / number\n",
    "except ValueError:\n",
    "    print('Please enter a valid number.')\n",
    "except ZeroDivisionError:\n",
    "    print('Division by zero is not allowed.')\n",
    "else:\n",
    "    print(f'The result is {result}')\n",
    "finally:\n",
    "    print('Finally will always be printed.')"
   ]
  },
  {
   "cell_type": "markdown",
   "id": "885a4796-155f-42e7-9eff-26549bf6a048",
   "metadata": {},
   "source": [
    "## References\n",
    "1. https://www.tutorialspoint.com/python/python_exceptions.htm\n",
    "2. https://www.geeksforgeeks.org/python-exception-handling/\n",
    "3. https://www.w3schools.com/python/python_try_except.asp\n",
    "4. https://docs.python.org/3/tutorial/errors.html\n",
    "5. https://docs.python.org/3/library/exceptions.html"
   ]
  }
 ],
 "metadata": {
  "kernelspec": {
   "display_name": "Python 3 (ipykernel)",
   "language": "python",
   "name": "python3"
  },
  "language_info": {
   "codemirror_mode": {
    "name": "ipython",
    "version": 3
   },
   "file_extension": ".py",
   "mimetype": "text/x-python",
   "name": "python",
   "nbconvert_exporter": "python",
   "pygments_lexer": "ipython3",
   "version": "3.11.7"
  }
 },
 "nbformat": 4,
 "nbformat_minor": 5
}
