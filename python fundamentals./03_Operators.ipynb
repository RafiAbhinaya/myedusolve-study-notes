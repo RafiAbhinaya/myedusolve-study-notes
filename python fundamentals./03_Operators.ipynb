{
 "cells": [
  {
   "cell_type": "markdown",
   "id": "ce9d99c3-f703-4241-b81e-08b32fdf6057",
   "metadata": {},
   "source": [
    "## PYTHON OPERATOR"
   ]
  },
  {
   "cell_type": "markdown",
   "id": "dee26653-ab56-41d5-8600-be66f73c8e2e",
   "metadata": {},
   "source": [
    "### Arithmethic Operators\n",
    "![](https://studyopedia.com/wp-content/uploads/2020/07/Python-Arithmetic-Operators.png)"
   ]
  },
  {
   "cell_type": "code",
   "execution_count": 39,
   "id": "ff8a518e-a537-4420-9425-fa93bc0cd5fb",
   "metadata": {},
   "outputs": [],
   "source": [
    "# arithmethic operator example\n",
    "x = 5\n",
    "y = 2"
   ]
  },
  {
   "cell_type": "code",
   "execution_count": 40,
   "id": "33177f8f-aa7c-4f75-ab46-1b8f410ab216",
   "metadata": {},
   "outputs": [
    {
     "name": "stdout",
     "output_type": "stream",
     "text": [
      "x + y = 7\n"
     ]
    }
   ],
   "source": [
    "# addition (sum)\n",
    "print(\"x + y =\",x+y)"
   ]
  },
  {
   "cell_type": "code",
   "execution_count": 41,
   "id": "c9724592-e544-48e9-9d0c-dd8b2e5421d9",
   "metadata": {},
   "outputs": [
    {
     "name": "stdout",
     "output_type": "stream",
     "text": [
      "x - y = 3\n"
     ]
    }
   ],
   "source": [
    "# substraction\n",
    "print(\"x - y =\",x-y)"
   ]
  },
  {
   "cell_type": "code",
   "execution_count": 42,
   "id": "b181e3dc-2ecc-4f1c-9990-bebb7da8e741",
   "metadata": {},
   "outputs": [
    {
     "name": "stdout",
     "output_type": "stream",
     "text": [
      "x * y = 10\n"
     ]
    }
   ],
   "source": [
    "# multiplication\n",
    "print(\"x * y =\",x*y)"
   ]
  },
  {
   "cell_type": "code",
   "execution_count": 43,
   "id": "3512a766-a916-491a-b0fd-441223a51a1f",
   "metadata": {},
   "outputs": [
    {
     "name": "stdout",
     "output_type": "stream",
     "text": [
      "x / y = 2.5\n"
     ]
    }
   ],
   "source": [
    "# division\n",
    "print(\"x / y =\",x/y)"
   ]
  },
  {
   "cell_type": "code",
   "execution_count": 45,
   "id": "5a7422f8-2935-4e01-8ee0-f09f26be0b0d",
   "metadata": {},
   "outputs": [
    {
     "name": "stdout",
     "output_type": "stream",
     "text": [
      "x // y = 2\n"
     ]
    }
   ],
   "source": [
    "# floor division\n",
    "print(\"x // y =\",x//y)"
   ]
  },
  {
   "cell_type": "code",
   "execution_count": 46,
   "id": "5d425587-2e78-4bf8-8af2-9cef194bcb6f",
   "metadata": {},
   "outputs": [
    {
     "name": "stdout",
     "output_type": "stream",
     "text": [
      "x % y = 1\n"
     ]
    }
   ],
   "source": [
    "# modulus\n",
    "print(\"x % y =\",x%y)"
   ]
  },
  {
   "cell_type": "code",
   "execution_count": 47,
   "id": "64ce26a7-a47a-4ee2-9f58-1723e0c07cd1",
   "metadata": {},
   "outputs": [
    {
     "name": "stdout",
     "output_type": "stream",
     "text": [
      "x ** y = 25\n"
     ]
    }
   ],
   "source": [
    "# exponent (x to the power of y)\n",
    "print(\"x ** y =\",x**y)"
   ]
  },
  {
   "cell_type": "markdown",
   "id": "a774b432-6244-4397-a810-fb29d435330b",
   "metadata": {},
   "source": [
    "### Assignment Operators\n",
    "![](https://studyopedia.com/wp-content/uploads/2020/07/Python-Assignment-Operators.png)"
   ]
  },
  {
   "cell_type": "code",
   "execution_count": 13,
   "id": "d44ff9a6-4ddb-4b50-97ed-c4c743c7fde6",
   "metadata": {},
   "outputs": [],
   "source": [
    "# assignment operator example\n",
    "x = 1\n",
    "y = 2"
   ]
  },
  {
   "cell_type": "code",
   "execution_count": 14,
   "id": "d8ce784c-bada-49d7-8a86-53dfc0a85891",
   "metadata": {},
   "outputs": [
    {
     "name": "stdout",
     "output_type": "stream",
     "text": [
      "values of x is 3\n",
      "values of y is 2\n"
     ]
    }
   ],
   "source": [
    "# assign the sum of x and y to x\n",
    "x += y\n",
    "print(\"values of x is\",x)\n",
    "print(\"values of y is\",y)"
   ]
  },
  {
   "cell_type": "code",
   "execution_count": 15,
   "id": "44a6effa-4a0f-48bd-bd21-564309d9c31b",
   "metadata": {},
   "outputs": [
    {
     "name": "stdout",
     "output_type": "stream",
     "text": [
      "values of x is 1\n",
      "values of y is 2\n"
     ]
    }
   ],
   "source": [
    "# substraction\n",
    "x -= y\n",
    "print(\"values of x is\",x)\n",
    "print(\"values of y is\",y)"
   ]
  },
  {
   "cell_type": "code",
   "execution_count": 16,
   "id": "f443d34c-d352-4fa4-8343-b33269179a89",
   "metadata": {},
   "outputs": [
    {
     "name": "stdout",
     "output_type": "stream",
     "text": [
      "values of x is 2\n",
      "values of y is 2\n"
     ]
    }
   ],
   "source": [
    "# multiplication\n",
    "x *= y\n",
    "print(\"values of x is\",x)\n",
    "print(\"values of y is\",y)"
   ]
  },
  {
   "cell_type": "code",
   "execution_count": 17,
   "id": "8758bed8-e924-4bba-84e5-903ff686ae2f",
   "metadata": {},
   "outputs": [
    {
     "name": "stdout",
     "output_type": "stream",
     "text": [
      "values of x is 1.0\n",
      "values of y is 2\n"
     ]
    }
   ],
   "source": [
    "# division\n",
    "x /= y\n",
    "print(\"values of x is\",x)\n",
    "print(\"values of y is\",y)"
   ]
  },
  {
   "cell_type": "markdown",
   "id": "c8b439e4-f987-4eaa-9613-8f301ec48e84",
   "metadata": {},
   "source": [
    "### Comparison Operators\n",
    "![](https://studyopedia.com/wp-content/uploads/2020/07/Python-Comparison-Operators.png)"
   ]
  },
  {
   "cell_type": "code",
   "execution_count": 48,
   "id": "9b1b9350-b7ed-4841-93db-57bc583df055",
   "metadata": {},
   "outputs": [],
   "source": [
    "# comparison operator example\n",
    "x = 5\n",
    "y = 2"
   ]
  },
  {
   "cell_type": "code",
   "execution_count": 49,
   "id": "f7f65773-3434-4b8a-ad20-3614e05fd602",
   "metadata": {},
   "outputs": [
    {
     "name": "stdout",
     "output_type": "stream",
     "text": [
      "x is equal to y: False\n"
     ]
    }
   ],
   "source": [
    "# equal to\n",
    "print(\"x is equal to y:\",x == y)"
   ]
  },
  {
   "cell_type": "code",
   "execution_count": 50,
   "id": "24fb3405-7314-43fa-a70b-9195b7f1f9b3",
   "metadata": {},
   "outputs": [
    {
     "name": "stdout",
     "output_type": "stream",
     "text": [
      "x is not equal to y: True\n"
     ]
    }
   ],
   "source": [
    "# not equal to\n",
    "print(\"x is not equal to y:\",x != y)"
   ]
  },
  {
   "cell_type": "code",
   "execution_count": 51,
   "id": "512174cf-a179-41a9-8537-7d1eb48ec931",
   "metadata": {},
   "outputs": [
    {
     "name": "stdout",
     "output_type": "stream",
     "text": [
      "x is less than y: False\n"
     ]
    }
   ],
   "source": [
    "# less than\n",
    "print(\"x is less than y:\",x < y)"
   ]
  },
  {
   "cell_type": "code",
   "execution_count": 52,
   "id": "532f43e8-146e-44a4-997f-c17a4692a757",
   "metadata": {},
   "outputs": [
    {
     "name": "stdout",
     "output_type": "stream",
     "text": [
      "x is greater than y: True\n"
     ]
    }
   ],
   "source": [
    "# greater than\n",
    "print(\"x is greater than y:\",x > y)"
   ]
  },
  {
   "cell_type": "markdown",
   "id": "97f8f400-eb6d-48ba-b992-9b6d9d7d5024",
   "metadata": {},
   "source": [
    "### Logical Operators\n",
    "![](https://studyopedia.com/wp-content/uploads/2020/07/Python-Logical-Operators.png)"
   ]
  },
  {
   "cell_type": "code",
   "execution_count": 54,
   "id": "ff54325b-5264-45d2-9769-a1a1a7133d98",
   "metadata": {},
   "outputs": [],
   "source": [
    "# Logical operator example\n",
    "x = True\n",
    "y = False"
   ]
  },
  {
   "cell_type": "code",
   "execution_count": 56,
   "id": "029d753a-010b-40e4-b056-96f07b1a5ade",
   "metadata": {},
   "outputs": [
    {
     "name": "stdout",
     "output_type": "stream",
     "text": [
      "x AND y: False\n"
     ]
    }
   ],
   "source": [
    "# x and y is true, if both x and y are true\n",
    "print(\"x AND y:\", x and y)"
   ]
  },
  {
   "cell_type": "code",
   "execution_count": 57,
   "id": "11fcab4a-2ccb-4715-bf0c-a86fdb16a61f",
   "metadata": {},
   "outputs": [
    {
     "name": "stdout",
     "output_type": "stream",
     "text": [
      "x OR y: True\n"
     ]
    }
   ],
   "source": [
    "# x or y is true, if either x or y is true\n",
    "print(\"x OR y:\", x or y)"
   ]
  },
  {
   "cell_type": "code",
   "execution_count": 58,
   "id": "dece24db-5fc6-44ea-b46d-17d3cde74c08",
   "metadata": {},
   "outputs": [
    {
     "name": "stdout",
     "output_type": "stream",
     "text": [
      "NOT x AND y: True\n"
     ]
    }
   ],
   "source": [
    "# return false, if the result is true\n",
    "print(\"NOT x AND y:\", not(x and y))"
   ]
  },
  {
   "cell_type": "markdown",
   "id": "94942e82-5482-4818-ab10-eb433509cc2b",
   "metadata": {},
   "source": [
    "### Identitiy Operators\n",
    "![](https://studyopedia.com/wp-content/uploads/2020/07/Identity-Operators-in-Python.png)"
   ]
  },
  {
   "cell_type": "code",
   "execution_count": 67,
   "id": "b0c06980-77d5-49f4-979a-b2207eacc12a",
   "metadata": {},
   "outputs": [],
   "source": [
    "# identity operator example\n",
    "x = \"apple\"\n",
    "y = \"apple\""
   ]
  },
  {
   "cell_type": "code",
   "execution_count": 68,
   "id": "240cfc4c-441c-4604-8c77-9af269ce8943",
   "metadata": {},
   "outputs": [
    {
     "name": "stdout",
     "output_type": "stream",
     "text": [
      "x is y: True\n"
     ]
    }
   ],
   "source": [
    "# is\n",
    "print(\"x is y:\", x is y)"
   ]
  },
  {
   "cell_type": "code",
   "execution_count": 69,
   "id": "52aac2bc-6bfc-4887-8a30-b638733d26d3",
   "metadata": {},
   "outputs": [
    {
     "name": "stdout",
     "output_type": "stream",
     "text": [
      "x is not y: False\n"
     ]
    }
   ],
   "source": [
    "# is not\n",
    "print(\"x is not y:\", x is not y)"
   ]
  },
  {
   "cell_type": "markdown",
   "id": "ffdf12d5-fed0-4fb1-8c48-cc91bbfa321f",
   "metadata": {},
   "source": [
    "### Membership Operators\n",
    "![](https://studyopedia.com/wp-content/uploads/2020/07/Membership-Operators-in-Python.png)"
   ]
  },
  {
   "cell_type": "code",
   "execution_count": 70,
   "id": "89df5480-b676-4457-a0f0-f0f6b64cccc7",
   "metadata": {},
   "outputs": [],
   "source": [
    "# membership operator example\n",
    "x = [\"apple\", \"banana\"]\n",
    "y = [\"apple\", \"banana\"]\n",
    "\n",
    "# check mempership\n",
    "z = \"orange\""
   ]
  },
  {
   "cell_type": "code",
   "execution_count": 71,
   "id": "471e6bfd-89af-421b-98db-89d1caf4335b",
   "metadata": {},
   "outputs": [
    {
     "name": "stdout",
     "output_type": "stream",
     "text": [
      "z in x False\n"
     ]
    }
   ],
   "source": [
    "# in\n",
    "print(\"z in x\", z in x)"
   ]
  },
  {
   "cell_type": "code",
   "execution_count": 72,
   "id": "42147f21-98ff-461f-b8c2-6be96bc72d72",
   "metadata": {},
   "outputs": [
    {
     "name": "stdout",
     "output_type": "stream",
     "text": [
      "z not is in x True\n"
     ]
    }
   ],
   "source": [
    "# not in\n",
    "print(\"z not is in x\", z not in x)"
   ]
  },
  {
   "cell_type": "markdown",
   "id": "c23388f9-5f58-4c41-8b0b-13a7587ecc61",
   "metadata": {},
   "source": [
    "## References\n",
    "1. https://studyopedia.com/python3/python-operators-with-examples/\n",
    "2. https://realpython.com/python-operators-expressions/#boolean-operators-and-expressions-in-python\n",
    "3. https://www.w3schools.com/python/python_operators.asp"
   ]
  }
 ],
 "metadata": {
  "kernelspec": {
   "display_name": "Python 3 (ipykernel)",
   "language": "python",
   "name": "python3"
  },
  "language_info": {
   "codemirror_mode": {
    "name": "ipython",
    "version": 3
   },
   "file_extension": ".py",
   "mimetype": "text/x-python",
   "name": "python",
   "nbconvert_exporter": "python",
   "pygments_lexer": "ipython3",
   "version": "3.11.7"
  }
 },
 "nbformat": 4,
 "nbformat_minor": 5
}
